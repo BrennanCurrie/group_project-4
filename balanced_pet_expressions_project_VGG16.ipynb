{
  "cells": [
    {
      "cell_type": "code",
      "execution_count": 1,
      "metadata": {
        "id": "e508faf6"
      },
      "outputs": [],
      "source": [
        "# Import Dependencies\n",
        "import os\n",
        "import numpy as np\n",
        "import cv2\n",
        "import matplotlib.pyplot as plt\n",
        "import keras\n",
        "import tensorflow as tf\n",
        "from sklearn.model_selection import train_test_split\n",
        "from glob import glob\n",
        "from PIL import Image\n",
        "\n",
        "from keras.preprocessing import image\n",
        "from keras.datasets import mnist\n",
        "from keras import optimizers\n",
        "from keras.utils import to_categorical\n",
        "from keras.applications.vgg16 import VGG16\n",
        "from keras.applications.vgg16 import preprocess_input\n",
        "from keras.models import load_model\n",
        "\n",
        "from tensorflow.keras.preprocessing.image import ImageDataGenerator\n",
        "from tensorflow.keras.models import Sequential, Model\n",
        "from tensorflow.keras.layers import Conv2D, MaxPooling2D, Flatten, Dense, Dropout, Input, Lambda, AveragePooling2D\n",
        "from tensorflow.keras.layers import BatchNormalization\n",
        "\n",
        "\n"
      ],
      "id": "e508faf6"
    },
    {
      "cell_type": "code",
      "execution_count": 2,
      "metadata": {
        "colab": {
          "base_uri": "https://localhost:8080/"
        },
        "id": "_TPEdqWkAlKQ",
        "outputId": "8f2fe016-c4b8-4913-f50c-50f4ce4bb58d"
      },
      "outputs": [
        {
          "output_type": "stream",
          "name": "stdout",
          "text": [
            "Mounted at /content/drive\n"
          ]
        }
      ],
      "source": [
        "# Set up Google Drive\n",
        "from google.colab import drive\n",
        "drive.mount('/content/drive')"
      ],
      "id": "_TPEdqWkAlKQ"
    },
    {
      "cell_type": "code",
      "execution_count": 3,
      "metadata": {
        "colab": {
          "base_uri": "https://localhost:8080/"
        },
        "id": "yMkxM8-gBy8U",
        "outputId": "901f5b28-b89a-4e23-a810-a15a0197656f"
      },
      "outputs": [
        {
          "output_type": "stream",
          "name": "stdout",
          "text": [
            "/content/drive/MyDrive/balanced_data\n"
          ]
        }
      ],
      "source": [
        "# Change Directory\n",
        "%cd '/content/drive/MyDrive/balanced_data'"
      ],
      "id": "yMkxM8-gBy8U"
    },
    {
      "cell_type": "code",
      "execution_count": 4,
      "metadata": {
        "id": "34P6XoZXCx2u"
      },
      "outputs": [],
      "source": [
        "v_happy = \"/content/drive/MyDrive/balanced_data/valid/happy\"\n",
        "v_sad = \"/content/drive/MyDrive/balanced_data/valid/Sad\"\n",
        "v_angry = \"/content/drive/MyDrive/balanced_data/valid/Angry\"\n",
        "v_other = \"/content/drive/MyDrive/balanced_data/valid/Other\""
      ],
      "id": "34P6XoZXCx2u"
    },
    {
      "cell_type": "code",
      "execution_count": 5,
      "metadata": {
        "id": "t5mUF5WQCxmO"
      },
      "outputs": [],
      "source": [
        "tr_happy = \"/content/drive/MyDrive/balanced_data/train/happy\"\n",
        "tr_sad = \"/content/drive/MyDrive/balanced_data/train/Sad\"\n",
        "tr_angry = \"/content/drive/MyDrive/balanced_data/train/Angry\"\n",
        "tr_other = \"/content/drive/MyDrive/balanced_data/train/Other\""
      ],
      "id": "t5mUF5WQCxmO"
    },
    {
      "cell_type": "code",
      "execution_count": 6,
      "metadata": {
        "id": "0Pc3uRLFCxPo"
      },
      "outputs": [],
      "source": [
        "t_happy = \"/content/drive/MyDrive/balanced_data/test/happy\"\n",
        "t_sad = \"/content/drive/MyDrive/balanced_data/test/Sad\"\n",
        "t_angry = \"/content/drive/MyDrive/balanced_data/test/Angry\"\n",
        "t_other = \"/content/drive/MyDrive/balanced_data/test/Other\""
      ],
      "id": "0Pc3uRLFCxPo"
    },
    {
      "cell_type": "code",
      "execution_count": 7,
      "metadata": {
        "id": "oHd6VWxVCdMn"
      },
      "outputs": [],
      "source": [
        "# Define the path to the dataset folders\n",
        "# happy_folder = \"/content/drive/MyDrive/Data_analytics /group_project_4/pet_expressions_data/happy\"\n",
        "# sad_folder = \"/content/drive/MyDrive/Data_analytics /group_project_4/pet_expressions_data/sad\"\n",
        "# angry_folder = \"/content/drive/MyDrive/Data_analytics /group_project_4/pet_expressions_data/angry\"\n",
        "# other_folder = \"/content/drive/MyDrive/Data_analytics /group_project_4/pet_expressions_data/other\""
      ],
      "id": "oHd6VWxVCdMn"
    },
    {
      "cell_type": "code",
      "execution_count": 8,
      "metadata": {
        "id": "gHD-rY4OGUdC"
      },
      "outputs": [],
      "source": [
        "# Function to load and preprocess images\n",
        "def load_images_from_folder(folder):\n",
        "    images = []\n",
        "    for filename in os.listdir(folder):\n",
        "        img = cv2.imread(os.path.join(folder,filename))\n",
        "        if img is not None:\n",
        "            img = cv2.cvtColor(img, cv2.COLOR_BGR2RGB)\n",
        "            img = cv2.resize(img, (224, 224))  # Resize to a fixed size for the model\n",
        "            images.append(img)\n",
        "    return images"
      ],
      "id": "gHD-rY4OGUdC"
    },
    {
      "cell_type": "code",
      "execution_count": 9,
      "metadata": {
        "id": "c76b61aa"
      },
      "outputs": [],
      "source": [
        "# Load images and labels for each emotion\n",
        "v_happy_images = load_images_from_folder(v_happy)\n",
        "v_sad_images = load_images_from_folder(v_sad)\n",
        "v_angry_images = load_images_from_folder(v_angry)\n",
        "v_other_images = load_images_from_folder(v_other)"
      ],
      "id": "c76b61aa"
    },
    {
      "cell_type": "code",
      "execution_count": 10,
      "metadata": {
        "id": "ElWL8JIqEVlY"
      },
      "outputs": [],
      "source": [
        "tr_happy_images = load_images_from_folder(tr_happy)\n",
        "tr_sad_images = load_images_from_folder(tr_sad)\n",
        "tr_angry_images = load_images_from_folder(tr_angry)\n",
        "tr_other_images = load_images_from_folder(tr_other)"
      ],
      "id": "ElWL8JIqEVlY"
    },
    {
      "cell_type": "code",
      "execution_count": 11,
      "metadata": {
        "id": "CaKk5M1PEWel"
      },
      "outputs": [],
      "source": [
        "t_happy_images = load_images_from_folder(t_happy)\n",
        "t_sad_images = load_images_from_folder(t_sad)\n",
        "t_angry_images = load_images_from_folder(t_angry)\n",
        "t_other_images = load_images_from_folder(t_other)"
      ],
      "id": "CaKk5M1PEWel"
    },
    {
      "cell_type": "code",
      "execution_count": 12,
      "metadata": {
        "colab": {
          "base_uri": "https://localhost:8080/"
        },
        "id": "bI78EeW1yHBr",
        "outputId": "caa1f9fb-65ec-46dd-f407-beea65087b85"
      },
      "outputs": [
        {
          "output_type": "execute_result",
          "data": {
            "text/plain": [
              "(224, 224, 3)"
            ]
          },
          "metadata": {},
          "execution_count": 12
        }
      ],
      "source": [
        "# Check shape, 3 means it is in RGB format\n",
        "v_happy_images[1].shape"
      ],
      "id": "bI78EeW1yHBr"
    },
    {
      "cell_type": "code",
      "execution_count": 13,
      "metadata": {
        "colab": {
          "base_uri": "https://localhost:8080/"
        },
        "id": "StZdpYYWE9P_",
        "outputId": "05a9dd66-84a1-459e-99ae-b48abf88096c"
      },
      "outputs": [
        {
          "output_type": "execute_result",
          "data": {
            "text/plain": [
              "(224, 224, 3)"
            ]
          },
          "metadata": {},
          "execution_count": 13
        }
      ],
      "source": [
        "tr_happy_images[1].shape"
      ],
      "id": "StZdpYYWE9P_"
    },
    {
      "cell_type": "code",
      "execution_count": 14,
      "metadata": {
        "colab": {
          "base_uri": "https://localhost:8080/"
        },
        "id": "Ewb17xvRFBYq",
        "outputId": "d073fb8d-1db9-4000-a80c-a196e2dc2b39"
      },
      "outputs": [
        {
          "output_type": "execute_result",
          "data": {
            "text/plain": [
              "(224, 224, 3)"
            ]
          },
          "metadata": {},
          "execution_count": 14
        }
      ],
      "source": [
        "t_happy_images[1].shape"
      ],
      "id": "Ewb17xvRFBYq"
    },
    {
      "cell_type": "code",
      "execution_count": 15,
      "metadata": {
        "id": "63tbjmnBFJP1"
      },
      "outputs": [],
      "source": [
        "v_happy_labels = [0] * len(v_happy_images)\n",
        "v_sad_labels = [1] * len(v_sad_images)\n",
        "v_angry_labels = [2] * len(v_angry_images)\n",
        "v_other_labels = [3] * len(v_other_images)"
      ],
      "id": "63tbjmnBFJP1"
    },
    {
      "cell_type": "code",
      "execution_count": 16,
      "metadata": {
        "id": "ySrUtExLFI5s"
      },
      "outputs": [],
      "source": [
        "tr_happy_labels = [0] * len(tr_happy_images)\n",
        "tr_sad_labels = [1] * len(tr_sad_images)\n",
        "tr_angry_labels = [2] * len(tr_angry_images)\n",
        "tr_other_labels = [3] * len(tr_other_images)"
      ],
      "id": "ySrUtExLFI5s"
    },
    {
      "cell_type": "code",
      "execution_count": 17,
      "metadata": {
        "id": "vCRS4La-FIbx"
      },
      "outputs": [],
      "source": [
        "t_happy_labels = [0] * len(t_happy_images)\n",
        "t_sad_labels = [1] * len(t_sad_images)\n",
        "t_angry_labels = [2] * len(t_angry_images)\n",
        "t_other_labels = [3] * len(t_other_images)"
      ],
      "id": "vCRS4La-FIbx"
    },
    {
      "cell_type": "code",
      "execution_count": 18,
      "metadata": {
        "id": "7Y5JhOxVEjK5"
      },
      "outputs": [],
      "source": [
        "# Create labels for each emotion category\n",
        "# happy_labels = [0] * len(happy_images)\n",
        "# sad_labels = [1] * len(sad_images)\n",
        "# angry_labels = [2] * len(angry_images)\n",
        "# other_labels = [3] * len(other_images) # 3???? not sure if thats correct"
      ],
      "id": "7Y5JhOxVEjK5"
    },
    {
      "cell_type": "code",
      "execution_count": 19,
      "metadata": {
        "id": "Te1TTvczFpTb"
      },
      "outputs": [],
      "source": [
        "x_train = np.array(tr_happy_images + tr_sad_images + tr_angry_images + tr_other_images)\n",
        "y_train = np.array(tr_happy_labels + tr_sad_labels + tr_angry_labels + tr_other_labels)"
      ],
      "id": "Te1TTvczFpTb"
    },
    {
      "cell_type": "code",
      "execution_count": 20,
      "metadata": {
        "id": "kgh4Uha1FpDk"
      },
      "outputs": [],
      "source": [
        "x_test = np.array(t_happy_images + t_sad_images + t_angry_images + t_other_images)\n",
        "y_test = np.array(t_happy_labels + t_sad_labels + t_angry_labels + t_other_labels)"
      ],
      "id": "kgh4Uha1FpDk"
    },
    {
      "cell_type": "code",
      "execution_count": 21,
      "metadata": {
        "id": "QOD5-VC7Fo0d"
      },
      "outputs": [],
      "source": [
        "x_validate = np.array(v_happy_images + v_sad_images + v_angry_images + v_other_images)\n",
        "y_validate = np.array(v_happy_labels + v_sad_labels + v_angry_labels + v_other_labels)"
      ],
      "id": "QOD5-VC7Fo0d"
    },
    {
      "cell_type": "code",
      "execution_count": 22,
      "metadata": {
        "id": "fE_-U9oSHLmz"
      },
      "outputs": [],
      "source": [
        "# Concatenate images and labels\n",
        "# x = np.array(happy_images + sad_images + angry_images + other_images)\n",
        "# y = np.array(happy_labels + sad_labels + angry_labels + other_labels)"
      ],
      "id": "fE_-U9oSHLmz"
    },
    {
      "cell_type": "code",
      "execution_count": 23,
      "metadata": {
        "id": "EiHnG86aG0G-"
      },
      "outputs": [],
      "source": [
        "x_train = x_train.astype('float32') / 255.0"
      ],
      "id": "EiHnG86aG0G-"
    },
    {
      "cell_type": "code",
      "execution_count": 24,
      "metadata": {
        "id": "SfMrIQTLGz5o"
      },
      "outputs": [],
      "source": [
        "x_test = x_test.astype('float32') / 255.0"
      ],
      "id": "SfMrIQTLGz5o"
    },
    {
      "cell_type": "code",
      "execution_count": 25,
      "metadata": {
        "id": "XGPJa92uGzaY"
      },
      "outputs": [],
      "source": [
        "x_validate = x_validate.astype('float32') / 255.0"
      ],
      "id": "XGPJa92uGzaY"
    },
    {
      "cell_type": "code",
      "execution_count": 26,
      "metadata": {
        "id": "Bggs4WygHL4K"
      },
      "outputs": [],
      "source": [
        "# Normalize pixel values to range [0, 1]\n",
        "# x = x.astype('float32') / 255.0"
      ],
      "id": "Bggs4WygHL4K"
    },
    {
      "cell_type": "code",
      "execution_count": 27,
      "metadata": {
        "id": "DYI2uEM9HDRr"
      },
      "outputs": [],
      "source": [
        "y_train = tf.keras.utils.to_categorical(y_train, 4)"
      ],
      "id": "DYI2uEM9HDRr"
    },
    {
      "cell_type": "code",
      "execution_count": 28,
      "metadata": {
        "id": "urKfJrBEHDGC"
      },
      "outputs": [],
      "source": [
        "y_test = tf.keras.utils.to_categorical(y_test, 4)"
      ],
      "id": "urKfJrBEHDGC"
    },
    {
      "cell_type": "code",
      "execution_count": 29,
      "metadata": {
        "id": "F2MmppRlHC6c"
      },
      "outputs": [],
      "source": [
        "y_validate = tf.keras.utils.to_categorical(y_validate, 4)"
      ],
      "id": "F2MmppRlHC6c"
    },
    {
      "cell_type": "code",
      "execution_count": 30,
      "metadata": {
        "id": "CF-FOR4KHSz1"
      },
      "outputs": [],
      "source": [
        "# One-hot encode the labels\n",
        "# y = tf.keras.utils.to_categorical(y, 4)"
      ],
      "id": "CF-FOR4KHSz1"
    },
    {
      "cell_type": "code",
      "execution_count": 31,
      "metadata": {
        "id": "yDNk4ib-HT_T"
      },
      "outputs": [],
      "source": [
        "# Split the data into training and testing sets\n",
        "# x_train, x_test, y_train, y_test = train_test_split(x, y, test_size=0.2, random_state=100)"
      ],
      "id": "yDNk4ib-HT_T"
    },
    {
      "cell_type": "code",
      "execution_count": 32,
      "metadata": {
        "id": "dXEn6WQ0Gbjz"
      },
      "outputs": [],
      "source": [
        "# Split again into a validation set\n",
        "# x_validate, x_test, y_validate, y_test= train_test_split (x_test,y_test, test_size=.50, random_state=100)"
      ],
      "id": "dXEn6WQ0Gbjz"
    },
    {
      "cell_type": "code",
      "execution_count": 33,
      "metadata": {
        "id": "sMWdLfJgQGeU"
      },
      "outputs": [],
      "source": [
        "# Reshape the images to (224, 224, 3)\n",
        "x_train = np.array([cv2.resize(image, (224, 224)) for image in x_train])\n",
        "x_validate = np.array([cv2.resize(image, (224, 224)) for image in x_validate])"
      ],
      "id": "sMWdLfJgQGeU"
    },
    {
      "cell_type": "code",
      "execution_count": 34,
      "metadata": {
        "colab": {
          "base_uri": "https://localhost:8080/"
        },
        "id": "W3WCLgMyDk67",
        "outputId": "594eacb2-336e-4e19-c682-14bacdfa92ab"
      },
      "outputs": [
        {
          "output_type": "stream",
          "name": "stdout",
          "text": [
            " x train (1000, 224, 224, 3)\n",
            " x test (38, 224, 224, 3)\n",
            " y train (1000, 4)\n",
            " y test (38, 4)\n",
            " x validate (36, 224, 224, 3)\n",
            " y validate (36, 4)\n"
          ]
        }
      ],
      "source": [
        "print (f' x train',x_train.shape)\n",
        "print (f' x test', x_test.shape)\n",
        "print (f' y train', y_train.shape)\n",
        "print (f' y test', y_test.shape)\n",
        "print (f' x validate', x_validate.shape)\n",
        "print (f' y validate', y_validate.shape)"
      ],
      "id": "W3WCLgMyDk67"
    },
    {
      "cell_type": "code",
      "execution_count": 35,
      "metadata": {
        "colab": {
          "base_uri": "https://localhost:8080/"
        },
        "id": "ViWKVSwdEqzO",
        "outputId": "c20cf6a6-aac1-46f3-88b4-23aae6f7a0fb"
      },
      "outputs": [
        {
          "output_type": "stream",
          "name": "stdout",
          "text": [
            "Downloading data from https://storage.googleapis.com/tensorflow/keras-applications/vgg16/vgg16_weights_tf_dim_ordering_tf_kernels_notop.h5\n",
            "58889256/58889256 [==============================] - 0s 0us/step\n",
            "Model: \"model\"\n",
            "_________________________________________________________________\n",
            " Layer (type)                Output Shape              Param #   \n",
            "=================================================================\n",
            " input_1 (InputLayer)        [(None, 224, 224, 3)]     0         \n",
            "                                                                 \n",
            " block1_conv1 (Conv2D)       (None, 224, 224, 64)      1792      \n",
            "                                                                 \n",
            " block1_conv2 (Conv2D)       (None, 224, 224, 64)      36928     \n",
            "                                                                 \n",
            " block1_pool (MaxPooling2D)  (None, 112, 112, 64)      0         \n",
            "                                                                 \n",
            " block2_conv1 (Conv2D)       (None, 112, 112, 128)     73856     \n",
            "                                                                 \n",
            " block2_conv2 (Conv2D)       (None, 112, 112, 128)     147584    \n",
            "                                                                 \n",
            " block2_pool (MaxPooling2D)  (None, 56, 56, 128)       0         \n",
            "                                                                 \n",
            " block3_conv1 (Conv2D)       (None, 56, 56, 256)       295168    \n",
            "                                                                 \n",
            " block3_conv2 (Conv2D)       (None, 56, 56, 256)       590080    \n",
            "                                                                 \n",
            " block3_conv3 (Conv2D)       (None, 56, 56, 256)       590080    \n",
            "                                                                 \n",
            " block3_pool (MaxPooling2D)  (None, 28, 28, 256)       0         \n",
            "                                                                 \n",
            " block4_conv1 (Conv2D)       (None, 28, 28, 512)       1180160   \n",
            "                                                                 \n",
            " block4_conv2 (Conv2D)       (None, 28, 28, 512)       2359808   \n",
            "                                                                 \n",
            " block4_conv3 (Conv2D)       (None, 28, 28, 512)       2359808   \n",
            "                                                                 \n",
            " block4_pool (MaxPooling2D)  (None, 14, 14, 512)       0         \n",
            "                                                                 \n",
            " block5_conv1 (Conv2D)       (None, 14, 14, 512)       2359808   \n",
            "                                                                 \n",
            " block5_conv2 (Conv2D)       (None, 14, 14, 512)       2359808   \n",
            "                                                                 \n",
            " block5_conv3 (Conv2D)       (None, 14, 14, 512)       2359808   \n",
            "                                                                 \n",
            " block5_pool (MaxPooling2D)  (None, 7, 7, 512)         0         \n",
            "                                                                 \n",
            " flatten (Flatten)           (None, 25088)             0         \n",
            "                                                                 \n",
            " dense (Dense)               (None, 4)                 100356    \n",
            "                                                                 \n",
            "=================================================================\n",
            "Total params: 14,815,044\n",
            "Trainable params: 100,356\n",
            "Non-trainable params: 14,714,688\n",
            "_________________________________________________________________\n"
          ]
        }
      ],
      "source": [
        "#here [3] denotes for RGB images(3 channels)\n",
        "# Set the paramaters for the vgg16 model\n",
        "Image_size = [224, 224]\n",
        "vgg = VGG16(input_shape= Image_size + [3], weights='imagenet', include_top=False)\n",
        "\n",
        "#don't train existing weights\n",
        "for layer in vgg.layers:\n",
        " layer.trainable = False\n",
        "\n",
        "# Set the inputs and outputs for the model\n",
        "x = Flatten()(vgg.output)\n",
        "prediction = Dense(4, activation='softmax')(x)\n",
        "model = Model(inputs=vgg.input, outputs=prediction)\n",
        "\n",
        "#compile according to standard metrics found on the internet\n",
        "model.compile(optimizer = tf.keras.optimizers.RMSprop(learning_rate=0.0001), loss = 'binary_crossentropy',metrics = ['acc'])\n",
        "model.summary()"
      ],
      "id": "ViWKVSwdEqzO"
    },
    {
      "cell_type": "code",
      "execution_count": 36,
      "metadata": {
        "colab": {
          "base_uri": "https://localhost:8080/"
        },
        "id": "QfXKYe6KF4Iv",
        "outputId": "3d10ffa6-6545-49fc-e081-df597ea145ca"
      },
      "outputs": [
        {
          "output_type": "stream",
          "name": "stdout",
          "text": [
            "Epoch 1/10\n",
            "32/32 [==============================] - ETA: 0s - loss: 0.5460 - acc: 0.3820 "
          ]
        },
        {
          "output_type": "stream",
          "name": "stderr",
          "text": [
            "WARNING:tensorflow:Your input ran out of data; interrupting training. Make sure that your dataset or generator can generate at least `steps_per_epoch * epochs` batches (in this case, 20 batches). You may need to use the repeat() function when building your dataset.\n"
          ]
        },
        {
          "output_type": "stream",
          "name": "stdout",
          "text": [
            "\b\b\b\b\b\b\b\b\b\b\b\b\b\b\b\b\b\b\b\b\b\b\b\b\b\b\b\b\b\b\b\b\b\b\b\b\b\b\b\b\b\b\b\b\b\b\b\b\b\b\b\b\b\b\b\b\b\b\b\b\b\b\b\b\b\b\b\b\b\b\b\b\b\b\b\b\b\r32/32 [==============================] - 669s 21s/step - loss: 0.5460 - acc: 0.3820 - val_loss: 0.5370 - val_acc: 0.3333\n",
            "Epoch 2/10\n",
            "32/32 [==============================] - 637s 20s/step - loss: 0.4813 - acc: 0.5330\n",
            "Epoch 3/10\n",
            "32/32 [==============================] - 633s 20s/step - loss: 0.4433 - acc: 0.6330\n",
            "Epoch 4/10\n",
            "32/32 [==============================] - 624s 20s/step - loss: 0.4090 - acc: 0.6860\n",
            "Epoch 5/10\n",
            "32/32 [==============================] - 628s 20s/step - loss: 0.3812 - acc: 0.7270\n",
            "Epoch 6/10\n",
            "32/32 [==============================] - 626s 20s/step - loss: 0.3579 - acc: 0.7650\n",
            "Epoch 7/10\n",
            "32/32 [==============================] - 622s 19s/step - loss: 0.3343 - acc: 0.7960\n",
            "Epoch 8/10\n",
            "32/32 [==============================] - 626s 20s/step - loss: 0.3174 - acc: 0.8140\n",
            "Epoch 9/10\n",
            "32/32 [==============================] - 623s 19s/step - loss: 0.2975 - acc: 0.8480\n",
            "Epoch 10/10\n",
            "32/32 [==============================] - 623s 19s/step - loss: 0.2791 - acc: 0.8800\n"
          ]
        }
      ],
      "source": [
        "#Fit the model\n",
        "###################################################################################\n",
        "# Need to check the size of the validation datasets\n",
        "# Need to be Make sure that  dataset or generator can generate at least `steps_per_epoch * epochs` batches (in this case, 20 batches)\n",
        "history = model.fit(\n",
        "                    x_train, y_train,\n",
        "                    epochs = 10, verbose=1,\n",
        "                    validation_data = (x_validate, y_validate),\n",
        "                    validation_steps = 20)"
      ],
      "id": "QfXKYe6KF4Iv"
    },
    {
      "cell_type": "code",
      "execution_count": 37,
      "metadata": {
        "colab": {
          "base_uri": "https://localhost:8080/"
        },
        "id": "oRNtp3h_c6xb",
        "outputId": "3ca56987-5232-42b1-b356-e5d191e3b35d"
      },
      "outputs": [
        {
          "output_type": "stream",
          "name": "stdout",
          "text": [
            "32/32 - 630s - loss: 0.2643 - acc: 0.8790 - 630s/epoch - 20s/step\n",
            "Train Accuracy: 0.8790000081062317\n",
            "2/2 - 25s - loss: 0.5330 - acc: 0.5263 - 25s/epoch - 12s/step\n",
            "Test Accuracy: 0.5263158082962036\n"
          ]
        }
      ],
      "source": [
        "# Evaluate the model on the train data\n",
        "train_loss, train_accuracy = model.evaluate(x_train, y_train, verbose=2)\n",
        "print(\"Train Accuracy:\", train_accuracy)\n",
        "\n",
        "# Evaluate the model on test data\n",
        "test_loss, test_accuracy = model.evaluate(x_test, y_test, verbose=2)\n",
        "print(\"Test Accuracy:\", test_accuracy)"
      ],
      "id": "oRNtp3h_c6xb"
    },
    {
      "cell_type": "code",
      "execution_count": 38,
      "metadata": {
        "colab": {
          "base_uri": "https://localhost:8080/",
          "height": 507
        },
        "id": "onCrsbi_KhOm",
        "outputId": "1f6af26f-039e-4fc8-c61e-c6095fa9a28f"
      },
      "outputs": [
        {
          "output_type": "display_data",
          "data": {
            "text/plain": [
              "<Figure size 1000x500 with 2 Axes>"
            ],
            "image/png": "[encoded data removed]"
          },
          "metadata": {}
        }
      ],
      "source": [
        "# Plot training and validation accuracy\n",
        "import matplotlib.pyplot as plt\n",
        "plt.figure(figsize=(10, 5))\n",
        "\n",
        "plt.subplot(1, 2, 1)\n",
        "plt.plot(history.history['acc'], label='Training Accuracy')\n",
        "plt.plot(history.history['val_acc'], label='Validation Accuracy')\n",
        "plt.xlabel('Epoch')\n",
        "plt.ylabel('Accuracy')\n",
        "plt.title('Training and Validation Accuracy')\n",
        "plt.legend()\n",
        "\n",
        "# Plot training and validation loss\n",
        "plt.subplot(1, 2, 2)\n",
        "plt.plot(history.history['loss'], label='Training Loss')\n",
        "plt.plot(history.history['val_loss'], label='Validation Loss')\n",
        "plt.xlabel('Epoch')\n",
        "plt.ylabel('Loss')\n",
        "plt.title('Training and Validation Loss')\n",
        "plt.legend()\n",
        "\n",
        "plt.tight_layout()\n",
        "plt.show()"
      ],
      "id": "onCrsbi_KhOm"
    },
    {
      "cell_type": "code",
      "execution_count": 39,
      "metadata": {
        "id": "G8wnDM_Jg6hE"
      },
      "outputs": [],
      "source": [
        "# Save the trained model\n",
        "model.save(\"pet_expressions_model_vgg16.h5\")"
      ],
      "id": "G8wnDM_Jg6hE"
    },
    {
      "cell_type": "code",
      "execution_count": 40,
      "metadata": {
        "id": "J9TWPC47I8WW"
      },
      "outputs": [],
      "source": [
        "##################################################################################"
      ],
      "id": "J9TWPC47I8WW"
    },
    {
      "cell_type": "code",
      "execution_count": 41,
      "metadata": {
        "id": "OI2oPULfH34N"
      },
      "outputs": [],
      "source": [
        "# Load the saved model\n",
        "\n",
        "loaded_model = load_model(\"pet_expressions_model.h5\")"
      ],
      "id": "OI2oPULfH34N"
    },
    {
      "cell_type": "code",
      "execution_count": 42,
      "metadata": {
        "id": "vApWzW3iIBOL"
      },
      "outputs": [],
      "source": [
        "# Function to load and preprocess images\n",
        "\n",
        "#def load_images_from_folder(folder):\n",
        " #   images = []\n",
        "  #  for filename in os.listdir(folder):\n",
        "   #     img = cv2.imread(os.path.join(folder, filename))\n",
        "    #    if img is not None:\n",
        "     #       img = cv2.cvtColor(img, cv2.COLOR_BGR2GRAY)\n",
        "      #      img = cv2.resize(img, (224, 224))  # Resize to a fixed size for the model\n",
        "       #     images.append(img)\n",
        "  #  return images"
      ],
      "id": "vApWzW3iIBOL"
    },
    {
      "cell_type": "code",
      "execution_count": 46,
      "metadata": {
        "id": "G2hJ_t8uIBXv"
      },
      "outputs": [],
      "source": [
        "# Load a custom test image\n",
        "\n",
        "#custom_test_image_path = \"/content/drive/MyDrive/Pictures/\"\n",
        "\n",
        "#custom_test_image = cv2.imread(custom_test_image_path)\n",
        "#custom_test_image = cv2.cvtColor(custom_test_image, cv2.COLOR_BGR2GRAY)\n",
        "#custom_test_image = cv2.resize(custom_test_image, (224, 224))\n",
        "#custom_test_image = custom_test_image.astype('float32') / 255.0"
      ],
      "id": "G2hJ_t8uIBXv"
    },
    {
      "cell_type": "code",
      "source": [
        "#dinky = load_images_from_folder(custom_test_image_path)"
      ],
      "metadata": {
        "id": "JvZHqGefjeHo"
      },
      "id": "JvZHqGefjeHo",
      "execution_count": 47,
      "outputs": []
    },
    {
      "cell_type": "code",
      "execution_count": 50,
      "metadata": {
        "id": "zoagi0XAIBhH"
      },
      "outputs": [],
      "source": [
        "# Reshape the image to match the model input shape\n",
        "\n",
        "#dinky = np.expand_dims(dinky, axis=0)\n",
        "#dinky = np.expand_dims(dinky, axis=-1)"
      ],
      "id": "zoagi0XAIBhH"
    },
    {
      "cell_type": "code",
      "execution_count": 52,
      "metadata": {
        "id": "r39cICOXIBqP"
      },
      "outputs": [],
      "source": [
        "# Make predictions on the custom test image\n",
        "\n",
        "#prediction = loaded_model.predict(dinky)\n",
        "#prediction_prob = prediction[0]"
      ],
      "id": "r39cICOXIBqP"
    },
    {
      "cell_type": "code",
      "execution_count": null,
      "metadata": {
        "id": "4QkEWBRMIBzy"
      },
      "outputs": [],
      "source": [
        "#emotion_label = np.argmax(prediction[0])"
      ],
      "id": "4QkEWBRMIBzy"
    },
    {
      "cell_type": "code",
      "execution_count": null,
      "metadata": {
        "id": "CiimcfpxH4CD"
      },
      "outputs": [],
      "source": [
        "# Map the predicted label to emotion class\n",
        "\n",
        "#emotion_classes = {0: 'happy', 1: 'sad', 2: 'angry'}\n",
        "#predicted_emotion = emotion_classes[emotion_label]"
      ],
      "id": "CiimcfpxH4CD"
    },
    {
      "cell_type": "code",
      "execution_count": null,
      "metadata": {
        "id": "MF1XmXXHImD9"
      },
      "outputs": [],
      "source": [
        "# Print the custom test image and its predicted label\n",
        "\n",
        "#print(f\"Predicted Emotion: {predicted_emotion}\")\n",
        "#print(f\"Confidence [happy, sad, angry]: {prediction_prob}\")"
      ],
      "id": "MF1XmXXHImD9"
    },
    {
      "cell_type": "code",
      "execution_count": null,
      "metadata": {
        "id": "25M2Dw8nImNk"
      },
      "outputs": [],
      "source": [
        "#Display the custom test image using matplotlib\n",
        "\n",
        "#plt.imshow(custom_test_image[0, :, :, 0])\n",
        "#plt.title(f\"Predicted Emotion: {predicted_emotion}\")\n",
        "#plt.axis('off')  # Hide axes\n",
        "#plt.show()"
      ],
      "id": "25M2Dw8nImNk"
    },
    {
      "cell_type": "code",
      "execution_count": null,
      "metadata": {
        "id": "VgZQk-xoImVE"
      },
      "outputs": [],
      "source": [
        "# Display the original custom test image using PIL\n",
        "\n",
        "#img_pil = Image.open(custom_test_image_path)\n",
        "#plt.imshow(np.array(img_pil))\n",
        "#plt.title(f\"Predicted Emotion: {predicted_emotion}\")\n",
        "#plt.axis('off')  # Hide axes\n",
        "#plt.show()"
      ],
      "id": "VgZQk-xoImVE"
    }
  ],
  "metadata": {
    "colab": {
      "provenance": []
    },
    "kernelspec": {
      "display_name": "Python 3 (ipykernel)",
      "language": "python",
      "name": "python3"
    },
    "language_info": {
      "codemirror_mode": {
        "name": "ipython",
        "version": 3
      },
      "file_extension": ".py",
      "mimetype": "text/x-python",
      "name": "python",
      "nbconvert_exporter": "python",
      "pygments_lexer": "ipython3",
      "version": "3.9.13"
    }
  },
  "nbformat": 4,
  "nbformat_minor": 5
}