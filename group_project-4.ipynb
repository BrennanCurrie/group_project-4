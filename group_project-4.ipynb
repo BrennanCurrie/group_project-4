{
 "cells": [
  {
   "cell_type": "code",
   "execution_count": null,
   "id": "0cd57a59",
   "metadata": {},
   "outputs": [],
   "source": [
    "from sklearn.model_selection import train_test_split\n",
    "from sklearn.preprocessing import StandardScaler\n",
    "import pandas as pd\n",
    "import tensorflow as tf"
   ]
  },
  {
   "cell_type": "code",
   "execution_count": null,
   "id": "e80542f2",
   "metadata": {},
   "outputs": [],
   "source": [
    "# Import and read in data\n",
    "\n",
    "df = pd.read_csv(\"\")\n",
    "df.head(10)"
   ]
  },
  {
   "cell_type": "code",
   "execution_count": null,
   "id": "2f02e166",
   "metadata": {},
   "outputs": [],
   "source": [
    "# Data Preprocessing\n"
   ]
  },
  {
   "cell_type": "code",
   "execution_count": null,
   "id": "70ec0a34",
   "metadata": {},
   "outputs": [],
   "source": [
    "# Convert categorical data to numeric with `pd.get_dummies`\n",
    "dummies = pd.get_dummies(df)\n",
    "\n",
    "# Display the transformed data\n",
    "dummies.tail()\n",
    "dummies.info()"
   ]
  },
  {
   "cell_type": "code",
   "execution_count": null,
   "id": "0c2c9fde",
   "metadata": {},
   "outputs": [],
   "source": [
    "# Split our preprocessed data into our features and target arrays\n",
    "x_features = dummies.drop('', axis=1)\n",
    "y_targets = dummies['']"
   ]
  },
  {
   "cell_type": "code",
   "execution_count": null,
   "id": "debbb519",
   "metadata": {},
   "outputs": [],
   "source": [
    "# Split the preprocessed data into a training and testing dataset\n",
    "x_train, x_test, y_train, y_test= train_test_split(x_features, y_targets, test_size=.65)"
   ]
  },
  {
   "cell_type": "code",
   "execution_count": null,
   "id": "98378d4f",
   "metadata": {},
   "outputs": [],
   "source": [
    "# Create a StandardScaler\n",
    "scaler = StandardScaler()\n",
    "\n",
    "# Fit the StandardScaler\n",
    "x_scaler = scaler.fit(x_train)\n",
    "\n",
    "# Scale the data\n",
    "x_train_scaled = x_scaler.transform(x_train)\n",
    "x_test_scaled = x_scaler.transform(x_test)"
   ]
  },
  {
   "cell_type": "code",
   "execution_count": null,
   "id": "52c33b57",
   "metadata": {},
   "outputs": [],
   "source": [
    "from keras.api._v2.keras.layers import LeakyReLU\n",
    "\n",
    "# Create Method that creates a new sequential model with hyperparameter options\n",
    "\n",
    "def create_model(hp):\n",
    "  nn = tf.keras.models.Sequential()\n",
    "\n",
    "  # kerastunor to decide best activation function\n",
    "  activation = hp.Choice('activation', ['LeakyReLU','tanh','sigmoid'])\n",
    "\n",
    "  # kerastunor to decide number of neurons in first layer\n",
    "  nn.add(tf.keras.layers.Dense(units=hp.Int('first_units', min_value=1, max_value=10,step=2), activation='activation', input_dim=43))\n",
    "\n",
    "  # kerastuner to decide number of hidden layers and neurons in hidden layers\n",
    "  for i in range(hp.Int('num_layers', 1, 6)):\n",
    "    nn_model.add(tf.keras.layers.Dense(units=hp.Int('units_' + str(i),\n",
    "                                                    min_value=1,\n",
    "                                                    max_value=10,\n",
    "                                                    step=2),\n",
    "                                       activation=activation))\n",
    "  # output layer\n",
    "  nn_model.add(tf.keras.layers.Dense(units=1, activation=\"sigmoid\"))\n",
    "  # Compile the model\n",
    "  nn.compile(loss='binary_crossentropy', optimizer='adam', metrics=['accuracy'])\n",
    "\n",
    "return nn"
   ]
  },
  {
   "cell_type": "code",
   "execution_count": null,
   "id": "4ee5c38f",
   "metadata": {},
   "outputs": [],
   "source": [
    "import keras_tuner as kt\n",
    "\n",
    "tuner = kt.Hyperband(create_model, objective='val_accuracy', maxepochs=20,hyperband_iterations=2)\n",
    "\n",
    "# Run kerastunor\n",
    "tuner.search(x_train_scaled, y_train, epochs=20, validation_data=(x_test_scaled,y_test))\n",
    "\n",
    "# Get best model hyperparameters\n",
    "best_hyper = tuner.get_best_hyperparameters(1)[0]\n",
    "best_hyper.values"
   ]
  },
  {
   "cell_type": "code",
   "execution_count": null,
   "id": "1489e139",
   "metadata": {},
   "outputs": [],
   "source": [
    "# Evaluate best model against full test data\n",
    "\n",
    "best_model = tuner.get_best_models(1)[0]\n",
    "model_loss, model_accuracy = best_model.evaluate(x_test_scaled,y_test,verbose=2)\n",
    "\n",
    "print(f\"Loss: {model_loss}, Accuracy: {model_accuracy}\")"
   ]
  }
 ],
 "metadata": {
  "kernelspec": {
   "display_name": "Python 3 (ipykernel)",
   "language": "python",
   "name": "python3"
  },
  "language_info": {
   "codemirror_mode": {
    "name": "ipython",
    "version": 3
   },
   "file_extension": ".py",
   "mimetype": "text/x-python",
   "name": "python",
   "nbconvert_exporter": "python",
   "pygments_lexer": "ipython3",
   "version": "3.9.13"
  }
 },
 "nbformat": 4,
 "nbformat_minor": 5
}
