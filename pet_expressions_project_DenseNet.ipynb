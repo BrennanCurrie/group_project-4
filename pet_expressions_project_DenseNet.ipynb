{
  "cells": [
    {
      "cell_type": "code",
      "execution_count": 41,
      "metadata": {
        "id": "e508faf6"
      },
      "outputs": [],
      "source": [
        "# Import Dependencies\n",
        "import os\n",
        "import cv2\n",
        "import numpy as np\n",
        "from sklearn.model_selection import train_test_split\n",
        "from keras.utils import np_utils\n",
        "from keras.models import Sequential\n",
        "from keras.layers import Dense, Conv2D, MaxPooling2D, Flatten, Dropout\n",
        "from IPython.display import display, Image\n",
        "from keras.layers import BatchNormalization\n",
        "from keras.callbacks import EarlyStopping\n",
        "from tensorflow.keras.applications import ResNet50, DenseNet121, EfficientNetB0\n",
        "from tensorflow.keras.layers import Dense, GlobalAveragePooling2D\n",
        "from tensorflow.keras.models import Model\n",
        "from sklearn.model_selection import train_test_split\n",
        "from tensorflow.keras.callbacks import EarlyStopping, ReduceLROnPlateau\n",
        "from sklearn.model_selection import train_test_split\n",
        "import matplotlib.pyplot as plt\n",
        "%matplotlib inline\n",
        "import matplotlib.image as mpimg\n",
        "import os\n",
        "from keras.utils import to_categorical"
      ],
      "id": "e508faf6"
    },
    {
      "cell_type": "code",
      "execution_count": 42,
      "metadata": {
        "colab": {
          "base_uri": "https://localhost:8080/"
        },
        "id": "_TPEdqWkAlKQ",
        "outputId": "23bab496-fe07-4f14-bb71-c572bdfb334d"
      },
      "outputs": [
        {
          "output_type": "stream",
          "name": "stdout",
          "text": [
            "Drive already mounted at /content/drive; to attempt to forcibly remount, call drive.mount(\"/content/drive\", force_remount=True).\n"
          ]
        }
      ],
      "source": [
        "# Set up Google Drive\n",
        "from google.colab import drive\n",
        "drive.mount('/content/drive')"
      ],
      "id": "_TPEdqWkAlKQ"
    },
    {
      "cell_type": "code",
      "execution_count": 43,
      "metadata": {
        "colab": {
          "base_uri": "https://localhost:8080/"
        },
        "id": "yMkxM8-gBy8U",
        "outputId": "39a52874-42e9-440f-9a12-b63298f5426e"
      },
      "outputs": [
        {
          "output_type": "stream",
          "name": "stdout",
          "text": [
            "/content/drive/MyDrive/pet_expressions_data\n"
          ]
        }
      ],
      "source": [
        "# Change Directory\n",
        "%cd /content/drive/MyDrive/pet_expressions_data"
      ],
      "id": "yMkxM8-gBy8U"
    },
    {
      "cell_type": "code",
      "execution_count": 44,
      "metadata": {
        "id": "oHd6VWxVCdMn"
      },
      "outputs": [],
      "source": [
        "# Define the path to the dataset folders\n",
        "happy_folder = \"/content/drive/MyDrive/pet_expressions_data/happy\"\n",
        "sad_folder = \"/content/drive/MyDrive/pet_expressions_data/sad\"\n",
        "angry_folder = \"/content/drive/MyDrive/pet_expressions_data/angry\"\n",
        "other_folder = \"/content/drive/MyDrive/pet_expressions_data/other\""
      ],
      "id": "oHd6VWxVCdMn"
    },
    {
      "cell_type": "code",
      "execution_count": 45,
      "metadata": {
        "id": "U7P5XmOCRo28"
      },
      "outputs": [],
      "source": [
        "# Check the number of pictures in each 'emotion' folder, ideally we would want this to be equal\n",
        "# Define function to count picturues within a folder, takes path as input\n",
        "\n",
        "def count_pics(folder_path):\n",
        "    picture_extensions = ['.jpg', '.jpeg', '.png', '.gif', '.bmp']\n",
        "    picture_count = 0\n",
        "\n",
        "    # Check if the provided folder path exists\n",
        "    if not os.path.exists(folder_path):\n",
        "        print(\"Folder path does not exist.\")\n",
        "        return 0\n",
        "\n",
        "    # Get a list of files in the folder\n",
        "    files = os.listdir(folder_path)\n",
        "\n",
        "    # Count pictures with valid extensions\n",
        "    for file in files:\n",
        "        _, extension = os.path.splitext(file)\n",
        "        if extension.lower() in picture_extensions:\n",
        "            picture_count += 1\n",
        "\n",
        "    return picture_count"
      ],
      "id": "U7P5XmOCRo28"
    },
    {
      "cell_type": "code",
      "execution_count": 46,
      "metadata": {
        "colab": {
          "base_uri": "https://localhost:8080/"
        },
        "id": "7gn4cZDKUKJi",
        "outputId": "274b55f1-a892-43a4-be80-332b7601014b"
      },
      "outputs": [
        {
          "output_type": "stream",
          "name": "stdout",
          "text": [
            "Number of pictures in the HAPPY folder: 312\n"
          ]
        }
      ],
      "source": [
        "# Happy\n",
        "happy_picture_count = count_pics(happy_folder)\n",
        "print(f\"Number of pictures in the HAPPY folder: {happy_picture_count}\")"
      ],
      "id": "7gn4cZDKUKJi"
    },
    {
      "cell_type": "code",
      "execution_count": 47,
      "metadata": {
        "colab": {
          "base_uri": "https://localhost:8080/"
        },
        "id": "JYCbnDnMVHbI",
        "outputId": "ba70b4e7-ea8b-4b27-c22a-4a7c368146d9"
      },
      "outputs": [
        {
          "output_type": "stream",
          "name": "stdout",
          "text": [
            "Number of pictures in the SAD folder: 305\n"
          ]
        }
      ],
      "source": [
        "# Sad\n",
        "sad_picture_count = count_pics(sad_folder)\n",
        "print(f\"Number of pictures in the SAD folder: {sad_picture_count}\")"
      ],
      "id": "JYCbnDnMVHbI"
    },
    {
      "cell_type": "code",
      "execution_count": 48,
      "metadata": {
        "colab": {
          "base_uri": "https://localhost:8080/"
        },
        "id": "IZNVKYnhVHx2",
        "outputId": "3ef17ae3-b124-4750-9336-52d6e6c9545c"
      },
      "outputs": [
        {
          "output_type": "stream",
          "name": "stdout",
          "text": [
            "Number of pictures in the ANGRY folder: 294\n"
          ]
        }
      ],
      "source": [
        "# Angry\n",
        "angry_picture_count = count_pics(angry_folder)\n",
        "print(f\"Number of pictures in the ANGRY folder: {angry_picture_count}\")"
      ],
      "id": "IZNVKYnhVHx2"
    },
    {
      "cell_type": "code",
      "execution_count": 49,
      "metadata": {
        "id": "pPVPzNS_VIFy",
        "colab": {
          "base_uri": "https://localhost:8080/"
        },
        "outputId": "e20797d2-6511-48ed-ec97-45c1b1638648"
      },
      "outputs": [
        {
          "output_type": "stream",
          "name": "stdout",
          "text": [
            "Number of pictures in the  OTHER folder: 259\n"
          ]
        }
      ],
      "source": [
        " # Other\n",
        "other_picture_count = count_pics(other_folder)\n",
        "print(f\"Number of pictures in the  OTHER folder: {other_picture_count}\")"
      ],
      "id": "pPVPzNS_VIFy"
    },
    {
      "cell_type": "code",
      "execution_count": 50,
      "metadata": {
        "id": "gHD-rY4OGUdC"
      },
      "outputs": [],
      "source": [
        "# Function to load and preprocess images\n",
        "def load_images_from_folder(folder):\n",
        "    images = []\n",
        "    for filename in os.listdir(folder):\n",
        "        img = cv2.imread(os.path.join(folder,filename))\n",
        "        if img is not None:\n",
        "            img = cv2.cvtColor(img, cv2.COLOR_BGR2GRAY)\n",
        "            img = cv2.resize(img, (48, 48))  # Resize to a fixed size for the model\n",
        "            images.append(img)\n",
        "    return images"
      ],
      "id": "gHD-rY4OGUdC"
    },
    {
      "cell_type": "code",
      "execution_count": 51,
      "metadata": {
        "id": "c76b61aa"
      },
      "outputs": [],
      "source": [
        "# Load images and labels for each emotion\n",
        "happy_images = load_images_from_folder(happy_folder)\n",
        "sad_images = load_images_from_folder(sad_folder)\n",
        "angry_images = load_images_from_folder(angry_folder)\n",
        "other_images = load_images_from_folder(other_folder)"
      ],
      "id": "c76b61aa"
    },
    {
      "cell_type": "code",
      "execution_count": 53,
      "metadata": {
        "id": "7Y5JhOxVEjK5"
      },
      "outputs": [],
      "source": [
        "# Create labels for each emotion category\n",
        "happy_labels = [0] * len(happy_images)\n",
        "sad_labels = [1] * len(sad_images)\n",
        "angry_labels = [2] * len(angry_images)\n",
        "other_labels = [3] * len(other_images)"
      ],
      "id": "7Y5JhOxVEjK5"
    },
    {
      "cell_type": "code",
      "execution_count": 54,
      "metadata": {
        "id": "fE_-U9oSHLmz"
      },
      "outputs": [],
      "source": [
        "# Concatenate images and labels\n",
        "x = np.array(happy_images + sad_images + angry_images + other_images)\n",
        "y = np.array(happy_labels + sad_labels + angry_labels + other_labels)"
      ],
      "id": "fE_-U9oSHLmz"
    },
    {
      "cell_type": "code",
      "execution_count": 55,
      "metadata": {
        "id": "Bggs4WygHL4K"
      },
      "outputs": [],
      "source": [
        "# Normalize pixel values to range [0, 1]\n",
        "x = x.astype('float32') / 255.0"
      ],
      "id": "Bggs4WygHL4K"
    },
    {
      "cell_type": "code",
      "execution_count": 56,
      "metadata": {
        "id": "CF-FOR4KHSz1"
      },
      "outputs": [],
      "source": [
        "\n",
        "# One-hot encode the labels\n",
        "\n",
        "from tensorflow.keras.utils import to_categorical\n",
        "\n",
        "y = to_categorical(y, 4)"
      ],
      "id": "CF-FOR4KHSz1"
    },
    {
      "cell_type": "code",
      "execution_count": 57,
      "metadata": {
        "id": "yDNk4ib-HT_T"
      },
      "outputs": [],
      "source": [
        "# Split the data into training and testing sets\n",
        "x_train, x_test, y_train, y_test = train_test_split(x, y, test_size=0.2, random_state=100)"
      ],
      "id": "yDNk4ib-HT_T"
    },
    {
      "cell_type": "code",
      "source": [
        "# Data pre-processing - resizing images to specific shapes for model input\n",
        "input_shape_densenet = (224, 224, 3)\n",
        "\n",
        "# Function to resize pictures to variable shapes defined above\n",
        "def resize_pics(images, input_shape):\n",
        "    resized_images = []\n",
        "    for img in images:\n",
        "        img_resized = cv2.resize(img, (input_shape[0], input_shape[1]))\n",
        "        img_resized = np.expand_dims(img_resized, axis=-1)\n",
        "        img_resized = np.repeat(img_resized, 3, axis=-1)  # Add three channels to convert grayscale to RGB\n",
        "        resized_images.append(img_resized)\n",
        "    return np.array(resized_images)\n",
        "\n",
        "# Utilize function above to resize data\n",
        "x_train_resized_densenet = resize_pics(x_train, input_shape_densenet)\n"
      ],
      "metadata": {
        "id": "tgyVFrupWu_A"
      },
      "id": "tgyVFrupWu_A",
      "execution_count": 58,
      "outputs": []
    },
    {
      "cell_type": "code",
      "source": [
        "# Fit DenseNet Model\n",
        "densenet_base_model = DenseNet121(weights='imagenet', include_top=False, input_shape=input_shape_densenet)\n",
        "densenet_base_model.trainable = False"
      ],
      "metadata": {
        "id": "1hPltMvvXF7i",
        "colab": {
          "base_uri": "https://localhost:8080/"
        },
        "outputId": "dc339843-3a1a-4066-acda-e6abc98a2ad8"
      },
      "id": "1hPltMvvXF7i",
      "execution_count": 59,
      "outputs": [
        {
          "output_type": "stream",
          "name": "stdout",
          "text": [
            "Downloading data from https://storage.googleapis.com/tensorflow/keras-applications/densenet/densenet121_weights_tf_dim_ordering_tf_kernels_notop.h5\n",
            "29084464/29084464 [==============================] - 0s 0us/step\n"
          ]
        }
      ]
    },
    {
      "cell_type": "code",
      "source": [
        "# Add custom classification head to the DenseNet model\n",
        "densenet_global_avg_pooling = GlobalAveragePooling2D()(densenet_base_model.output)\n",
        "densenet_output = Dense(4, activation='softmax')(densenet_global_avg_pooling)\n",
        "densenet_model = Model(inputs=densenet_base_model.input, outputs=densenet_output)"
      ],
      "metadata": {
        "id": "bUIPDH_rXN21"
      },
      "id": "bUIPDH_rXN21",
      "execution_count": 66,
      "outputs": []
    },
    {
      "cell_type": "code",
      "source": [
        "# Compile the DenseNet model\n",
        "densenet_model.compile(loss='categorical_crossentropy', optimizer='adam', metrics=['accuracy'])"
      ],
      "metadata": {
        "id": "taY4WEMAXN6k"
      },
      "id": "taY4WEMAXN6k",
      "execution_count": 67,
      "outputs": []
    },
    {
      "cell_type": "code",
      "source": [
        "# Establish early stopping\n",
        "early_stopping = EarlyStopping(monitor='val_loss', patience=5, restore_best_weights=True)\n",
        "lr_scheduler = ReduceLROnPlateau(monitor='val_loss', patience=5, factor=0.5, min_lr=1e-7)"
      ],
      "metadata": {
        "id": "qUsi3wynXXeN"
      },
      "id": "qUsi3wynXXeN",
      "execution_count": 68,
      "outputs": []
    },
    {
      "cell_type": "code",
      "source": [
        "# Passing epochs through variable\n",
        "######EPOCS ARE ONLY SET TO 5 WARNING: LONG RUN TIME####\n",
        "epochs=50"
      ],
      "metadata": {
        "id": "lQSqcX1ycUKE"
      },
      "id": "lQSqcX1ycUKE",
      "execution_count": 69,
      "outputs": []
    },
    {
      "cell_type": "code",
      "source": [
        "# Train the models on resized training data and validation split,monitoring the validation loss and using the early stopping and learning rate scheduling callbacks to stop when necessary.\n",
        "######EPOCS ARE ONLY SET TO 5 WARNING: LONG RUN TIME####\n",
        "densenet_history = densenet_model.fit(x_train_resized_densenet, y_train, batch_size=64, epochs=epochs, validation_split=0.1,callbacks=[early_stopping, lr_scheduler])\n"
      ],
      "metadata": {
        "id": "7FCVuwYsXXiH",
        "colab": {
          "base_uri": "https://localhost:8080/"
        },
        "outputId": "8462249e-36d7-4500-9eda-e98bfc9c7946"
      },
      "id": "7FCVuwYsXXiH",
      "execution_count": 70,
      "outputs": [
        {
          "output_type": "stream",
          "name": "stdout",
          "text": [
            "Epoch 1/50\n",
            "14/14 [==============================] - 129s 9s/step - loss: 1.5317 - accuracy: 0.2767 - val_loss: 1.4231 - val_accuracy: 0.3191 - lr: 0.0010\n",
            "Epoch 2/50\n",
            "14/14 [==============================] - 121s 9s/step - loss: 1.3749 - accuracy: 0.3325 - val_loss: 1.3662 - val_accuracy: 0.3298 - lr: 0.0010\n",
            "Epoch 3/50\n",
            "14/14 [==============================] - 121s 9s/step - loss: 1.2947 - accuracy: 0.3943 - val_loss: 1.3324 - val_accuracy: 0.4043 - lr: 0.0010\n",
            "Epoch 4/50\n",
            "14/14 [==============================] - 119s 9s/step - loss: 1.2285 - accuracy: 0.4192 - val_loss: 1.3033 - val_accuracy: 0.3830 - lr: 0.0010\n",
            "Epoch 5/50\n",
            "14/14 [==============================] - 120s 9s/step - loss: 1.1893 - accuracy: 0.4525 - val_loss: 1.3379 - val_accuracy: 0.3511 - lr: 0.0010\n",
            "Epoch 6/50\n",
            "14/14 [==============================] - 120s 9s/step - loss: 1.1730 - accuracy: 0.4679 - val_loss: 1.2508 - val_accuracy: 0.3936 - lr: 0.0010\n",
            "Epoch 7/50\n",
            "14/14 [==============================] - 122s 9s/step - loss: 1.1071 - accuracy: 0.5226 - val_loss: 1.2218 - val_accuracy: 0.4362 - lr: 0.0010\n",
            "Epoch 8/50\n",
            "14/14 [==============================] - 120s 9s/step - loss: 1.0754 - accuracy: 0.5463 - val_loss: 1.2098 - val_accuracy: 0.4468 - lr: 0.0010\n",
            "Epoch 9/50\n",
            "14/14 [==============================] - 120s 9s/step - loss: 1.0470 - accuracy: 0.5534 - val_loss: 1.1874 - val_accuracy: 0.4255 - lr: 0.0010\n",
            "Epoch 10/50\n",
            "14/14 [==============================] - 109s 8s/step - loss: 1.0307 - accuracy: 0.5831 - val_loss: 1.1962 - val_accuracy: 0.4574 - lr: 0.0010\n",
            "Epoch 11/50\n",
            "14/14 [==============================] - 111s 8s/step - loss: 0.9970 - accuracy: 0.5950 - val_loss: 1.1719 - val_accuracy: 0.4787 - lr: 0.0010\n",
            "Epoch 12/50\n",
            "14/14 [==============================] - 120s 9s/step - loss: 0.9862 - accuracy: 0.5962 - val_loss: 1.1587 - val_accuracy: 0.4574 - lr: 0.0010\n",
            "Epoch 13/50\n",
            "14/14 [==============================] - 122s 9s/step - loss: 0.9584 - accuracy: 0.6188 - val_loss: 1.1705 - val_accuracy: 0.4787 - lr: 0.0010\n",
            "Epoch 14/50\n",
            "14/14 [==============================] - 120s 9s/step - loss: 0.9455 - accuracy: 0.6306 - val_loss: 1.1341 - val_accuracy: 0.5213 - lr: 0.0010\n",
            "Epoch 15/50\n",
            "14/14 [==============================] - 119s 9s/step - loss: 0.9247 - accuracy: 0.6401 - val_loss: 1.1353 - val_accuracy: 0.4787 - lr: 0.0010\n",
            "Epoch 16/50\n",
            "14/14 [==============================] - 121s 9s/step - loss: 0.9204 - accuracy: 0.6544 - val_loss: 1.1726 - val_accuracy: 0.4574 - lr: 0.0010\n",
            "Epoch 17/50\n",
            "14/14 [==============================] - 122s 9s/step - loss: 0.8971 - accuracy: 0.6461 - val_loss: 1.1407 - val_accuracy: 0.5106 - lr: 0.0010\n",
            "Epoch 18/50\n",
            "14/14 [==============================] - 121s 9s/step - loss: 0.8810 - accuracy: 0.6675 - val_loss: 1.1177 - val_accuracy: 0.4787 - lr: 0.0010\n",
            "Epoch 19/50\n",
            "14/14 [==============================] - 120s 9s/step - loss: 0.8676 - accuracy: 0.6734 - val_loss: 1.1307 - val_accuracy: 0.4894 - lr: 0.0010\n",
            "Epoch 20/50\n",
            "14/14 [==============================] - 120s 9s/step - loss: 0.8639 - accuracy: 0.6865 - val_loss: 1.1069 - val_accuracy: 0.5000 - lr: 0.0010\n",
            "Epoch 21/50\n",
            "14/14 [==============================] - 118s 9s/step - loss: 0.8414 - accuracy: 0.6983 - val_loss: 1.1359 - val_accuracy: 0.4681 - lr: 0.0010\n",
            "Epoch 22/50\n",
            "14/14 [==============================] - 120s 9s/step - loss: 0.8380 - accuracy: 0.6841 - val_loss: 1.1149 - val_accuracy: 0.5000 - lr: 0.0010\n",
            "Epoch 23/50\n",
            "14/14 [==============================] - 120s 9s/step - loss: 0.8187 - accuracy: 0.6960 - val_loss: 1.0872 - val_accuracy: 0.5000 - lr: 0.0010\n",
            "Epoch 24/50\n",
            "14/14 [==============================] - 113s 8s/step - loss: 0.8105 - accuracy: 0.7102 - val_loss: 1.0954 - val_accuracy: 0.4894 - lr: 0.0010\n",
            "Epoch 25/50\n",
            "14/14 [==============================] - 122s 9s/step - loss: 0.7916 - accuracy: 0.7150 - val_loss: 1.0835 - val_accuracy: 0.5000 - lr: 0.0010\n",
            "Epoch 26/50\n",
            "14/14 [==============================] - 121s 9s/step - loss: 0.7857 - accuracy: 0.7150 - val_loss: 1.0898 - val_accuracy: 0.5106 - lr: 0.0010\n",
            "Epoch 27/50\n",
            "14/14 [==============================] - 120s 9s/step - loss: 0.7806 - accuracy: 0.7185 - val_loss: 1.0834 - val_accuracy: 0.5106 - lr: 0.0010\n",
            "Epoch 28/50\n",
            "14/14 [==============================] - 120s 9s/step - loss: 0.7675 - accuracy: 0.7233 - val_loss: 1.0592 - val_accuracy: 0.5319 - lr: 0.0010\n",
            "Epoch 29/50\n",
            "14/14 [==============================] - 123s 9s/step - loss: 0.7542 - accuracy: 0.7423 - val_loss: 1.0989 - val_accuracy: 0.5000 - lr: 0.0010\n",
            "Epoch 30/50\n",
            "14/14 [==============================] - 119s 9s/step - loss: 0.7471 - accuracy: 0.7399 - val_loss: 1.0467 - val_accuracy: 0.5426 - lr: 0.0010\n",
            "Epoch 31/50\n",
            "14/14 [==============================] - 120s 9s/step - loss: 0.7422 - accuracy: 0.7435 - val_loss: 1.0609 - val_accuracy: 0.5106 - lr: 0.0010\n",
            "Epoch 32/50\n",
            "14/14 [==============================] - 121s 9s/step - loss: 0.7283 - accuracy: 0.7506 - val_loss: 1.0472 - val_accuracy: 0.5213 - lr: 0.0010\n",
            "Epoch 33/50\n",
            "14/14 [==============================] - 121s 9s/step - loss: 0.7217 - accuracy: 0.7530 - val_loss: 1.0542 - val_accuracy: 0.5319 - lr: 0.0010\n",
            "Epoch 34/50\n",
            "14/14 [==============================] - 121s 9s/step - loss: 0.7125 - accuracy: 0.7637 - val_loss: 1.0581 - val_accuracy: 0.5319 - lr: 0.0010\n",
            "Epoch 35/50\n",
            "14/14 [==============================] - 112s 8s/step - loss: 0.7055 - accuracy: 0.7577 - val_loss: 1.0362 - val_accuracy: 0.5426 - lr: 0.0010\n",
            "Epoch 36/50\n",
            "14/14 [==============================] - 111s 8s/step - loss: 0.7034 - accuracy: 0.7577 - val_loss: 1.0689 - val_accuracy: 0.5213 - lr: 0.0010\n",
            "Epoch 37/50\n",
            "14/14 [==============================] - 111s 8s/step - loss: 0.6882 - accuracy: 0.7696 - val_loss: 1.0442 - val_accuracy: 0.5319 - lr: 0.0010\n",
            "Epoch 38/50\n",
            "14/14 [==============================] - 113s 8s/step - loss: 0.6921 - accuracy: 0.7613 - val_loss: 1.0710 - val_accuracy: 0.5319 - lr: 0.0010\n",
            "Epoch 39/50\n",
            "14/14 [==============================] - 119s 9s/step - loss: 0.6784 - accuracy: 0.7803 - val_loss: 1.0531 - val_accuracy: 0.5426 - lr: 0.0010\n",
            "Epoch 40/50\n",
            "14/14 [==============================] - 122s 9s/step - loss: 0.6750 - accuracy: 0.7743 - val_loss: 1.0291 - val_accuracy: 0.5532 - lr: 0.0010\n",
            "Epoch 41/50\n",
            "14/14 [==============================] - 125s 9s/step - loss: 0.6650 - accuracy: 0.7827 - val_loss: 1.0517 - val_accuracy: 0.5319 - lr: 0.0010\n",
            "Epoch 42/50\n",
            "14/14 [==============================] - 112s 8s/step - loss: 0.6570 - accuracy: 0.7874 - val_loss: 1.0694 - val_accuracy: 0.5106 - lr: 0.0010\n",
            "Epoch 43/50\n",
            "14/14 [==============================] - 111s 8s/step - loss: 0.6587 - accuracy: 0.7922 - val_loss: 1.0408 - val_accuracy: 0.5532 - lr: 0.0010\n",
            "Epoch 44/50\n",
            "14/14 [==============================] - 118s 9s/step - loss: 0.6435 - accuracy: 0.7933 - val_loss: 1.0471 - val_accuracy: 0.5213 - lr: 0.0010\n",
            "Epoch 45/50\n",
            "14/14 [==============================] - 111s 8s/step - loss: 0.6426 - accuracy: 0.8005 - val_loss: 1.0452 - val_accuracy: 0.5213 - lr: 0.0010\n"
          ]
        }
      ]
    },
    {
      "cell_type": "code",
      "source": [
        "# Resize test images to the input shape required by each model\n",
        "x_test_resized_densenet = resize_pics(x_test, input_shape_densenet)"
      ],
      "metadata": {
        "id": "F3IHd5CtXkae"
      },
      "id": "F3IHd5CtXkae",
      "execution_count": 71,
      "outputs": []
    },
    {
      "cell_type": "code",
      "source": [
        "# Evaluate the models on test data\n",
        "densenet_loss, densenet_accuracy = densenet_model.evaluate(x_test_resized_densenet, y_test)\n",
        "\n",
        "print(\"DenseNet Test accuracy:\", densenet_accuracy)"
      ],
      "metadata": {
        "id": "QQAnLceQXkey",
        "colab": {
          "base_uri": "https://localhost:8080/"
        },
        "outputId": "78a226aa-c097-4af8-f567-e1582f79d043"
      },
      "id": "QQAnLceQXkey",
      "execution_count": 72,
      "outputs": [
        {
          "output_type": "stream",
          "name": "stdout",
          "text": [
            "8/8 [==============================] - 27s 3s/step - loss: 1.0391 - accuracy: 0.6282\n",
            "DenseNet Test accuracy: 0.6282051205635071\n"
          ]
        }
      ]
    },
    {
      "cell_type": "code",
      "source": [
        "# Create loss plot\n",
        "import plotly.graph_objects as go\n",
        "\n",
        "epochs = [1, 2, 3, 4, 5, 6, 7, 8, 9, 10, 11, 12, 13, 14, 15, 16, 17, 18, 19, 20, 21, 22, 23, 24, 25, 26, 27, 28, 29, 30, 31, 32, 33, 34, 35, 36, 37, 38, 39, 40, 41, 42, 43, 44, 45, 46, 47, 48, 49, 50]\n",
        "\n",
        "# Create the line plot\n",
        "fig = go.Figure(data=go.Scatter(x=epochs,y=densenet_history.history['loss'], mode='lines+markers'))\n",
        "\n",
        "# Update layout\n",
        "fig.update_layout(title='Loss Plot',\n",
        "                  xaxis_title='Epochs',\n",
        "                  yaxis_title='Loss')\n",
        "\n",
        "# Show the plot\n",
        "fig.show()"
      ],
      "metadata": {
        "id": "aUNGmEt1WgpZ",
        "colab": {
          "base_uri": "https://localhost:8080/",
          "height": 542
        },
        "outputId": "8b6e59d5-e223-45c4-85ea-226f6ee718a2"
      },
      "id": "aUNGmEt1WgpZ",
      "execution_count": 73,
      "outputs": [
        {
          "output_type": "display_data",
          "data": {
            "text/html": [
              "<html>\n",
              "<head><meta charset=\"utf-8\" /></head>\n",
              "<body>\n",
              "    <div>            <script src=\"https://cdnjs.cloudflare.com/ajax/libs/mathjax/2.7.5/MathJax.js?config=TeX-AMS-MML_SVG\"></script><script type=\"text/javascript\">if (window.MathJax && window.MathJax.Hub && window.MathJax.Hub.Config) {window.MathJax.Hub.Config({SVG: {font: \"STIX-Web\"}});}</script>                <script type=\"text/javascript\">window.PlotlyConfig = {MathJaxConfig: 'local'};</script>\n",
              "        <script src=\"https://cdn.plot.ly/plotly-2.18.2.min.js\"></script>                <div id=\"3505b9ed-171e-4f67-b890-1067df3e9796\" class=\"plotly-graph-div\" style=\"height:525px; width:100%;\"></div>            <script type=\"text/javascript\">                                    window.PLOTLYENV=window.PLOTLYENV || {};                                    if (document.getElementById(\"3505b9ed-171e-4f67-b890-1067df3e9796\")) {                    Plotly.newPlot(                        \"3505b9ed-171e-4f67-b890-1067df3e9796\",                        [{\"mode\":\"lines+markers\",\"x\":[1,2,3,4,5,6,7,8,9,10,11,12,13,14,15,16,17,18,19,20,21,22,23,24,25,26,27,28,29,30,31,32,33,34,35,36,37,38,39,40,41,42,43,44,45,46,47,48,49,50],\"y\":[1.531723976135254,1.3749281167984009,1.2947306632995605,1.228476881980896,1.189340353012085,1.1730023622512817,1.107108235359192,1.0753521919250488,1.0469706058502197,1.0306516885757446,0.9970334768295288,0.9862082004547119,0.9584147334098816,0.9455403089523315,0.9247363805770874,0.920367956161499,0.8970813751220703,0.8810312151908875,0.8675967454910278,0.8638822436332703,0.8413776755332947,0.8380300998687744,0.8187023401260376,0.8105120062828064,0.7916253209114075,0.7856526374816895,0.7805614471435547,0.7674533128738403,0.7541530132293701,0.7471484541893005,0.7422406077384949,0.728336751461029,0.7216508984565735,0.7125421762466431,0.7055271863937378,0.7033788561820984,0.6881701350212097,0.692064106464386,0.6784165501594543,0.6749818325042725,0.6649501323699951,0.6570395231246948,0.6586571335792542,0.6434605121612549,0.6426465511322021],\"type\":\"scatter\"}],                        {\"template\":{\"data\":{\"histogram2dcontour\":[{\"type\":\"histogram2dcontour\",\"colorbar\":{\"outlinewidth\":0,\"ticks\":\"\"},\"colorscale\":[[0.0,\"#0d0887\"],[0.1111111111111111,\"#46039f\"],[0.2222222222222222,\"#7201a8\"],[0.3333333333333333,\"#9c179e\"],[0.4444444444444444,\"#bd3786\"],[0.5555555555555556,\"#d8576b\"],[0.6666666666666666,\"#ed7953\"],[0.7777777777777778,\"#fb9f3a\"],[0.8888888888888888,\"#fdca26\"],[1.0,\"#f0f921\"]]}],\"choropleth\":[{\"type\":\"choropleth\",\"colorbar\":{\"outlinewidth\":0,\"ticks\":\"\"}}],\"histogram2d\":[{\"type\":\"histogram2d\",\"colorbar\":{\"outlinewidth\":0,\"ticks\":\"\"},\"colorscale\":[[0.0,\"#0d0887\"],[0.1111111111111111,\"#46039f\"],[0.2222222222222222,\"#7201a8\"],[0.3333333333333333,\"#9c179e\"],[0.4444444444444444,\"#bd3786\"],[0.5555555555555556,\"#d8576b\"],[0.6666666666666666,\"#ed7953\"],[0.7777777777777778,\"#fb9f3a\"],[0.8888888888888888,\"#fdca26\"],[1.0,\"#f0f921\"]]}],\"heatmap\":[{\"type\":\"heatmap\",\"colorbar\":{\"outlinewidth\":0,\"ticks\":\"\"},\"colorscale\":[[0.0,\"#0d0887\"],[0.1111111111111111,\"#46039f\"],[0.2222222222222222,\"#7201a8\"],[0.3333333333333333,\"#9c179e\"],[0.4444444444444444,\"#bd3786\"],[0.5555555555555556,\"#d8576b\"],[0.6666666666666666,\"#ed7953\"],[0.7777777777777778,\"#fb9f3a\"],[0.8888888888888888,\"#fdca26\"],[1.0,\"#f0f921\"]]}],\"heatmapgl\":[{\"type\":\"heatmapgl\",\"colorbar\":{\"outlinewidth\":0,\"ticks\":\"\"},\"colorscale\":[[0.0,\"#0d0887\"],[0.1111111111111111,\"#46039f\"],[0.2222222222222222,\"#7201a8\"],[0.3333333333333333,\"#9c179e\"],[0.4444444444444444,\"#bd3786\"],[0.5555555555555556,\"#d8576b\"],[0.6666666666666666,\"#ed7953\"],[0.7777777777777778,\"#fb9f3a\"],[0.8888888888888888,\"#fdca26\"],[1.0,\"#f0f921\"]]}],\"contourcarpet\":[{\"type\":\"contourcarpet\",\"colorbar\":{\"outlinewidth\":0,\"ticks\":\"\"}}],\"contour\":[{\"type\":\"contour\",\"colorbar\":{\"outlinewidth\":0,\"ticks\":\"\"},\"colorscale\":[[0.0,\"#0d0887\"],[0.1111111111111111,\"#46039f\"],[0.2222222222222222,\"#7201a8\"],[0.3333333333333333,\"#9c179e\"],[0.4444444444444444,\"#bd3786\"],[0.5555555555555556,\"#d8576b\"],[0.6666666666666666,\"#ed7953\"],[0.7777777777777778,\"#fb9f3a\"],[0.8888888888888888,\"#fdca26\"],[1.0,\"#f0f921\"]]}],\"surface\":[{\"type\":\"surface\",\"colorbar\":{\"outlinewidth\":0,\"ticks\":\"\"},\"colorscale\":[[0.0,\"#0d0887\"],[0.1111111111111111,\"#46039f\"],[0.2222222222222222,\"#7201a8\"],[0.3333333333333333,\"#9c179e\"],[0.4444444444444444,\"#bd3786\"],[0.5555555555555556,\"#d8576b\"],[0.6666666666666666,\"#ed7953\"],[0.7777777777777778,\"#fb9f3a\"],[0.8888888888888888,\"#fdca26\"],[1.0,\"#f0f921\"]]}],\"mesh3d\":[{\"type\":\"mesh3d\",\"colorbar\":{\"outlinewidth\":0,\"ticks\":\"\"}}],\"scatter\":[{\"fillpattern\":{\"fillmode\":\"overlay\",\"size\":10,\"solidity\":0.2},\"type\":\"scatter\"}],\"parcoords\":[{\"type\":\"parcoords\",\"line\":{\"colorbar\":{\"outlinewidth\":0,\"ticks\":\"\"}}}],\"scatterpolargl\":[{\"type\":\"scatterpolargl\",\"marker\":{\"colorbar\":{\"outlinewidth\":0,\"ticks\":\"\"}}}],\"bar\":[{\"error_x\":{\"color\":\"#2a3f5f\"},\"error_y\":{\"color\":\"#2a3f5f\"},\"marker\":{\"line\":{\"color\":\"#E5ECF6\",\"width\":0.5},\"pattern\":{\"fillmode\":\"overlay\",\"size\":10,\"solidity\":0.2}},\"type\":\"bar\"}],\"scattergeo\":[{\"type\":\"scattergeo\",\"marker\":{\"colorbar\":{\"outlinewidth\":0,\"ticks\":\"\"}}}],\"scatterpolar\":[{\"type\":\"scatterpolar\",\"marker\":{\"colorbar\":{\"outlinewidth\":0,\"ticks\":\"\"}}}],\"histogram\":[{\"marker\":{\"pattern\":{\"fillmode\":\"overlay\",\"size\":10,\"solidity\":0.2}},\"type\":\"histogram\"}],\"scattergl\":[{\"type\":\"scattergl\",\"marker\":{\"colorbar\":{\"outlinewidth\":0,\"ticks\":\"\"}}}],\"scatter3d\":[{\"type\":\"scatter3d\",\"line\":{\"colorbar\":{\"outlinewidth\":0,\"ticks\":\"\"}},\"marker\":{\"colorbar\":{\"outlinewidth\":0,\"ticks\":\"\"}}}],\"scattermapbox\":[{\"type\":\"scattermapbox\",\"marker\":{\"colorbar\":{\"outlinewidth\":0,\"ticks\":\"\"}}}],\"scatterternary\":[{\"type\":\"scatterternary\",\"marker\":{\"colorbar\":{\"outlinewidth\":0,\"ticks\":\"\"}}}],\"scattercarpet\":[{\"type\":\"scattercarpet\",\"marker\":{\"colorbar\":{\"outlinewidth\":0,\"ticks\":\"\"}}}],\"carpet\":[{\"aaxis\":{\"endlinecolor\":\"#2a3f5f\",\"gridcolor\":\"white\",\"linecolor\":\"white\",\"minorgridcolor\":\"white\",\"startlinecolor\":\"#2a3f5f\"},\"baxis\":{\"endlinecolor\":\"#2a3f5f\",\"gridcolor\":\"white\",\"linecolor\":\"white\",\"minorgridcolor\":\"white\",\"startlinecolor\":\"#2a3f5f\"},\"type\":\"carpet\"}],\"table\":[{\"cells\":{\"fill\":{\"color\":\"#EBF0F8\"},\"line\":{\"color\":\"white\"}},\"header\":{\"fill\":{\"color\":\"#C8D4E3\"},\"line\":{\"color\":\"white\"}},\"type\":\"table\"}],\"barpolar\":[{\"marker\":{\"line\":{\"color\":\"#E5ECF6\",\"width\":0.5},\"pattern\":{\"fillmode\":\"overlay\",\"size\":10,\"solidity\":0.2}},\"type\":\"barpolar\"}],\"pie\":[{\"automargin\":true,\"type\":\"pie\"}]},\"layout\":{\"autotypenumbers\":\"strict\",\"colorway\":[\"#636efa\",\"#EF553B\",\"#00cc96\",\"#ab63fa\",\"#FFA15A\",\"#19d3f3\",\"#FF6692\",\"#B6E880\",\"#FF97FF\",\"#FECB52\"],\"font\":{\"color\":\"#2a3f5f\"},\"hovermode\":\"closest\",\"hoverlabel\":{\"align\":\"left\"},\"paper_bgcolor\":\"white\",\"plot_bgcolor\":\"#E5ECF6\",\"polar\":{\"bgcolor\":\"#E5ECF6\",\"angularaxis\":{\"gridcolor\":\"white\",\"linecolor\":\"white\",\"ticks\":\"\"},\"radialaxis\":{\"gridcolor\":\"white\",\"linecolor\":\"white\",\"ticks\":\"\"}},\"ternary\":{\"bgcolor\":\"#E5ECF6\",\"aaxis\":{\"gridcolor\":\"white\",\"linecolor\":\"white\",\"ticks\":\"\"},\"baxis\":{\"gridcolor\":\"white\",\"linecolor\":\"white\",\"ticks\":\"\"},\"caxis\":{\"gridcolor\":\"white\",\"linecolor\":\"white\",\"ticks\":\"\"}},\"coloraxis\":{\"colorbar\":{\"outlinewidth\":0,\"ticks\":\"\"}},\"colorscale\":{\"sequential\":[[0.0,\"#0d0887\"],[0.1111111111111111,\"#46039f\"],[0.2222222222222222,\"#7201a8\"],[0.3333333333333333,\"#9c179e\"],[0.4444444444444444,\"#bd3786\"],[0.5555555555555556,\"#d8576b\"],[0.6666666666666666,\"#ed7953\"],[0.7777777777777778,\"#fb9f3a\"],[0.8888888888888888,\"#fdca26\"],[1.0,\"#f0f921\"]],\"sequentialminus\":[[0.0,\"#0d0887\"],[0.1111111111111111,\"#46039f\"],[0.2222222222222222,\"#7201a8\"],[0.3333333333333333,\"#9c179e\"],[0.4444444444444444,\"#bd3786\"],[0.5555555555555556,\"#d8576b\"],[0.6666666666666666,\"#ed7953\"],[0.7777777777777778,\"#fb9f3a\"],[0.8888888888888888,\"#fdca26\"],[1.0,\"#f0f921\"]],\"diverging\":[[0,\"#8e0152\"],[0.1,\"#c51b7d\"],[0.2,\"#de77ae\"],[0.3,\"#f1b6da\"],[0.4,\"#fde0ef\"],[0.5,\"#f7f7f7\"],[0.6,\"#e6f5d0\"],[0.7,\"#b8e186\"],[0.8,\"#7fbc41\"],[0.9,\"#4d9221\"],[1,\"#276419\"]]},\"xaxis\":{\"gridcolor\":\"white\",\"linecolor\":\"white\",\"ticks\":\"\",\"title\":{\"standoff\":15},\"zerolinecolor\":\"white\",\"automargin\":true,\"zerolinewidth\":2},\"yaxis\":{\"gridcolor\":\"white\",\"linecolor\":\"white\",\"ticks\":\"\",\"title\":{\"standoff\":15},\"zerolinecolor\":\"white\",\"automargin\":true,\"zerolinewidth\":2},\"scene\":{\"xaxis\":{\"backgroundcolor\":\"#E5ECF6\",\"gridcolor\":\"white\",\"linecolor\":\"white\",\"showbackground\":true,\"ticks\":\"\",\"zerolinecolor\":\"white\",\"gridwidth\":2},\"yaxis\":{\"backgroundcolor\":\"#E5ECF6\",\"gridcolor\":\"white\",\"linecolor\":\"white\",\"showbackground\":true,\"ticks\":\"\",\"zerolinecolor\":\"white\",\"gridwidth\":2},\"zaxis\":{\"backgroundcolor\":\"#E5ECF6\",\"gridcolor\":\"white\",\"linecolor\":\"white\",\"showbackground\":true,\"ticks\":\"\",\"zerolinecolor\":\"white\",\"gridwidth\":2}},\"shapedefaults\":{\"line\":{\"color\":\"#2a3f5f\"}},\"annotationdefaults\":{\"arrowcolor\":\"#2a3f5f\",\"arrowhead\":0,\"arrowwidth\":1},\"geo\":{\"bgcolor\":\"white\",\"landcolor\":\"#E5ECF6\",\"subunitcolor\":\"white\",\"showland\":true,\"showlakes\":true,\"lakecolor\":\"white\"},\"title\":{\"x\":0.05},\"mapbox\":{\"style\":\"light\"}}},\"title\":{\"text\":\"Loss Plot\"},\"xaxis\":{\"title\":{\"text\":\"Epochs\"}},\"yaxis\":{\"title\":{\"text\":\"Loss\"}}},                        {\"responsive\": true}                    ).then(function(){\n",
              "                            \n",
              "var gd = document.getElementById('3505b9ed-171e-4f67-b890-1067df3e9796');\n",
              "var x = new MutationObserver(function (mutations, observer) {{\n",
              "        var display = window.getComputedStyle(gd).display;\n",
              "        if (!display || display === 'none') {{\n",
              "            console.log([gd, 'removed!']);\n",
              "            Plotly.purge(gd);\n",
              "            observer.disconnect();\n",
              "        }}\n",
              "}});\n",
              "\n",
              "// Listen for the removal of the full notebook cells\n",
              "var notebookContainer = gd.closest('#notebook-container');\n",
              "if (notebookContainer) {{\n",
              "    x.observe(notebookContainer, {childList: true});\n",
              "}}\n",
              "\n",
              "// Listen for the clearing of the current output cell\n",
              "var outputEl = gd.closest('.output');\n",
              "if (outputEl) {{\n",
              "    x.observe(outputEl, {childList: true});\n",
              "}}\n",
              "\n",
              "                        })                };                            </script>        </div>\n",
              "</body>\n",
              "</html>"
            ]
          },
          "metadata": {}
        }
      ]
    },
    {
      "cell_type": "code",
      "source": [
        "# Create accuracy plot\n",
        "import plotly.graph_objects as go\n",
        "\n",
        "# Create the line plot\n",
        "fig = go.Figure(data=go.Scatter(x=epochs,y=densenet_history.history['accuracy'], mode='lines+markers'))\n",
        "\n",
        "# Update layout\n",
        "fig.update_layout(title='Accuracy Plot',\n",
        "                  xaxis_title='Epochs',\n",
        "                  yaxis_title='Accuracy')\n",
        "\n",
        "# Show the plot\n",
        "fig.show()"
      ],
      "metadata": {
        "id": "raH6KNHhcH7o",
        "colab": {
          "base_uri": "https://localhost:8080/",
          "height": 542
        },
        "outputId": "e832c7dd-6ad7-4f74-bd1a-2d05f5c65c51"
      },
      "id": "raH6KNHhcH7o",
      "execution_count": 74,
      "outputs": [
        {
          "output_type": "display_data",
          "data": {
            "text/html": [
              "<html>\n",
              "<head><meta charset=\"utf-8\" /></head>\n",
              "<body>\n",
              "    <div>            <script src=\"https://cdnjs.cloudflare.com/ajax/libs/mathjax/2.7.5/MathJax.js?config=TeX-AMS-MML_SVG\"></script><script type=\"text/javascript\">if (window.MathJax && window.MathJax.Hub && window.MathJax.Hub.Config) {window.MathJax.Hub.Config({SVG: {font: \"STIX-Web\"}});}</script>                <script type=\"text/javascript\">window.PlotlyConfig = {MathJaxConfig: 'local'};</script>\n",
              "        <script src=\"https://cdn.plot.ly/plotly-2.18.2.min.js\"></script>                <div id=\"3b74e143-7382-4c74-bad5-ab7277da2cf7\" class=\"plotly-graph-div\" style=\"height:525px; width:100%;\"></div>            <script type=\"text/javascript\">                                    window.PLOTLYENV=window.PLOTLYENV || {};                                    if (document.getElementById(\"3b74e143-7382-4c74-bad5-ab7277da2cf7\")) {                    Plotly.newPlot(                        \"3b74e143-7382-4c74-bad5-ab7277da2cf7\",                        [{\"mode\":\"lines+markers\",\"x\":[1,2,3,4,5,6,7,8,9,10,11,12,13,14,15,16,17,18,19,20,21,22,23,24,25,26,27,28,29,30,31,32,33,34,35,36,37,38,39,40,41,42,43,44,45,46,47,48,49,50],\"y\":[0.27672210335731506,0.3325415551662445,0.39429929852485657,0.41923990845680237,0.4524940550327301,0.4679335057735443,0.5225653052330017,0.5463182926177979,0.5534442067146301,0.5831353664398193,0.5950118899345398,0.5961995124816895,0.6187648177146912,0.6306413412094116,0.6401425004005432,0.6543943285942078,0.646080732345581,0.6674584150314331,0.673396646976471,0.6864607930183411,0.6983373165130615,0.684085488319397,0.6959620118141174,0.7102137804031372,0.7149643898010254,0.7149643898010254,0.7185273170471191,0.7232779264450073,0.7422803044319153,0.7399049997329712,0.7434679269790649,0.7505938410758972,0.7529691457748413,0.7636579275131226,0.7577196955680847,0.7577196955680847,0.7695962190628052,0.7612826824188232,0.7802850604057312,0.7743467688560486,0.7826603055000305,0.7874109148979187,0.7921615242958069,0.7933491468429565,0.8004750609397888],\"type\":\"scatter\"}],                        {\"template\":{\"data\":{\"histogram2dcontour\":[{\"type\":\"histogram2dcontour\",\"colorbar\":{\"outlinewidth\":0,\"ticks\":\"\"},\"colorscale\":[[0.0,\"#0d0887\"],[0.1111111111111111,\"#46039f\"],[0.2222222222222222,\"#7201a8\"],[0.3333333333333333,\"#9c179e\"],[0.4444444444444444,\"#bd3786\"],[0.5555555555555556,\"#d8576b\"],[0.6666666666666666,\"#ed7953\"],[0.7777777777777778,\"#fb9f3a\"],[0.8888888888888888,\"#fdca26\"],[1.0,\"#f0f921\"]]}],\"choropleth\":[{\"type\":\"choropleth\",\"colorbar\":{\"outlinewidth\":0,\"ticks\":\"\"}}],\"histogram2d\":[{\"type\":\"histogram2d\",\"colorbar\":{\"outlinewidth\":0,\"ticks\":\"\"},\"colorscale\":[[0.0,\"#0d0887\"],[0.1111111111111111,\"#46039f\"],[0.2222222222222222,\"#7201a8\"],[0.3333333333333333,\"#9c179e\"],[0.4444444444444444,\"#bd3786\"],[0.5555555555555556,\"#d8576b\"],[0.6666666666666666,\"#ed7953\"],[0.7777777777777778,\"#fb9f3a\"],[0.8888888888888888,\"#fdca26\"],[1.0,\"#f0f921\"]]}],\"heatmap\":[{\"type\":\"heatmap\",\"colorbar\":{\"outlinewidth\":0,\"ticks\":\"\"},\"colorscale\":[[0.0,\"#0d0887\"],[0.1111111111111111,\"#46039f\"],[0.2222222222222222,\"#7201a8\"],[0.3333333333333333,\"#9c179e\"],[0.4444444444444444,\"#bd3786\"],[0.5555555555555556,\"#d8576b\"],[0.6666666666666666,\"#ed7953\"],[0.7777777777777778,\"#fb9f3a\"],[0.8888888888888888,\"#fdca26\"],[1.0,\"#f0f921\"]]}],\"heatmapgl\":[{\"type\":\"heatmapgl\",\"colorbar\":{\"outlinewidth\":0,\"ticks\":\"\"},\"colorscale\":[[0.0,\"#0d0887\"],[0.1111111111111111,\"#46039f\"],[0.2222222222222222,\"#7201a8\"],[0.3333333333333333,\"#9c179e\"],[0.4444444444444444,\"#bd3786\"],[0.5555555555555556,\"#d8576b\"],[0.6666666666666666,\"#ed7953\"],[0.7777777777777778,\"#fb9f3a\"],[0.8888888888888888,\"#fdca26\"],[1.0,\"#f0f921\"]]}],\"contourcarpet\":[{\"type\":\"contourcarpet\",\"colorbar\":{\"outlinewidth\":0,\"ticks\":\"\"}}],\"contour\":[{\"type\":\"contour\",\"colorbar\":{\"outlinewidth\":0,\"ticks\":\"\"},\"colorscale\":[[0.0,\"#0d0887\"],[0.1111111111111111,\"#46039f\"],[0.2222222222222222,\"#7201a8\"],[0.3333333333333333,\"#9c179e\"],[0.4444444444444444,\"#bd3786\"],[0.5555555555555556,\"#d8576b\"],[0.6666666666666666,\"#ed7953\"],[0.7777777777777778,\"#fb9f3a\"],[0.8888888888888888,\"#fdca26\"],[1.0,\"#f0f921\"]]}],\"surface\":[{\"type\":\"surface\",\"colorbar\":{\"outlinewidth\":0,\"ticks\":\"\"},\"colorscale\":[[0.0,\"#0d0887\"],[0.1111111111111111,\"#46039f\"],[0.2222222222222222,\"#7201a8\"],[0.3333333333333333,\"#9c179e\"],[0.4444444444444444,\"#bd3786\"],[0.5555555555555556,\"#d8576b\"],[0.6666666666666666,\"#ed7953\"],[0.7777777777777778,\"#fb9f3a\"],[0.8888888888888888,\"#fdca26\"],[1.0,\"#f0f921\"]]}],\"mesh3d\":[{\"type\":\"mesh3d\",\"colorbar\":{\"outlinewidth\":0,\"ticks\":\"\"}}],\"scatter\":[{\"fillpattern\":{\"fillmode\":\"overlay\",\"size\":10,\"solidity\":0.2},\"type\":\"scatter\"}],\"parcoords\":[{\"type\":\"parcoords\",\"line\":{\"colorbar\":{\"outlinewidth\":0,\"ticks\":\"\"}}}],\"scatterpolargl\":[{\"type\":\"scatterpolargl\",\"marker\":{\"colorbar\":{\"outlinewidth\":0,\"ticks\":\"\"}}}],\"bar\":[{\"error_x\":{\"color\":\"#2a3f5f\"},\"error_y\":{\"color\":\"#2a3f5f\"},\"marker\":{\"line\":{\"color\":\"#E5ECF6\",\"width\":0.5},\"pattern\":{\"fillmode\":\"overlay\",\"size\":10,\"solidity\":0.2}},\"type\":\"bar\"}],\"scattergeo\":[{\"type\":\"scattergeo\",\"marker\":{\"colorbar\":{\"outlinewidth\":0,\"ticks\":\"\"}}}],\"scatterpolar\":[{\"type\":\"scatterpolar\",\"marker\":{\"colorbar\":{\"outlinewidth\":0,\"ticks\":\"\"}}}],\"histogram\":[{\"marker\":{\"pattern\":{\"fillmode\":\"overlay\",\"size\":10,\"solidity\":0.2}},\"type\":\"histogram\"}],\"scattergl\":[{\"type\":\"scattergl\",\"marker\":{\"colorbar\":{\"outlinewidth\":0,\"ticks\":\"\"}}}],\"scatter3d\":[{\"type\":\"scatter3d\",\"line\":{\"colorbar\":{\"outlinewidth\":0,\"ticks\":\"\"}},\"marker\":{\"colorbar\":{\"outlinewidth\":0,\"ticks\":\"\"}}}],\"scattermapbox\":[{\"type\":\"scattermapbox\",\"marker\":{\"colorbar\":{\"outlinewidth\":0,\"ticks\":\"\"}}}],\"scatterternary\":[{\"type\":\"scatterternary\",\"marker\":{\"colorbar\":{\"outlinewidth\":0,\"ticks\":\"\"}}}],\"scattercarpet\":[{\"type\":\"scattercarpet\",\"marker\":{\"colorbar\":{\"outlinewidth\":0,\"ticks\":\"\"}}}],\"carpet\":[{\"aaxis\":{\"endlinecolor\":\"#2a3f5f\",\"gridcolor\":\"white\",\"linecolor\":\"white\",\"minorgridcolor\":\"white\",\"startlinecolor\":\"#2a3f5f\"},\"baxis\":{\"endlinecolor\":\"#2a3f5f\",\"gridcolor\":\"white\",\"linecolor\":\"white\",\"minorgridcolor\":\"white\",\"startlinecolor\":\"#2a3f5f\"},\"type\":\"carpet\"}],\"table\":[{\"cells\":{\"fill\":{\"color\":\"#EBF0F8\"},\"line\":{\"color\":\"white\"}},\"header\":{\"fill\":{\"color\":\"#C8D4E3\"},\"line\":{\"color\":\"white\"}},\"type\":\"table\"}],\"barpolar\":[{\"marker\":{\"line\":{\"color\":\"#E5ECF6\",\"width\":0.5},\"pattern\":{\"fillmode\":\"overlay\",\"size\":10,\"solidity\":0.2}},\"type\":\"barpolar\"}],\"pie\":[{\"automargin\":true,\"type\":\"pie\"}]},\"layout\":{\"autotypenumbers\":\"strict\",\"colorway\":[\"#636efa\",\"#EF553B\",\"#00cc96\",\"#ab63fa\",\"#FFA15A\",\"#19d3f3\",\"#FF6692\",\"#B6E880\",\"#FF97FF\",\"#FECB52\"],\"font\":{\"color\":\"#2a3f5f\"},\"hovermode\":\"closest\",\"hoverlabel\":{\"align\":\"left\"},\"paper_bgcolor\":\"white\",\"plot_bgcolor\":\"#E5ECF6\",\"polar\":{\"bgcolor\":\"#E5ECF6\",\"angularaxis\":{\"gridcolor\":\"white\",\"linecolor\":\"white\",\"ticks\":\"\"},\"radialaxis\":{\"gridcolor\":\"white\",\"linecolor\":\"white\",\"ticks\":\"\"}},\"ternary\":{\"bgcolor\":\"#E5ECF6\",\"aaxis\":{\"gridcolor\":\"white\",\"linecolor\":\"white\",\"ticks\":\"\"},\"baxis\":{\"gridcolor\":\"white\",\"linecolor\":\"white\",\"ticks\":\"\"},\"caxis\":{\"gridcolor\":\"white\",\"linecolor\":\"white\",\"ticks\":\"\"}},\"coloraxis\":{\"colorbar\":{\"outlinewidth\":0,\"ticks\":\"\"}},\"colorscale\":{\"sequential\":[[0.0,\"#0d0887\"],[0.1111111111111111,\"#46039f\"],[0.2222222222222222,\"#7201a8\"],[0.3333333333333333,\"#9c179e\"],[0.4444444444444444,\"#bd3786\"],[0.5555555555555556,\"#d8576b\"],[0.6666666666666666,\"#ed7953\"],[0.7777777777777778,\"#fb9f3a\"],[0.8888888888888888,\"#fdca26\"],[1.0,\"#f0f921\"]],\"sequentialminus\":[[0.0,\"#0d0887\"],[0.1111111111111111,\"#46039f\"],[0.2222222222222222,\"#7201a8\"],[0.3333333333333333,\"#9c179e\"],[0.4444444444444444,\"#bd3786\"],[0.5555555555555556,\"#d8576b\"],[0.6666666666666666,\"#ed7953\"],[0.7777777777777778,\"#fb9f3a\"],[0.8888888888888888,\"#fdca26\"],[1.0,\"#f0f921\"]],\"diverging\":[[0,\"#8e0152\"],[0.1,\"#c51b7d\"],[0.2,\"#de77ae\"],[0.3,\"#f1b6da\"],[0.4,\"#fde0ef\"],[0.5,\"#f7f7f7\"],[0.6,\"#e6f5d0\"],[0.7,\"#b8e186\"],[0.8,\"#7fbc41\"],[0.9,\"#4d9221\"],[1,\"#276419\"]]},\"xaxis\":{\"gridcolor\":\"white\",\"linecolor\":\"white\",\"ticks\":\"\",\"title\":{\"standoff\":15},\"zerolinecolor\":\"white\",\"automargin\":true,\"zerolinewidth\":2},\"yaxis\":{\"gridcolor\":\"white\",\"linecolor\":\"white\",\"ticks\":\"\",\"title\":{\"standoff\":15},\"zerolinecolor\":\"white\",\"automargin\":true,\"zerolinewidth\":2},\"scene\":{\"xaxis\":{\"backgroundcolor\":\"#E5ECF6\",\"gridcolor\":\"white\",\"linecolor\":\"white\",\"showbackground\":true,\"ticks\":\"\",\"zerolinecolor\":\"white\",\"gridwidth\":2},\"yaxis\":{\"backgroundcolor\":\"#E5ECF6\",\"gridcolor\":\"white\",\"linecolor\":\"white\",\"showbackground\":true,\"ticks\":\"\",\"zerolinecolor\":\"white\",\"gridwidth\":2},\"zaxis\":{\"backgroundcolor\":\"#E5ECF6\",\"gridcolor\":\"white\",\"linecolor\":\"white\",\"showbackground\":true,\"ticks\":\"\",\"zerolinecolor\":\"white\",\"gridwidth\":2}},\"shapedefaults\":{\"line\":{\"color\":\"#2a3f5f\"}},\"annotationdefaults\":{\"arrowcolor\":\"#2a3f5f\",\"arrowhead\":0,\"arrowwidth\":1},\"geo\":{\"bgcolor\":\"white\",\"landcolor\":\"#E5ECF6\",\"subunitcolor\":\"white\",\"showland\":true,\"showlakes\":true,\"lakecolor\":\"white\"},\"title\":{\"x\":0.05},\"mapbox\":{\"style\":\"light\"}}},\"title\":{\"text\":\"Accuracy Plot\"},\"xaxis\":{\"title\":{\"text\":\"Epochs\"}},\"yaxis\":{\"title\":{\"text\":\"Accuracy\"}}},                        {\"responsive\": true}                    ).then(function(){\n",
              "                            \n",
              "var gd = document.getElementById('3b74e143-7382-4c74-bad5-ab7277da2cf7');\n",
              "var x = new MutationObserver(function (mutations, observer) {{\n",
              "        var display = window.getComputedStyle(gd).display;\n",
              "        if (!display || display === 'none') {{\n",
              "            console.log([gd, 'removed!']);\n",
              "            Plotly.purge(gd);\n",
              "            observer.disconnect();\n",
              "        }}\n",
              "}});\n",
              "\n",
              "// Listen for the removal of the full notebook cells\n",
              "var notebookContainer = gd.closest('#notebook-container');\n",
              "if (notebookContainer) {{\n",
              "    x.observe(notebookContainer, {childList: true});\n",
              "}}\n",
              "\n",
              "// Listen for the clearing of the current output cell\n",
              "var outputEl = gd.closest('.output');\n",
              "if (outputEl) {{\n",
              "    x.observe(outputEl, {childList: true});\n",
              "}}\n",
              "\n",
              "                        })                };                            </script>        </div>\n",
              "</body>\n",
              "</html>"
            ]
          },
          "metadata": {}
        }
      ]
    },
    {
      "cell_type": "code",
      "source": [
        "##################################################################################"
      ],
      "metadata": {
        "id": "V_PkgdYLXGDO"
      },
      "id": "V_PkgdYLXGDO",
      "execution_count": null,
      "outputs": []
    },
    {
      "cell_type": "code",
      "execution_count": 76,
      "metadata": {
        "id": "G8wnDM_Jg6hE"
      },
      "outputs": [],
      "source": [
        "# Save the trained model\n",
        "densenet_model.save(\"pet_expressions_model_DenseNet.h5\")"
      ],
      "id": "G8wnDM_Jg6hE"
    },
    {
      "cell_type": "code",
      "execution_count": null,
      "metadata": {
        "id": "J9TWPC47I8WW"
      },
      "outputs": [],
      "source": [
        "##################################################################################\n",
        "#FROM HERE DOWN IS COPIED FROM OUR SEQUENTIAL MODEL NOTEBOOK FILE. IT MAY/MAYNOT WORK FOR DEPLOYING THIS MODEL?"
      ],
      "id": "J9TWPC47I8WW"
    },
    {
      "cell_type": "code",
      "execution_count": null,
      "metadata": {
        "id": "OI2oPULfH34N"
      },
      "outputs": [],
      "source": [
        "from keras.models import load_model\n",
        "# Load the saved model\n",
        "loaded_model = load_model('pet_expressions_model.h5')"
      ],
      "id": "OI2oPULfH34N"
    },
    {
      "cell_type": "code",
      "execution_count": null,
      "metadata": {
        "id": "vApWzW3iIBOL"
      },
      "outputs": [],
      "source": [
        "# Function to load and preprocess images\n",
        "def load_images_from_folder(folder):\n",
        "    images = []\n",
        "    for filename in os.listdir(folder):\n",
        "        img = cv2.imread(os.path.join(folder, filename))\n",
        "        if img is not None:\n",
        "            img = cv2.cvtColor(img, cv2.COLOR_BGR2GRAY)\n",
        "            img = cv2.resize(img, (48, 48))  # Resize to a fixed size for the model\n",
        "            images.append(img)\n",
        "    return images"
      ],
      "id": "vApWzW3iIBOL"
    },
    {
      "cell_type": "code",
      "execution_count": null,
      "metadata": {
        "id": "G2hJ_t8uIBXv"
      },
      "outputs": [],
      "source": [
        "# Load a custom test image\n",
        "custom_test_image_path = \"\"\n",
        "\n",
        "custom_test_image = cv2.imread(custom_test_image_path)\n",
        "custom_test_image = cv2.cvtColor(custom_test_image, cv2.COLOR_BGR2GRAY)\n",
        "custom_test_image = cv2.resize(custom_test_image, (48, 48))\n",
        "custom_test_image = custom_test_image.astype('float32') / 255.0"
      ],
      "id": "G2hJ_t8uIBXv"
    },
    {
      "cell_type": "code",
      "execution_count": null,
      "metadata": {
        "id": "zoagi0XAIBhH"
      },
      "outputs": [],
      "source": [
        "# Reshape the image to match the model input shape\n",
        "custom_test_image = np.expand_dims(custom_test_image, axis=0)\n",
        "custom_test_image = np.expand_dims(custom_test_image, axis=-1)"
      ],
      "id": "zoagi0XAIBhH"
    },
    {
      "cell_type": "code",
      "execution_count": null,
      "metadata": {
        "id": "r39cICOXIBqP"
      },
      "outputs": [],
      "source": [
        "# Make predictions on the custom test image\n",
        "prediction = loaded_model.predict(custom_test_image)\n",
        "prediction_prob = prediction[0]"
      ],
      "id": "r39cICOXIBqP"
    },
    {
      "cell_type": "code",
      "execution_count": null,
      "metadata": {
        "id": "4QkEWBRMIBzy"
      },
      "outputs": [],
      "source": [
        "emotion_label = np.argmax(prediction[0])"
      ],
      "id": "4QkEWBRMIBzy"
    },
    {
      "cell_type": "code",
      "execution_count": null,
      "metadata": {
        "id": "CiimcfpxH4CD"
      },
      "outputs": [],
      "source": [
        "# Map the predicted label to emotion class\n",
        "emotion_classes = {0: 'happy', 1: 'sad', 2: 'angry', 3: 'feeling some type of way...'}\n",
        "predicted_emotion = emotion_classes[emotion_label]"
      ],
      "id": "CiimcfpxH4CD"
    },
    {
      "cell_type": "code",
      "execution_count": null,
      "metadata": {
        "id": "MF1XmXXHImD9"
      },
      "outputs": [],
      "source": [
        "# Print the custom test image and its predicted label\n",
        "print(f\"Predicted Emotion: {predicted_emotion}\")\n",
        "print(f\"Confidence [happy, sad, angry,feeling some type of way...]: {prediction_prob}\")"
      ],
      "id": "MF1XmXXHImD9"
    },
    {
      "cell_type": "code",
      "execution_count": null,
      "metadata": {
        "id": "25M2Dw8nImNk"
      },
      "outputs": [],
      "source": [
        "import matplotlib.pyplot as plt\n",
        "\n",
        "#Display the custom test image using matplotlib\n",
        "plt.imshow(custom_test_image[0, :, :, 0])\n",
        "plt.title(f\"Predicted Emotion: {predicted_emotion}\")\n",
        "plt.axis('off')  # Hide axes\n",
        "plt.show()"
      ],
      "id": "25M2Dw8nImNk"
    },
    {
      "cell_type": "code",
      "execution_count": null,
      "metadata": {
        "id": "VgZQk-xoImVE"
      },
      "outputs": [],
      "source": [
        "from PIL import Image\n",
        "# Display the original custom test image using PIL\n",
        "img_pil = Image.open(custom_test_image_path)\n",
        "plt.imshow(np.array(img_pil))\n",
        "plt.title(f\"Predicted Emotion: {predicted_emotion}\")\n",
        "plt.axis('off')  # Hide axes\n",
        "plt.show()"
      ],
      "id": "VgZQk-xoImVE"
    }
  ],
  "metadata": {
    "colab": {
      "provenance": []
    },
    "kernelspec": {
      "display_name": "Python 3 (ipykernel)",
      "language": "python",
      "name": "python3"
    },
    "language_info": {
      "codemirror_mode": {
        "name": "ipython",
        "version": 3
      },
      "file_extension": ".py",
      "mimetype": "text/x-python",
      "name": "python",
      "nbconvert_exporter": "python",
      "pygments_lexer": "ipython3",
      "version": "3.9.13"
    }
  },
  "nbformat": 4,
  "nbformat_minor": 5
}