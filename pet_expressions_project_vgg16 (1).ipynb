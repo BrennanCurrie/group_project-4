{
  "cells": [
    {
      "cell_type": "code",
      "execution_count": 2,
      "id": "e508faf6",
      "metadata": {
        "id": "e508faf6"
      },
      "outputs": [],
      "source": [
        "# Import Dependencies\n",
        "import os\n",
        "import numpy as np\n",
        "import cv2\n",
        "import matplotlib.pyplot as plt\n",
        "import keras\n",
        "import tensorflow as tf\n",
        "from sklearn.model_selection import train_test_split\n",
        "from glob import glob\n",
        "from PIL import Image\n",
        "\n",
        "from keras.preprocessing import image\n",
        "from keras.datasets import mnist\n",
        "from keras import optimizers\n",
        "from keras.utils import to_categorical\n",
        "from keras.applications.vgg16 import VGG16\n",
        "from keras.applications.vgg16 import preprocess_input\n",
        "from keras.models import load_model\n",
        "\n",
        "from tensorflow.keras.preprocessing.image import ImageDataGenerator\n",
        "from tensorflow.keras.models import Sequential, Model\n",
        "from tensorflow.keras.layers import Conv2D, MaxPooling2D, Flatten, Dense, Dropout, Input, Lambda, AveragePooling2D\n",
        "from tensorflow.keras.layers import BatchNormalization\n",
        "\n",
        "\n"
      ]
    },
    {
      "cell_type": "code",
      "source": [
        "# Set up Google Drive\n",
        "from google.colab import drive\n",
        "drive.mount('/content/drive')"
      ],
      "metadata": {
        "colab": {
          "base_uri": "https://localhost:8080/"
        },
        "id": "_TPEdqWkAlKQ",
        "outputId": "7a36160e-f8f1-4478-a79a-d6778915c726"
      },
      "id": "_TPEdqWkAlKQ",
      "execution_count": 3,
      "outputs": [
        {
          "output_type": "stream",
          "name": "stdout",
          "text": [
            "Drive already mounted at /content/drive; to attempt to forcibly remount, call drive.mount(\"/content/drive\", force_remount=True).\n"
          ]
        }
      ]
    },
    {
      "cell_type": "code",
      "source": [
        "# Change Directory\n",
        "%cd '/content/drive/MyDrive/Data_analytics /group_project_4/pet_expressions_data'"
      ],
      "metadata": {
        "colab": {
          "base_uri": "https://localhost:8080/"
        },
        "id": "yMkxM8-gBy8U",
        "outputId": "6ed4b9e0-c7f1-4ba2-c4a3-6ee21fcfa063"
      },
      "id": "yMkxM8-gBy8U",
      "execution_count": 4,
      "outputs": [
        {
          "output_type": "stream",
          "name": "stdout",
          "text": [
            "/content/drive/MyDrive/Data_analytics /group_project_4/pet_expressions_data\n"
          ]
        }
      ]
    },
    {
      "cell_type": "code",
      "source": [
        "# Define the path to the dataset folders\n",
        "happy_folder = \"/content/drive/MyDrive/Data_analytics /group_project_4/pet_expressions_data/happy\"\n",
        "sad_folder = \"/content/drive/MyDrive/Data_analytics /group_project_4/pet_expressions_data/sad\"\n",
        "angry_folder = \"/content/drive/MyDrive/Data_analytics /group_project_4/pet_expressions_data/angry\"\n",
        "other_folder = \"/content/drive/MyDrive/Data_analytics /group_project_4/pet_expressions_data/other\""
      ],
      "metadata": {
        "id": "oHd6VWxVCdMn"
      },
      "id": "oHd6VWxVCdMn",
      "execution_count": 5,
      "outputs": []
    },
    {
      "cell_type": "code",
      "source": [
        "# Function to load and preprocess images\n",
        "def load_images_from_folder(folder):\n",
        "    images = []\n",
        "    for filename in os.listdir(folder):\n",
        "        img = cv2.imread(os.path.join(folder,filename))\n",
        "        if img is not None:\n",
        "            img = cv2.cvtColor(img, cv2.COLOR_BGR2RGB)\n",
        "            img = cv2.resize(img, (224, 224))  # Resize to a fixed size for the model\n",
        "            images.append(img)\n",
        "    return images"
      ],
      "metadata": {
        "id": "gHD-rY4OGUdC"
      },
      "id": "gHD-rY4OGUdC",
      "execution_count": 6,
      "outputs": []
    },
    {
      "cell_type": "code",
      "execution_count": 7,
      "id": "c76b61aa",
      "metadata": {
        "id": "c76b61aa"
      },
      "outputs": [],
      "source": [
        "# Load images and labels for each emotion\n",
        "happy_images = load_images_from_folder(happy_folder)\n",
        "sad_images = load_images_from_folder(sad_folder)\n",
        "angry_images = load_images_from_folder(angry_folder)\n",
        "other_images = load_images_from_folder(other_folder)"
      ]
    },
    {
      "cell_type": "code",
      "source": [
        "# Check shape, 3 means it is in RGB format\n",
        "happy_images[1].shape"
      ],
      "metadata": {
        "colab": {
          "base_uri": "https://localhost:8080/"
        },
        "id": "bI78EeW1yHBr",
        "outputId": "0dc44c09-58f1-482e-9228-33af5eee7b51"
      },
      "id": "bI78EeW1yHBr",
      "execution_count": 9,
      "outputs": [
        {
          "output_type": "execute_result",
          "data": {
            "text/plain": [
              "(224, 224, 3)"
            ]
          },
          "metadata": {},
          "execution_count": 9
        }
      ]
    },
    {
      "cell_type": "code",
      "source": [
        "# Create labels for each emotion category\n",
        "happy_labels = [0] * len(happy_images)\n",
        "sad_labels = [1] * len(sad_images)\n",
        "angry_labels = [2] * len(angry_images)\n",
        "other_labels = [3] * len(other_images) # 3???? not sure if thats correct"
      ],
      "metadata": {
        "id": "7Y5JhOxVEjK5"
      },
      "id": "7Y5JhOxVEjK5",
      "execution_count": 8,
      "outputs": []
    },
    {
      "cell_type": "code",
      "source": [
        "# Concatenate images and labels\n",
        "x = np.array(happy_images + sad_images + angry_images + other_images)\n",
        "y = np.array(happy_labels + sad_labels + angry_labels + other_labels)"
      ],
      "metadata": {
        "id": "fE_-U9oSHLmz"
      },
      "id": "fE_-U9oSHLmz",
      "execution_count": 9,
      "outputs": []
    },
    {
      "cell_type": "code",
      "source": [
        "# Normalize pixel values to range [0, 1]\n",
        "x = x.astype('float32') / 255.0"
      ],
      "metadata": {
        "id": "Bggs4WygHL4K"
      },
      "id": "Bggs4WygHL4K",
      "execution_count": 10,
      "outputs": []
    },
    {
      "cell_type": "code",
      "source": [
        "# One-hot encode the labels\n",
        "y = tf.keras.utils.to_categorical(y, 4)"
      ],
      "metadata": {
        "id": "CF-FOR4KHSz1"
      },
      "id": "CF-FOR4KHSz1",
      "execution_count": 11,
      "outputs": []
    },
    {
      "cell_type": "code",
      "source": [
        "# Split the data into training and testing sets\n",
        "x_train, x_test, y_train, y_test = train_test_split(x, y, test_size=0.2, random_state=100)"
      ],
      "metadata": {
        "id": "yDNk4ib-HT_T"
      },
      "id": "yDNk4ib-HT_T",
      "execution_count": 12,
      "outputs": []
    },
    {
      "cell_type": "code",
      "source": [
        "# Split again into a validation set\n",
        "x_validate, x_test, y_validate, y_test= train_test_split (x_test,y_test, test_size=.50, random_state=100)"
      ],
      "metadata": {
        "id": "dXEn6WQ0Gbjz"
      },
      "id": "dXEn6WQ0Gbjz",
      "execution_count": 14,
      "outputs": []
    },
    {
      "cell_type": "code",
      "source": [
        "# Reshape the images to (224, 224, 3)\n",
        "x_train = np.array([cv2.resize(image, (224, 224)) for image in x_train])\n",
        "x_validate = np.array([cv2.resize(image, (224, 224)) for image in x_validate])"
      ],
      "metadata": {
        "id": "sMWdLfJgQGeU"
      },
      "id": "sMWdLfJgQGeU",
      "execution_count": 15,
      "outputs": []
    },
    {
      "cell_type": "code",
      "source": [
        "print (f' x train',x_train.shape)\n",
        "print (f' x test', x_test.shape)\n",
        "print (f' y train', y_train.shape)\n",
        "print (f' y test', y_test.shape)\n",
        "print (f' x validate', x_validate.shape)\n",
        "print (f' y validate', y_validate.shape)"
      ],
      "metadata": {
        "colab": {
          "base_uri": "https://localhost:8080/"
        },
        "id": "W3WCLgMyDk67",
        "outputId": "66414867-7980-4551-f30e-2b2d740f7602"
      },
      "id": "W3WCLgMyDk67",
      "execution_count": 16,
      "outputs": [
        {
          "output_type": "stream",
          "name": "stdout",
          "text": [
            " x train (296, 224, 224, 3)\n",
            " x test (37, 224, 224, 3)\n",
            " y train (296, 4)\n",
            " y test (37, 4)\n",
            " x validate (37, 224, 224, 3)\n",
            " y validate (37, 4)\n"
          ]
        }
      ]
    },
    {
      "cell_type": "code",
      "source": [
        "#here [3] denotes for RGB images(3 channels)\n",
        "# Set the paramaters for the vgg16 model\n",
        "Image_size = [224, 224]\n",
        "vgg = VGG16(input_shape= Image_size + [3], weights='imagenet', include_top=False)\n",
        "\n",
        "#don't train existing weights\n",
        "for layer in vgg.layers:\n",
        " layer.trainable = False\n",
        "\n",
        "# Set the inputs and outputs for the model\n",
        "x = Flatten()(vgg.output)\n",
        "prediction = Dense(4, activation='softmax')(x)\n",
        "model = Model(inputs=vgg.input, outputs=prediction)\n",
        "\n",
        "#compile according to standard metrics found on the internet\n",
        "model.compile(optimizer = tf.keras.optimizers.RMSprop(learning_rate=0.0001), loss = 'binary_crossentropy',metrics = ['acc'])\n",
        "model.summary()"
      ],
      "metadata": {
        "colab": {
          "base_uri": "https://localhost:8080/"
        },
        "id": "ViWKVSwdEqzO",
        "outputId": "f121eaeb-e079-438f-c0e2-38d4c1e054f0"
      },
      "id": "ViWKVSwdEqzO",
      "execution_count": 18,
      "outputs": [
        {
          "output_type": "stream",
          "name": "stdout",
          "text": [
            "Model: \"model\"\n",
            "_________________________________________________________________\n",
            " Layer (type)                Output Shape              Param #   \n",
            "=================================================================\n",
            " input_1 (InputLayer)        [(None, 224, 224, 3)]     0         \n",
            "                                                                 \n",
            " block1_conv1 (Conv2D)       (None, 224, 224, 64)      1792      \n",
            "                                                                 \n",
            " block1_conv2 (Conv2D)       (None, 224, 224, 64)      36928     \n",
            "                                                                 \n",
            " block1_pool (MaxPooling2D)  (None, 112, 112, 64)      0         \n",
            "                                                                 \n",
            " block2_conv1 (Conv2D)       (None, 112, 112, 128)     73856     \n",
            "                                                                 \n",
            " block2_conv2 (Conv2D)       (None, 112, 112, 128)     147584    \n",
            "                                                                 \n",
            " block2_pool (MaxPooling2D)  (None, 56, 56, 128)       0         \n",
            "                                                                 \n",
            " block3_conv1 (Conv2D)       (None, 56, 56, 256)       295168    \n",
            "                                                                 \n",
            " block3_conv2 (Conv2D)       (None, 56, 56, 256)       590080    \n",
            "                                                                 \n",
            " block3_conv3 (Conv2D)       (None, 56, 56, 256)       590080    \n",
            "                                                                 \n",
            " block3_pool (MaxPooling2D)  (None, 28, 28, 256)       0         \n",
            "                                                                 \n",
            " block4_conv1 (Conv2D)       (None, 28, 28, 512)       1180160   \n",
            "                                                                 \n",
            " block4_conv2 (Conv2D)       (None, 28, 28, 512)       2359808   \n",
            "                                                                 \n",
            " block4_conv3 (Conv2D)       (None, 28, 28, 512)       2359808   \n",
            "                                                                 \n",
            " block4_pool (MaxPooling2D)  (None, 14, 14, 512)       0         \n",
            "                                                                 \n",
            " block5_conv1 (Conv2D)       (None, 14, 14, 512)       2359808   \n",
            "                                                                 \n",
            " block5_conv2 (Conv2D)       (None, 14, 14, 512)       2359808   \n",
            "                                                                 \n",
            " block5_conv3 (Conv2D)       (None, 14, 14, 512)       2359808   \n",
            "                                                                 \n",
            " block5_pool (MaxPooling2D)  (None, 7, 7, 512)         0         \n",
            "                                                                 \n",
            " flatten (Flatten)           (None, 25088)             0         \n",
            "                                                                 \n",
            " dense (Dense)               (None, 4)                 100356    \n",
            "                                                                 \n",
            "=================================================================\n",
            "Total params: 14,815,044\n",
            "Trainable params: 100,356\n",
            "Non-trainable params: 14,714,688\n",
            "_________________________________________________________________\n"
          ]
        }
      ]
    },
    {
      "cell_type": "code",
      "source": [
        "#Fit the model\n",
        "###################################################################################\n",
        "# Need to check the size of the validation datasets\n",
        "# Need to be Make sure that  dataset or generator can generate at least `steps_per_epoch * epochs` batches (in this case, 20 batches)\n",
        "history = model.fit(\n",
        "                    x_train, y_train,\n",
        "                    epochs = 10, verbose=1,\n",
        "                    validation_data = (x_validate, y_validate),\n",
        "                    validation_steps = 20)"
      ],
      "metadata": {
        "colab": {
          "base_uri": "https://localhost:8080/"
        },
        "id": "QfXKYe6KF4Iv",
        "outputId": "63c3ba16-22ee-44bd-e603-35fa478e5747"
      },
      "id": "QfXKYe6KF4Iv",
      "execution_count": 19,
      "outputs": [
        {
          "output_type": "stream",
          "name": "stdout",
          "text": [
            "Epoch 1/10\n",
            "10/10 [==============================] - ETA: 0s - loss: 0.5634 - acc: 0.3311 "
          ]
        },
        {
          "output_type": "stream",
          "name": "stderr",
          "text": [
            "WARNING:tensorflow:Your input ran out of data; interrupting training. Make sure that your dataset or generator can generate at least `steps_per_epoch * epochs` batches (in this case, 20 batches). You may need to use the repeat() function when building your dataset.\n"
          ]
        },
        {
          "output_type": "stream",
          "name": "stdout",
          "text": [
            "\b\b\b\b\b\b\b\b\b\b\b\b\b\b\b\b\b\b\b\b\b\b\b\b\b\b\b\b\b\b\b\b\b\b\b\b\b\b\b\b\b\b\b\b\b\b\b\b\b\b\b\b\b\b\b\b\b\b\b\b\b\b\b\b\b\b\b\b\b\b\b\b\b\b\b\b\b\r10/10 [==============================] - 240s 24s/step - loss: 0.5634 - acc: 0.3311 - val_loss: 0.6999 - val_acc: 0.1351\n",
            "Epoch 2/10\n",
            "10/10 [==============================] - 194s 19s/step - loss: 0.5056 - acc: 0.4899\n",
            "Epoch 3/10\n",
            "10/10 [==============================] - 187s 19s/step - loss: 0.4793 - acc: 0.5304\n",
            "Epoch 4/10\n",
            "10/10 [==============================] - 190s 19s/step - loss: 0.4531 - acc: 0.5845\n",
            "Epoch 5/10\n",
            "10/10 [==============================] - 188s 19s/step - loss: 0.4308 - acc: 0.6622\n",
            "Epoch 6/10\n",
            "10/10 [==============================] - 193s 19s/step - loss: 0.4102 - acc: 0.6655\n",
            "Epoch 7/10\n",
            "10/10 [==============================] - 189s 19s/step - loss: 0.3910 - acc: 0.7196\n",
            "Epoch 8/10\n",
            "10/10 [==============================] - 190s 19s/step - loss: 0.3729 - acc: 0.7399\n",
            "Epoch 9/10\n",
            "10/10 [==============================] - 189s 19s/step - loss: 0.3577 - acc: 0.8142\n",
            "Epoch 10/10\n",
            "10/10 [==============================] - 189s 19s/step - loss: 0.3458 - acc: 0.8007\n"
          ]
        }
      ]
    },
    {
      "cell_type": "code",
      "source": [
        "# Evaluate the model on the train data\n",
        "train_loss, train_accuracy = model.evaluate(x_train, y_train, verbose=2)\n",
        "print(\"Train Accuracy:\", train_accuracy)\n",
        "\n",
        "# Evaluate the model on test data\n",
        "test_loss, test_accuracy = model.evaluate(x_test, y_test, verbose=2)\n",
        "print(\"Test Accuracy:\", test_accuracy)"
      ],
      "metadata": {
        "colab": {
          "base_uri": "https://localhost:8080/"
        },
        "id": "oRNtp3h_c6xb",
        "outputId": "865993c9-a120-4a48-9902-42bb6ff1b67b"
      },
      "id": "oRNtp3h_c6xb",
      "execution_count": 21,
      "outputs": [
        {
          "output_type": "stream",
          "name": "stdout",
          "text": [
            "10/10 - 204s - loss: 0.3300 - acc: 0.7804 - 204s/epoch - 20s/step\n",
            "Train Accuracy: 0.7804054021835327\n",
            "2/2 - 22s - loss: 0.4586 - acc: 0.5676 - 22s/epoch - 11s/step\n",
            "Test Accuracy: 0.5675675868988037\n"
          ]
        }
      ]
    },
    {
      "cell_type": "code",
      "source": [
        "# Save the trained model\n",
        "model.save(\"pet_expressions_model_vgg16.h5\")"
      ],
      "metadata": {
        "id": "G8wnDM_Jg6hE"
      },
      "id": "G8wnDM_Jg6hE",
      "execution_count": null,
      "outputs": []
    },
    {
      "cell_type": "code",
      "source": [
        "##################################################################################"
      ],
      "metadata": {
        "id": "J9TWPC47I8WW"
      },
      "id": "J9TWPC47I8WW",
      "execution_count": null,
      "outputs": []
    },
    {
      "cell_type": "code",
      "source": [
        "# Load the saved model\n",
        "\n",
        "loaded_model = load_model(\"pet_expressions_model.h5\")"
      ],
      "metadata": {
        "id": "OI2oPULfH34N"
      },
      "id": "OI2oPULfH34N",
      "execution_count": null,
      "outputs": []
    },
    {
      "cell_type": "code",
      "source": [
        "# Function to load and preprocess images\n",
        "\n",
        "def load_images_from_folder(folder):\n",
        "    images = []\n",
        "    for filename in os.listdir(folder):\n",
        "        img = cv2.imread(os.path.join(folder, filename))\n",
        "        if img is not None:\n",
        "            img = cv2.cvtColor(img, cv2.COLOR_BGR2GRAY)\n",
        "            img = cv2.resize(img, (48, 48))  # Resize to a fixed size for the model\n",
        "            images.append(img)\n",
        "    return images"
      ],
      "metadata": {
        "id": "vApWzW3iIBOL"
      },
      "id": "vApWzW3iIBOL",
      "execution_count": null,
      "outputs": []
    },
    {
      "cell_type": "code",
      "source": [
        "# Load a custom test image\n",
        "\n",
        "custom_test_image_path = \"/kaggle/input/pets-facial-expression-dataset/Angry/16924834.jpg\"\n",
        "\n",
        "custom_test_image = cv2.imread(custom_test_image_path)\n",
        "custom_test_image = cv2.cvtColor(custom_test_image, cv2.COLOR_BGR2GRAY)\n",
        "custom_test_image = cv2.resize(custom_test_image, (48, 48))\n",
        "custom_test_image = custom_test_image.astype('float32') / 255.0"
      ],
      "metadata": {
        "id": "G2hJ_t8uIBXv"
      },
      "id": "G2hJ_t8uIBXv",
      "execution_count": null,
      "outputs": []
    },
    {
      "cell_type": "code",
      "source": [
        "# Reshape the image to match the model input shape\n",
        "\n",
        "custom_test_image = np.expand_dims(custom_test_image, axis=0)\n",
        "custom_test_image = np.expand_dims(custom_test_image, axis=-1)"
      ],
      "metadata": {
        "id": "zoagi0XAIBhH"
      },
      "id": "zoagi0XAIBhH",
      "execution_count": null,
      "outputs": []
    },
    {
      "cell_type": "code",
      "source": [
        "# Make predictions on the custom test image\n",
        "\n",
        "prediction = loaded_model.predict(custom_test_image)\n",
        "prediction_prob = prediction[0]"
      ],
      "metadata": {
        "id": "r39cICOXIBqP"
      },
      "id": "r39cICOXIBqP",
      "execution_count": null,
      "outputs": []
    },
    {
      "cell_type": "code",
      "source": [
        "emotion_label = np.argmax(prediction[0])"
      ],
      "metadata": {
        "id": "4QkEWBRMIBzy"
      },
      "id": "4QkEWBRMIBzy",
      "execution_count": null,
      "outputs": []
    },
    {
      "cell_type": "code",
      "source": [
        "# Map the predicted label to emotion class\n",
        "\n",
        "emotion_classes = {0: 'happy', 1: 'sad', 2: 'angry'}\n",
        "predicted_emotion = emotion_classes[emotion_label]"
      ],
      "metadata": {
        "id": "CiimcfpxH4CD"
      },
      "id": "CiimcfpxH4CD",
      "execution_count": null,
      "outputs": []
    },
    {
      "cell_type": "code",
      "source": [
        "# Print the custom test image and its predicted label\n",
        "\n",
        "print(f\"Predicted Emotion: {predicted_emotion}\")\n",
        "print(f\"Confidence [happy, sad, angry]: {prediction_prob}\")"
      ],
      "metadata": {
        "id": "MF1XmXXHImD9"
      },
      "id": "MF1XmXXHImD9",
      "execution_count": null,
      "outputs": []
    },
    {
      "cell_type": "code",
      "source": [
        "#Display the custom test image using matplotlib\n",
        "\n",
        "plt.imshow(custom_test_image[0, :, :, 0])\n",
        "plt.title(f\"Predicted Emotion: {predicted_emotion}\")\n",
        "plt.axis('off')  # Hide axes\n",
        "plt.show()"
      ],
      "metadata": {
        "id": "25M2Dw8nImNk"
      },
      "id": "25M2Dw8nImNk",
      "execution_count": null,
      "outputs": []
    },
    {
      "cell_type": "code",
      "source": [
        "# Display the original custom test image using PIL\n",
        "\n",
        "img_pil = Image.open(custom_test_image_path)\n",
        "plt.imshow(np.array(img_pil))\n",
        "plt.title(f\"Predicted Emotion: {predicted_emotion}\")\n",
        "plt.axis('off')  # Hide axes\n",
        "plt.show()"
      ],
      "metadata": {
        "id": "VgZQk-xoImVE"
      },
      "id": "VgZQk-xoImVE",
      "execution_count": null,
      "outputs": []
    }
  ],
  "metadata": {
    "kernelspec": {
      "display_name": "Python 3 (ipykernel)",
      "language": "python",
      "name": "python3"
    },
    "language_info": {
      "codemirror_mode": {
        "name": "ipython",
        "version": 3
      },
      "file_extension": ".py",
      "mimetype": "text/x-python",
      "name": "python",
      "nbconvert_exporter": "python",
      "pygments_lexer": "ipython3",
      "version": "3.9.13"
    },
    "colab": {
      "provenance": []
    }
  },
  "nbformat": 4,
  "nbformat_minor": 5
}