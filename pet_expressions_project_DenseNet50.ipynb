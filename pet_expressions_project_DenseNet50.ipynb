{
  "cells": [
    {
      "cell_type": "code",
      "execution_count": null,
      "metadata": {
        "id": "e508faf6"
      },
      "outputs": [],
      "source": [
        "# Import Dependencies\n",
        "import os\n",
        "import cv2\n",
        "import numpy as np\n",
        "from sklearn.model_selection import train_test_split\n",
        "from keras.utils import np_utils\n",
        "from keras.models import Sequential\n",
        "from keras.layers import Dense, Conv2D, MaxPooling2D, Flatten, Dropout\n",
        "from IPython.display import display, Image\n",
        "from keras.layers import BatchNormalization\n",
        "from keras.callbacks import EarlyStopping\n",
        "from tensorflow.keras.applications import ResNet50, DenseNet121, EfficientNetB0\n",
        "from tensorflow.keras.layers import Dense, GlobalAveragePooling2D\n",
        "from tensorflow.keras.models import Model\n",
        "from sklearn.model_selection import train_test_split\n",
        "from tensorflow.keras.callbacks import EarlyStopping, ReduceLROnPlateau\n",
        "from sklearn.model_selection import train_test_split\n",
        "import matplotlib.pyplot as plt\n",
        "%matplotlib inline\n",
        "import matplotlib.image as mpimg\n",
        "import os\n",
        "from keras.utils import to_categorical"
      ],
      "id": "e508faf6"
    },
    {
      "cell_type": "code",
      "execution_count": null,
      "metadata": {
        "colab": {
          "base_uri": "https://localhost:8080/"
        },
        "id": "_TPEdqWkAlKQ",
        "outputId": "f1abe4d5-2abf-46ee-f9e7-a3a54a597dc7"
      },
      "outputs": [
        {
          "output_type": "stream",
          "name": "stdout",
          "text": [
            "Drive already mounted at /content/drive; to attempt to forcibly remount, call drive.mount(\"/content/drive\", force_remount=True).\n"
          ]
        }
      ],
      "source": [
        "# Set up Google Drive\n",
        "from google.colab import drive\n",
        "drive.mount('/content/drive')"
      ],
      "id": "_TPEdqWkAlKQ"
    },
    {
      "cell_type": "code",
      "execution_count": null,
      "metadata": {
        "colab": {
          "base_uri": "https://localhost:8080/"
        },
        "id": "yMkxM8-gBy8U",
        "outputId": "cb9884ed-7387-436d-b451-11fc5df0eec7"
      },
      "outputs": [
        {
          "output_type": "stream",
          "name": "stdout",
          "text": [
            "/content/drive/MyDrive/pet_expressions_data\n"
          ]
        }
      ],
      "source": [
        "# Change Directory\n",
        "%cd /content/drive/MyDrive/pet_expressions_data"
      ],
      "id": "yMkxM8-gBy8U"
    },
    {
      "cell_type": "code",
      "execution_count": null,
      "metadata": {
        "id": "oHd6VWxVCdMn"
      },
      "outputs": [],
      "source": [
        "# Define the path to the AUGMENTED dataset folders\n",
        "happy_folder = \"/content/drive/MyDrive/pet_expressions_data/happy\"\n",
        "sad_folder = \"/content/drive/MyDrive/pet_expressions_data/sad\"\n",
        "angry_folder = \"/content/drive/MyDrive/pet_expressions_data/angry\"\n",
        "other_folder = \"/content/drive/MyDrive/pet_expressions_data/other\""
      ],
      "id": "oHd6VWxVCdMn"
    },
    {
      "cell_type": "code",
      "source": [
        "# Define path to the ORGINAL dataset folders\n",
        "# happy_folder = \"/content/drive/MyDrive/pet_expressions_data_original/happy\"\n",
        "# sad_folder = \"/content/drive/MyDrive/pet_expressions_data_original/sad\"\n",
        "# angry_folder = \"/content/drive/MyDrive/pet_expressions_data_original/angry\"\n",
        "# other_folder = \"/content/drive/MyDrive/pet_expressions_data_original/other\"\n"
      ],
      "metadata": {
        "id": "f_hXgf19Gqjh"
      },
      "id": "f_hXgf19Gqjh",
      "execution_count": null,
      "outputs": []
    },
    {
      "cell_type": "code",
      "execution_count": null,
      "metadata": {
        "id": "U7P5XmOCRo28"
      },
      "outputs": [],
      "source": [
        "# Check the number of pictures in each 'emotion' folder, ideally we would want this to be equal\n",
        "# Define function to count picturues within a folder, takes path as input\n",
        "\n",
        "def count_pics(folder_path):\n",
        "    picture_extensions = ['.jpg', '.jpeg', '.png', '.gif', '.bmp']\n",
        "    picture_count = 0\n",
        "\n",
        "    # Check if the provided folder path exists\n",
        "    if not os.path.exists(folder_path):\n",
        "        print(\"Folder path does not exist.\")\n",
        "        return 0\n",
        "\n",
        "    # Get a list of files in the folder\n",
        "    files = os.listdir(folder_path)\n",
        "\n",
        "    # Count pictures with valid extensions\n",
        "    for file in files:\n",
        "        _, extension = os.path.splitext(file)\n",
        "        if extension.lower() in picture_extensions:\n",
        "            picture_count += 1\n",
        "\n",
        "    return picture_count"
      ],
      "id": "U7P5XmOCRo28"
    },
    {
      "cell_type": "code",
      "execution_count": null,
      "metadata": {
        "colab": {
          "base_uri": "https://localhost:8080/"
        },
        "id": "7gn4cZDKUKJi",
        "outputId": "191381e7-448d-49a1-ff5c-c06fb0c7fe2f"
      },
      "outputs": [
        {
          "output_type": "stream",
          "name": "stdout",
          "text": [
            "Number of pictures in the HAPPY folder: 612\n"
          ]
        }
      ],
      "source": [
        "# Happy\n",
        "happy_picture_count = count_pics(happy_folder)\n",
        "print(f\"Number of pictures in the HAPPY folder: {happy_picture_count}\")"
      ],
      "id": "7gn4cZDKUKJi"
    },
    {
      "cell_type": "code",
      "execution_count": null,
      "metadata": {
        "colab": {
          "base_uri": "https://localhost:8080/"
        },
        "id": "JYCbnDnMVHbI",
        "outputId": "f2f33fe4-d831-4923-c8f9-dce88f2c1b3d"
      },
      "outputs": [
        {
          "output_type": "stream",
          "name": "stdout",
          "text": [
            "Number of pictures in the SAD folder: 605\n"
          ]
        }
      ],
      "source": [
        "# Sad\n",
        "sad_picture_count = count_pics(sad_folder)\n",
        "print(f\"Number of pictures in the SAD folder: {sad_picture_count}\")"
      ],
      "id": "JYCbnDnMVHbI"
    },
    {
      "cell_type": "code",
      "execution_count": null,
      "metadata": {
        "colab": {
          "base_uri": "https://localhost:8080/"
        },
        "id": "IZNVKYnhVHx2",
        "outputId": "0bd6fd36-fe8b-4281-f5df-8bda683aa182"
      },
      "outputs": [
        {
          "output_type": "stream",
          "name": "stdout",
          "text": [
            "Number of pictures in the ANGRY folder: 594\n"
          ]
        }
      ],
      "source": [
        "# Angry\n",
        "angry_picture_count = count_pics(angry_folder)\n",
        "print(f\"Number of pictures in the ANGRY folder: {angry_picture_count}\")"
      ],
      "id": "IZNVKYnhVHx2"
    },
    {
      "cell_type": "code",
      "execution_count": null,
      "metadata": {
        "colab": {
          "base_uri": "https://localhost:8080/"
        },
        "id": "pPVPzNS_VIFy",
        "outputId": "420610ad-1b55-4b81-ce2a-32cc67387ed0"
      },
      "outputs": [
        {
          "output_type": "stream",
          "name": "stdout",
          "text": [
            "Number of pictures in the  OTHER folder: 559\n"
          ]
        }
      ],
      "source": [
        " # Other\n",
        "other_picture_count = count_pics(other_folder)\n",
        "print(f\"Number of pictures in the  OTHER folder: {other_picture_count}\")"
      ],
      "id": "pPVPzNS_VIFy"
    },
    {
      "cell_type": "code",
      "execution_count": null,
      "metadata": {
        "id": "gHD-rY4OGUdC"
      },
      "outputs": [],
      "source": [
        "# Function to load and preprocess images\n",
        "def load_images_from_folder(folder):\n",
        "    images = []\n",
        "    for filename in os.listdir(folder):\n",
        "        img = cv2.imread(os.path.join(folder,filename))\n",
        "        if img is not None:\n",
        "            img = cv2.cvtColor(img, cv2.COLOR_BGR2GRAY)\n",
        "            img = cv2.resize(img, (48, 48))  # Resize to a fixed size for the model\n",
        "            images.append(img)\n",
        "    return images"
      ],
      "id": "gHD-rY4OGUdC"
    },
    {
      "cell_type": "code",
      "execution_count": null,
      "metadata": {
        "id": "c76b61aa"
      },
      "outputs": [],
      "source": [
        "# Load images\n",
        "happy_images = load_images_from_folder(happy_folder)\n",
        "sad_images = load_images_from_folder(sad_folder)\n",
        "angry_images = load_images_from_folder(angry_folder)\n",
        "other_images = load_images_from_folder(other_folder)"
      ],
      "id": "c76b61aa"
    },
    {
      "cell_type": "code",
      "execution_count": null,
      "metadata": {
        "id": "paWwdzBVibZC"
      },
      "outputs": [],
      "source": [
        "# Shuffle images in folder\n",
        "import random\n",
        "\n",
        "random.shuffle(happy_images)\n",
        "random.shuffle(sad_images)\n",
        "random.shuffle(angry_images)\n",
        "random.shuffle(other_images)"
      ],
      "id": "paWwdzBVibZC"
    },
    {
      "cell_type": "code",
      "execution_count": null,
      "metadata": {
        "id": "7Y5JhOxVEjK5"
      },
      "outputs": [],
      "source": [
        "# Create labels for each emotion category folder\n",
        "happy_labels = [0] * len(happy_images)\n",
        "sad_labels = [1] * len(sad_images)\n",
        "angry_labels = [2] * len(angry_images)\n",
        "other_labels = [3] * len(other_images)"
      ],
      "id": "7Y5JhOxVEjK5"
    },
    {
      "cell_type": "code",
      "execution_count": null,
      "metadata": {
        "id": "fE_-U9oSHLmz"
      },
      "outputs": [],
      "source": [
        "# Concatenate images and labels\n",
        "x = np.array(happy_images + sad_images + angry_images + other_images)\n",
        "y = np.array(happy_labels + sad_labels + angry_labels + other_labels)"
      ],
      "id": "fE_-U9oSHLmz"
    },
    {
      "cell_type": "code",
      "execution_count": null,
      "metadata": {
        "id": "Bggs4WygHL4K"
      },
      "outputs": [],
      "source": [
        "# Normalize pixel values to range [0, 1]\n",
        "x = x.astype('float32') / 255.0"
      ],
      "id": "Bggs4WygHL4K"
    },
    {
      "cell_type": "code",
      "execution_count": null,
      "metadata": {
        "id": "CF-FOR4KHSz1"
      },
      "outputs": [],
      "source": [
        "# One-hot encode the labels\n",
        "\n",
        "from tensorflow.keras.utils import to_categorical\n",
        "\n",
        "y = to_categorical(y, 4)"
      ],
      "id": "CF-FOR4KHSz1"
    },
    {
      "cell_type": "code",
      "execution_count": null,
      "metadata": {
        "id": "yDNk4ib-HT_T"
      },
      "outputs": [],
      "source": [
        "# Split the data into training and testing sets\n",
        "x_train, x_test, y_train, y_test = train_test_split(x, y, test_size=0.10, random_state=100)"
      ],
      "id": "yDNk4ib-HT_T"
    },
    {
      "cell_type": "code",
      "execution_count": null,
      "metadata": {
        "id": "tgyVFrupWu_A"
      },
      "outputs": [],
      "source": [
        "# Data pre-processing - resizing images to specific shapes for model input\n",
        "input_shape_densenet = (224, 224, 3)\n",
        "\n",
        "# Function to resize pictures to variable shapes defined above\n",
        "def resize_pics(images, input_shape):\n",
        "    resized_images = []\n",
        "    for img in images:\n",
        "        img_resized = cv2.resize(img, (input_shape[0], input_shape[1]))\n",
        "        img_resized = np.expand_dims(img_resized, axis=-1)\n",
        "        img_resized = np.repeat(img_resized, 3, axis=-1)  # Add three channels to convert grayscale to RGB\n",
        "        resized_images.append(img_resized)\n",
        "    return np.array(resized_images)\n",
        "\n",
        "# Utilize function above to resize data\n",
        "x_train_resized_densenet = resize_pics(x_train, input_shape_densenet)"
      ],
      "id": "tgyVFrupWu_A"
    },
    {
      "cell_type": "code",
      "execution_count": null,
      "metadata": {
        "id": "1hPltMvvXF7i"
      },
      "outputs": [],
      "source": [
        "# Fit DenseNet Model\n",
        "densenet_base_model = DenseNet121(weights='imagenet', include_top=False, input_shape=input_shape_densenet)\n",
        "densenet_base_model.trainable = False\n",
        "#Setting layer.trainable to False moves all the layer's weights from trainable to non-trainable.\n",
        "#This is called \"freezing\" the layer: the state of a frozen layer won't be updated during training"
      ],
      "id": "1hPltMvvXF7i"
    },
    {
      "cell_type": "code",
      "execution_count": null,
      "metadata": {
        "id": "bUIPDH_rXN21"
      },
      "outputs": [],
      "source": [
        "# Add custom classification head to the DenseNet model\n",
        "densenet_global_avg_pooling = GlobalAveragePooling2D()(densenet_base_model.output)\n",
        "densenet_output = Dense(4, activation='softmax')(densenet_global_avg_pooling)\n",
        "densenet_model = Model(inputs=densenet_base_model.input, outputs=densenet_output)"
      ],
      "id": "bUIPDH_rXN21"
    },
    {
      "cell_type": "code",
      "execution_count": null,
      "metadata": {
        "id": "taY4WEMAXN6k"
      },
      "outputs": [],
      "source": [
        "# Compile the DenseNet model\n",
        "densenet_model.compile(loss='categorical_crossentropy', optimizer='adam', metrics=['accuracy'])"
      ],
      "id": "taY4WEMAXN6k"
    },
    {
      "cell_type": "code",
      "execution_count": null,
      "metadata": {
        "id": "qUsi3wynXXeN"
      },
      "outputs": [],
      "source": [
        "# Establish early stopping\n",
        "early_stopping = EarlyStopping(monitor='val_loss', patience=10, restore_best_weights=True)\n",
        "lr_scheduler = ReduceLROnPlateau(monitor='val_loss', patience=5, factor=0.5, min_lr=1e-7)"
      ],
      "id": "qUsi3wynXXeN"
    },
    {
      "cell_type": "code",
      "execution_count": null,
      "metadata": {
        "id": "lQSqcX1ycUKE"
      },
      "outputs": [],
      "source": [
        "# Passing epochs through variable\n",
        "######EPOCS WARNING: LONG RUN TIME\n",
        "epochs=50"
      ],
      "id": "lQSqcX1ycUKE"
    },
    {
      "cell_type": "code",
      "execution_count": null,
      "metadata": {
        "colab": {
          "base_uri": "https://localhost:8080/"
        },
        "id": "7FCVuwYsXXiH",
        "outputId": "ff187b28-fc8a-49a5-a121-fca2ed53d2e9"
      },
      "outputs": [
        {
          "output_type": "stream",
          "name": "stdout",
          "text": [
            "Epoch 1/50\n",
            "30/30 [==============================] - 379s 12s/step - loss: 1.4774 - accuracy: 0.2897 - val_loss: 1.3299 - val_accuracy: 0.3645 - lr: 0.0010\n",
            "Epoch 2/50\n",
            "30/30 [==============================] - 377s 13s/step - loss: 1.2956 - accuracy: 0.3814 - val_loss: 1.2052 - val_accuracy: 0.4720 - lr: 0.0010\n",
            "Epoch 3/50\n",
            "30/30 [==============================] - 372s 12s/step - loss: 1.2094 - accuracy: 0.4575 - val_loss: 1.1380 - val_accuracy: 0.4766 - lr: 0.0010\n",
            "Epoch 4/50\n",
            "30/30 [==============================] - 378s 13s/step - loss: 1.1401 - accuracy: 0.5023 - val_loss: 1.1150 - val_accuracy: 0.5187 - lr: 0.0010\n",
            "Epoch 5/50\n",
            "30/30 [==============================] - 374s 12s/step - loss: 1.0936 - accuracy: 0.5367 - val_loss: 1.0690 - val_accuracy: 0.5561 - lr: 0.0010\n",
            "Epoch 6/50\n",
            "30/30 [==============================] - 374s 13s/step - loss: 1.0685 - accuracy: 0.5586 - val_loss: 1.0528 - val_accuracy: 0.5561 - lr: 0.0010\n",
            "Epoch 7/50\n",
            "30/30 [==============================] - 375s 13s/step - loss: 1.0221 - accuracy: 0.5977 - val_loss: 1.0163 - val_accuracy: 0.6028 - lr: 0.0010\n",
            "Epoch 8/50\n",
            "30/30 [==============================] - 368s 12s/step - loss: 0.9967 - accuracy: 0.6050 - val_loss: 1.0116 - val_accuracy: 0.5935 - lr: 0.0010\n",
            "Epoch 9/50\n",
            "30/30 [==============================] - 368s 12s/step - loss: 0.9671 - accuracy: 0.6196 - val_loss: 0.9855 - val_accuracy: 0.5888 - lr: 0.0010\n",
            "Epoch 10/50\n",
            "30/30 [==============================] - 369s 12s/step - loss: 0.9421 - accuracy: 0.6410 - val_loss: 0.9821 - val_accuracy: 0.5654 - lr: 0.0010\n",
            "Epoch 11/50\n",
            "30/30 [==============================] - 370s 12s/step - loss: 0.9259 - accuracy: 0.6472 - val_loss: 0.9689 - val_accuracy: 0.6028 - lr: 0.0010\n",
            "Epoch 12/50\n",
            "30/30 [==============================] - 364s 12s/step - loss: 0.9029 - accuracy: 0.6602 - val_loss: 0.9585 - val_accuracy: 0.6121 - lr: 0.0010\n",
            "Epoch 13/50\n",
            "30/30 [==============================] - 374s 13s/step - loss: 0.8867 - accuracy: 0.6639 - val_loss: 0.9605 - val_accuracy: 0.6121 - lr: 0.0010\n",
            "Epoch 14/50\n",
            "30/30 [==============================] - 372s 12s/step - loss: 0.8706 - accuracy: 0.6769 - val_loss: 0.9454 - val_accuracy: 0.6308 - lr: 0.0010\n",
            "Epoch 15/50\n",
            "30/30 [==============================] - 367s 12s/step - loss: 0.8627 - accuracy: 0.6806 - val_loss: 0.9397 - val_accuracy: 0.5935 - lr: 0.0010\n",
            "Epoch 16/50\n",
            "30/30 [==============================] - 369s 12s/step - loss: 0.8421 - accuracy: 0.6884 - val_loss: 0.9427 - val_accuracy: 0.6262 - lr: 0.0010\n",
            "Epoch 17/50\n",
            "30/30 [==============================] - 368s 12s/step - loss: 0.8267 - accuracy: 0.6983 - val_loss: 0.9125 - val_accuracy: 0.6028 - lr: 0.0010\n",
            "Epoch 18/50\n",
            "30/30 [==============================] - 371s 12s/step - loss: 0.8153 - accuracy: 0.7040 - val_loss: 0.9122 - val_accuracy: 0.6495 - lr: 0.0010\n",
            "Epoch 19/50\n",
            "30/30 [==============================] - 369s 12s/step - loss: 0.8080 - accuracy: 0.7019 - val_loss: 0.9123 - val_accuracy: 0.6075 - lr: 0.0010\n",
            "Epoch 20/50\n",
            "30/30 [==============================] - 374s 13s/step - loss: 0.7985 - accuracy: 0.7092 - val_loss: 0.9033 - val_accuracy: 0.6121 - lr: 0.0010\n",
            "Epoch 21/50\n",
            "30/30 [==============================] - 372s 12s/step - loss: 0.7779 - accuracy: 0.7249 - val_loss: 0.9039 - val_accuracy: 0.6262 - lr: 0.0010\n",
            "Epoch 22/50\n",
            "30/30 [==============================] - 372s 12s/step - loss: 0.7719 - accuracy: 0.7228 - val_loss: 0.8889 - val_accuracy: 0.6355 - lr: 0.0010\n",
            "Epoch 23/50\n",
            "30/30 [==============================] - 363s 12s/step - loss: 0.7588 - accuracy: 0.7358 - val_loss: 0.8886 - val_accuracy: 0.6355 - lr: 0.0010\n",
            "Epoch 24/50\n",
            "30/30 [==============================] - 365s 12s/step - loss: 0.7556 - accuracy: 0.7290 - val_loss: 0.8769 - val_accuracy: 0.6589 - lr: 0.0010\n",
            "Epoch 25/50\n",
            "30/30 [==============================] - 367s 12s/step - loss: 0.7420 - accuracy: 0.7400 - val_loss: 0.8967 - val_accuracy: 0.6495 - lr: 0.0010\n",
            "Epoch 26/50\n",
            "30/30 [==============================] - 372s 12s/step - loss: 0.7371 - accuracy: 0.7358 - val_loss: 0.8829 - val_accuracy: 0.6729 - lr: 0.0010\n",
            "Epoch 27/50\n",
            "30/30 [==============================] - 370s 12s/step - loss: 0.7320 - accuracy: 0.7462 - val_loss: 0.8685 - val_accuracy: 0.6495 - lr: 0.0010\n",
            "Epoch 28/50\n",
            "30/30 [==============================] - 370s 12s/step - loss: 0.7237 - accuracy: 0.7488 - val_loss: 0.8714 - val_accuracy: 0.6589 - lr: 0.0010\n",
            "Epoch 29/50\n",
            "30/30 [==============================] - 370s 12s/step - loss: 0.7137 - accuracy: 0.7499 - val_loss: 0.8695 - val_accuracy: 0.6121 - lr: 0.0010\n",
            "Epoch 30/50\n",
            "30/30 [==============================] - 367s 12s/step - loss: 0.7058 - accuracy: 0.7572 - val_loss: 0.8794 - val_accuracy: 0.6449 - lr: 0.0010\n",
            "Epoch 31/50\n",
            "30/30 [==============================] - 371s 12s/step - loss: 0.7000 - accuracy: 0.7582 - val_loss: 0.8584 - val_accuracy: 0.6495 - lr: 0.0010\n",
            "Epoch 32/50\n",
            "30/30 [==============================] - 368s 12s/step - loss: 0.6937 - accuracy: 0.7671 - val_loss: 0.8573 - val_accuracy: 0.6589 - lr: 0.0010\n",
            "Epoch 33/50\n",
            "30/30 [==============================] - 370s 12s/step - loss: 0.6861 - accuracy: 0.7665 - val_loss: 0.8563 - val_accuracy: 0.6682 - lr: 0.0010\n",
            "Epoch 34/50\n",
            "30/30 [==============================] - 370s 12s/step - loss: 0.6772 - accuracy: 0.7645 - val_loss: 0.8651 - val_accuracy: 0.6589 - lr: 0.0010\n",
            "Epoch 35/50\n",
            "30/30 [==============================] - 370s 12s/step - loss: 0.6740 - accuracy: 0.7681 - val_loss: 0.8515 - val_accuracy: 0.6636 - lr: 0.0010\n",
            "Epoch 36/50\n",
            "30/30 [==============================] - 369s 12s/step - loss: 0.6650 - accuracy: 0.7785 - val_loss: 0.8500 - val_accuracy: 0.6729 - lr: 0.0010\n",
            "Epoch 37/50\n",
            "30/30 [==============================] - 364s 12s/step - loss: 0.6666 - accuracy: 0.7665 - val_loss: 0.8614 - val_accuracy: 0.6729 - lr: 0.0010\n",
            "Epoch 38/50\n",
            "30/30 [==============================] - 371s 12s/step - loss: 0.6597 - accuracy: 0.7733 - val_loss: 0.8415 - val_accuracy: 0.6776 - lr: 0.0010\n",
            "Epoch 39/50\n",
            "30/30 [==============================] - 469s 16s/step - loss: 0.6510 - accuracy: 0.7702 - val_loss: 0.8478 - val_accuracy: 0.6729 - lr: 0.0010\n",
            "Epoch 40/50\n",
            "30/30 [==============================] - 436s 15s/step - loss: 0.6486 - accuracy: 0.7744 - val_loss: 0.8397 - val_accuracy: 0.6776 - lr: 0.0010\n",
            "Epoch 41/50\n",
            "30/30 [==============================] - 360s 12s/step - loss: 0.6385 - accuracy: 0.7832 - val_loss: 0.8411 - val_accuracy: 0.6869 - lr: 0.0010\n",
            "Epoch 42/50\n",
            "30/30 [==============================] - 365s 12s/step - loss: 0.6360 - accuracy: 0.7832 - val_loss: 0.8425 - val_accuracy: 0.6822 - lr: 0.0010\n",
            "Epoch 43/50\n",
            "30/30 [==============================] - 368s 12s/step - loss: 0.6344 - accuracy: 0.7890 - val_loss: 0.8516 - val_accuracy: 0.6822 - lr: 0.0010\n",
            "Epoch 44/50\n",
            "30/30 [==============================] - 368s 12s/step - loss: 0.6258 - accuracy: 0.7884 - val_loss: 0.8538 - val_accuracy: 0.6822 - lr: 0.0010\n",
            "Epoch 45/50\n",
            "30/30 [==============================] - 365s 12s/step - loss: 0.6277 - accuracy: 0.7832 - val_loss: 0.8454 - val_accuracy: 0.6729 - lr: 0.0010\n",
            "Epoch 46/50\n",
            "30/30 [==============================] - 370s 12s/step - loss: 0.6172 - accuracy: 0.7921 - val_loss: 0.8398 - val_accuracy: 0.6729 - lr: 5.0000e-04\n",
            "Epoch 47/50\n",
            "30/30 [==============================] - 364s 12s/step - loss: 0.6131 - accuracy: 0.7890 - val_loss: 0.8354 - val_accuracy: 0.6822 - lr: 5.0000e-04\n",
            "Epoch 48/50\n",
            "30/30 [==============================] - 369s 12s/step - loss: 0.6100 - accuracy: 0.7942 - val_loss: 0.8317 - val_accuracy: 0.6869 - lr: 5.0000e-04\n",
            "Epoch 49/50\n",
            "30/30 [==============================] - 362s 12s/step - loss: 0.6093 - accuracy: 0.7989 - val_loss: 0.8417 - val_accuracy: 0.6776 - lr: 5.0000e-04\n",
            "Epoch 50/50\n",
            "30/30 [==============================] - 370s 12s/step - loss: 0.6044 - accuracy: 0.8051 - val_loss: 0.8323 - val_accuracy: 0.6869 - lr: 5.0000e-04\n"
          ]
        }
      ],
      "source": [
        "# Train the models on resized training data and validation split,monitoring the validation loss and using the early stopping and learning rate scheduling callbacks to stop when necessary.\n",
        "######EPOCS WARNING: LONG RUN TIME\n",
        "densenet_history = densenet_model.fit(x_train_resized_densenet, y_train, batch_size=64, epochs=epochs, validation_split=0.1,callbacks=[early_stopping, lr_scheduler])\n"
      ],
      "id": "7FCVuwYsXXiH"
    },
    {
      "cell_type": "code",
      "execution_count": null,
      "metadata": {
        "id": "F3IHd5CtXkae"
      },
      "outputs": [],
      "source": [
        "# Resize test images to the input shape required by each model\n",
        "x_test_resized_densenet = resize_pics(x_test, input_shape_densenet)"
      ],
      "id": "F3IHd5CtXkae"
    },
    {
      "cell_type": "code",
      "execution_count": null,
      "metadata": {
        "colab": {
          "base_uri": "https://localhost:8080/"
        },
        "id": "QQAnLceQXkey",
        "outputId": "a4659c4d-0d69-40bf-a891-2e775c9555ed"
      },
      "outputs": [
        {
          "output_type": "stream",
          "name": "stdout",
          "text": [
            "8/8 [==============================] - 49s 6s/step - loss: 0.8983 - accuracy: 0.6498\n",
            "DenseNet Test accuracy: 0.649789035320282\n"
          ]
        }
      ],
      "source": [
        "# Evaluate the models on test data\n",
        "densenet_loss, densenet_accuracy = densenet_model.evaluate(x_test_resized_densenet, y_test)\n",
        "\n",
        "print(\"DenseNet Test accuracy:\", densenet_accuracy)"
      ],
      "id": "QQAnLceQXkey"
    },
    {
      "cell_type": "code",
      "execution_count": null,
      "metadata": {
        "colab": {
          "base_uri": "https://localhost:8080/",
          "height": 542
        },
        "id": "aUNGmEt1WgpZ",
        "outputId": "de3694e8-9836-42d6-e4bc-c85fe229b11d"
      },
      "outputs": [
        {
          "output_type": "display_data",
          "data": {
            "text/html": [
              "<html>\n",
              "<head><meta charset=\"utf-8\" /></head>\n",
              "<body>\n",
              "    <div>            <script src=\"https://cdnjs.cloudflare.com/ajax/libs/mathjax/2.7.5/MathJax.js?config=TeX-AMS-MML_SVG\"></script><script type=\"text/javascript\">if (window.MathJax && window.MathJax.Hub && window.MathJax.Hub.Config) {window.MathJax.Hub.Config({SVG: {font: \"STIX-Web\"}});}</script>                <script type=\"text/javascript\">window.PlotlyConfig = {MathJaxConfig: 'local'};</script>\n",
              "        <script src=\"https://cdn.plot.ly/plotly-2.18.2.min.js\"></script>                <div id=\"d1f5130f-b2e0-4705-b5e7-59dc47623a0f\" class=\"plotly-graph-div\" style=\"height:525px; width:100%;\"></div>            <script type=\"text/javascript\">                                    window.PLOTLYENV=window.PLOTLYENV || {};                                    if (document.getElementById(\"d1f5130f-b2e0-4705-b5e7-59dc47623a0f\")) {                    Plotly.newPlot(                        \"d1f5130f-b2e0-4705-b5e7-59dc47623a0f\",                        [{\"mode\":\"lines+markers\",\"x\":[1,2,3,4,5,6,7,8,9,10,11,12,13,14,15,16,17,18,19,20,21,22,23,24,25,26,27,28,29,30,31,32,33,34,35,36,37,38,39,40,41,42,43,44,45,46,47,48,49,50],\"y\":[1.4773509502410889,1.295607328414917,1.209446668624878,1.1401071548461914,1.0936031341552734,1.0685324668884277,1.022093415260315,0.9966520667076111,0.9671384692192078,0.9421079754829407,0.9259021282196045,0.9029422402381897,0.8867138624191284,0.8706042766571045,0.8627324104309082,0.8421255946159363,0.8266703486442566,0.8152881860733032,0.8080223798751831,0.7985140681266785,0.7778558135032654,0.7719449996948242,0.7588040828704834,0.7556326985359192,0.7419522404670715,0.7370673418045044,0.7319753170013428,0.7237403392791748,0.7137288451194763,0.7058055996894836,0.7000329494476318,0.69373619556427,0.686062216758728,0.6771759390830994,0.673956573009491,0.6650371551513672,0.6665922403335571,0.6596868634223938,0.6509993076324463,0.6485956311225891,0.6384758353233337,0.63604336977005,0.6343597173690796,0.6257658004760742,0.627713143825531,0.617236316204071,0.6131206154823303,0.6099774241447449,0.6093448996543884,0.6044462323188782],\"type\":\"scatter\"}],                        {\"template\":{\"data\":{\"histogram2dcontour\":[{\"type\":\"histogram2dcontour\",\"colorbar\":{\"outlinewidth\":0,\"ticks\":\"\"},\"colorscale\":[[0.0,\"#0d0887\"],[0.1111111111111111,\"#46039f\"],[0.2222222222222222,\"#7201a8\"],[0.3333333333333333,\"#9c179e\"],[0.4444444444444444,\"#bd3786\"],[0.5555555555555556,\"#d8576b\"],[0.6666666666666666,\"#ed7953\"],[0.7777777777777778,\"#fb9f3a\"],[0.8888888888888888,\"#fdca26\"],[1.0,\"#f0f921\"]]}],\"choropleth\":[{\"type\":\"choropleth\",\"colorbar\":{\"outlinewidth\":0,\"ticks\":\"\"}}],\"histogram2d\":[{\"type\":\"histogram2d\",\"colorbar\":{\"outlinewidth\":0,\"ticks\":\"\"},\"colorscale\":[[0.0,\"#0d0887\"],[0.1111111111111111,\"#46039f\"],[0.2222222222222222,\"#7201a8\"],[0.3333333333333333,\"#9c179e\"],[0.4444444444444444,\"#bd3786\"],[0.5555555555555556,\"#d8576b\"],[0.6666666666666666,\"#ed7953\"],[0.7777777777777778,\"#fb9f3a\"],[0.8888888888888888,\"#fdca26\"],[1.0,\"#f0f921\"]]}],\"heatmap\":[{\"type\":\"heatmap\",\"colorbar\":{\"outlinewidth\":0,\"ticks\":\"\"},\"colorscale\":[[0.0,\"#0d0887\"],[0.1111111111111111,\"#46039f\"],[0.2222222222222222,\"#7201a8\"],[0.3333333333333333,\"#9c179e\"],[0.4444444444444444,\"#bd3786\"],[0.5555555555555556,\"#d8576b\"],[0.6666666666666666,\"#ed7953\"],[0.7777777777777778,\"#fb9f3a\"],[0.8888888888888888,\"#fdca26\"],[1.0,\"#f0f921\"]]}],\"heatmapgl\":[{\"type\":\"heatmapgl\",\"colorbar\":{\"outlinewidth\":0,\"ticks\":\"\"},\"colorscale\":[[0.0,\"#0d0887\"],[0.1111111111111111,\"#46039f\"],[0.2222222222222222,\"#7201a8\"],[0.3333333333333333,\"#9c179e\"],[0.4444444444444444,\"#bd3786\"],[0.5555555555555556,\"#d8576b\"],[0.6666666666666666,\"#ed7953\"],[0.7777777777777778,\"#fb9f3a\"],[0.8888888888888888,\"#fdca26\"],[1.0,\"#f0f921\"]]}],\"contourcarpet\":[{\"type\":\"contourcarpet\",\"colorbar\":{\"outlinewidth\":0,\"ticks\":\"\"}}],\"contour\":[{\"type\":\"contour\",\"colorbar\":{\"outlinewidth\":0,\"ticks\":\"\"},\"colorscale\":[[0.0,\"#0d0887\"],[0.1111111111111111,\"#46039f\"],[0.2222222222222222,\"#7201a8\"],[0.3333333333333333,\"#9c179e\"],[0.4444444444444444,\"#bd3786\"],[0.5555555555555556,\"#d8576b\"],[0.6666666666666666,\"#ed7953\"],[0.7777777777777778,\"#fb9f3a\"],[0.8888888888888888,\"#fdca26\"],[1.0,\"#f0f921\"]]}],\"surface\":[{\"type\":\"surface\",\"colorbar\":{\"outlinewidth\":0,\"ticks\":\"\"},\"colorscale\":[[0.0,\"#0d0887\"],[0.1111111111111111,\"#46039f\"],[0.2222222222222222,\"#7201a8\"],[0.3333333333333333,\"#9c179e\"],[0.4444444444444444,\"#bd3786\"],[0.5555555555555556,\"#d8576b\"],[0.6666666666666666,\"#ed7953\"],[0.7777777777777778,\"#fb9f3a\"],[0.8888888888888888,\"#fdca26\"],[1.0,\"#f0f921\"]]}],\"mesh3d\":[{\"type\":\"mesh3d\",\"colorbar\":{\"outlinewidth\":0,\"ticks\":\"\"}}],\"scatter\":[{\"fillpattern\":{\"fillmode\":\"overlay\",\"size\":10,\"solidity\":0.2},\"type\":\"scatter\"}],\"parcoords\":[{\"type\":\"parcoords\",\"line\":{\"colorbar\":{\"outlinewidth\":0,\"ticks\":\"\"}}}],\"scatterpolargl\":[{\"type\":\"scatterpolargl\",\"marker\":{\"colorbar\":{\"outlinewidth\":0,\"ticks\":\"\"}}}],\"bar\":[{\"error_x\":{\"color\":\"#2a3f5f\"},\"error_y\":{\"color\":\"#2a3f5f\"},\"marker\":{\"line\":{\"color\":\"#E5ECF6\",\"width\":0.5},\"pattern\":{\"fillmode\":\"overlay\",\"size\":10,\"solidity\":0.2}},\"type\":\"bar\"}],\"scattergeo\":[{\"type\":\"scattergeo\",\"marker\":{\"colorbar\":{\"outlinewidth\":0,\"ticks\":\"\"}}}],\"scatterpolar\":[{\"type\":\"scatterpolar\",\"marker\":{\"colorbar\":{\"outlinewidth\":0,\"ticks\":\"\"}}}],\"histogram\":[{\"marker\":{\"pattern\":{\"fillmode\":\"overlay\",\"size\":10,\"solidity\":0.2}},\"type\":\"histogram\"}],\"scattergl\":[{\"type\":\"scattergl\",\"marker\":{\"colorbar\":{\"outlinewidth\":0,\"ticks\":\"\"}}}],\"scatter3d\":[{\"type\":\"scatter3d\",\"line\":{\"colorbar\":{\"outlinewidth\":0,\"ticks\":\"\"}},\"marker\":{\"colorbar\":{\"outlinewidth\":0,\"ticks\":\"\"}}}],\"scattermapbox\":[{\"type\":\"scattermapbox\",\"marker\":{\"colorbar\":{\"outlinewidth\":0,\"ticks\":\"\"}}}],\"scatterternary\":[{\"type\":\"scatterternary\",\"marker\":{\"colorbar\":{\"outlinewidth\":0,\"ticks\":\"\"}}}],\"scattercarpet\":[{\"type\":\"scattercarpet\",\"marker\":{\"colorbar\":{\"outlinewidth\":0,\"ticks\":\"\"}}}],\"carpet\":[{\"aaxis\":{\"endlinecolor\":\"#2a3f5f\",\"gridcolor\":\"white\",\"linecolor\":\"white\",\"minorgridcolor\":\"white\",\"startlinecolor\":\"#2a3f5f\"},\"baxis\":{\"endlinecolor\":\"#2a3f5f\",\"gridcolor\":\"white\",\"linecolor\":\"white\",\"minorgridcolor\":\"white\",\"startlinecolor\":\"#2a3f5f\"},\"type\":\"carpet\"}],\"table\":[{\"cells\":{\"fill\":{\"color\":\"#EBF0F8\"},\"line\":{\"color\":\"white\"}},\"header\":{\"fill\":{\"color\":\"#C8D4E3\"},\"line\":{\"color\":\"white\"}},\"type\":\"table\"}],\"barpolar\":[{\"marker\":{\"line\":{\"color\":\"#E5ECF6\",\"width\":0.5},\"pattern\":{\"fillmode\":\"overlay\",\"size\":10,\"solidity\":0.2}},\"type\":\"barpolar\"}],\"pie\":[{\"automargin\":true,\"type\":\"pie\"}]},\"layout\":{\"autotypenumbers\":\"strict\",\"colorway\":[\"#636efa\",\"#EF553B\",\"#00cc96\",\"#ab63fa\",\"#FFA15A\",\"#19d3f3\",\"#FF6692\",\"#B6E880\",\"#FF97FF\",\"#FECB52\"],\"font\":{\"color\":\"#2a3f5f\"},\"hovermode\":\"closest\",\"hoverlabel\":{\"align\":\"left\"},\"paper_bgcolor\":\"white\",\"plot_bgcolor\":\"#E5ECF6\",\"polar\":{\"bgcolor\":\"#E5ECF6\",\"angularaxis\":{\"gridcolor\":\"white\",\"linecolor\":\"white\",\"ticks\":\"\"},\"radialaxis\":{\"gridcolor\":\"white\",\"linecolor\":\"white\",\"ticks\":\"\"}},\"ternary\":{\"bgcolor\":\"#E5ECF6\",\"aaxis\":{\"gridcolor\":\"white\",\"linecolor\":\"white\",\"ticks\":\"\"},\"baxis\":{\"gridcolor\":\"white\",\"linecolor\":\"white\",\"ticks\":\"\"},\"caxis\":{\"gridcolor\":\"white\",\"linecolor\":\"white\",\"ticks\":\"\"}},\"coloraxis\":{\"colorbar\":{\"outlinewidth\":0,\"ticks\":\"\"}},\"colorscale\":{\"sequential\":[[0.0,\"#0d0887\"],[0.1111111111111111,\"#46039f\"],[0.2222222222222222,\"#7201a8\"],[0.3333333333333333,\"#9c179e\"],[0.4444444444444444,\"#bd3786\"],[0.5555555555555556,\"#d8576b\"],[0.6666666666666666,\"#ed7953\"],[0.7777777777777778,\"#fb9f3a\"],[0.8888888888888888,\"#fdca26\"],[1.0,\"#f0f921\"]],\"sequentialminus\":[[0.0,\"#0d0887\"],[0.1111111111111111,\"#46039f\"],[0.2222222222222222,\"#7201a8\"],[0.3333333333333333,\"#9c179e\"],[0.4444444444444444,\"#bd3786\"],[0.5555555555555556,\"#d8576b\"],[0.6666666666666666,\"#ed7953\"],[0.7777777777777778,\"#fb9f3a\"],[0.8888888888888888,\"#fdca26\"],[1.0,\"#f0f921\"]],\"diverging\":[[0,\"#8e0152\"],[0.1,\"#c51b7d\"],[0.2,\"#de77ae\"],[0.3,\"#f1b6da\"],[0.4,\"#fde0ef\"],[0.5,\"#f7f7f7\"],[0.6,\"#e6f5d0\"],[0.7,\"#b8e186\"],[0.8,\"#7fbc41\"],[0.9,\"#4d9221\"],[1,\"#276419\"]]},\"xaxis\":{\"gridcolor\":\"white\",\"linecolor\":\"white\",\"ticks\":\"\",\"title\":{\"standoff\":15},\"zerolinecolor\":\"white\",\"automargin\":true,\"zerolinewidth\":2},\"yaxis\":{\"gridcolor\":\"white\",\"linecolor\":\"white\",\"ticks\":\"\",\"title\":{\"standoff\":15},\"zerolinecolor\":\"white\",\"automargin\":true,\"zerolinewidth\":2},\"scene\":{\"xaxis\":{\"backgroundcolor\":\"#E5ECF6\",\"gridcolor\":\"white\",\"linecolor\":\"white\",\"showbackground\":true,\"ticks\":\"\",\"zerolinecolor\":\"white\",\"gridwidth\":2},\"yaxis\":{\"backgroundcolor\":\"#E5ECF6\",\"gridcolor\":\"white\",\"linecolor\":\"white\",\"showbackground\":true,\"ticks\":\"\",\"zerolinecolor\":\"white\",\"gridwidth\":2},\"zaxis\":{\"backgroundcolor\":\"#E5ECF6\",\"gridcolor\":\"white\",\"linecolor\":\"white\",\"showbackground\":true,\"ticks\":\"\",\"zerolinecolor\":\"white\",\"gridwidth\":2}},\"shapedefaults\":{\"line\":{\"color\":\"#2a3f5f\"}},\"annotationdefaults\":{\"arrowcolor\":\"#2a3f5f\",\"arrowhead\":0,\"arrowwidth\":1},\"geo\":{\"bgcolor\":\"white\",\"landcolor\":\"#E5ECF6\",\"subunitcolor\":\"white\",\"showland\":true,\"showlakes\":true,\"lakecolor\":\"white\"},\"title\":{\"x\":0.05},\"mapbox\":{\"style\":\"light\"}}},\"title\":{\"text\":\"Loss Plot\"},\"xaxis\":{\"title\":{\"text\":\"Epochs\"}},\"yaxis\":{\"title\":{\"text\":\"Loss\"}}},                        {\"responsive\": true}                    ).then(function(){\n",
              "                            \n",
              "var gd = document.getElementById('d1f5130f-b2e0-4705-b5e7-59dc47623a0f');\n",
              "var x = new MutationObserver(function (mutations, observer) {{\n",
              "        var display = window.getComputedStyle(gd).display;\n",
              "        if (!display || display === 'none') {{\n",
              "            console.log([gd, 'removed!']);\n",
              "            Plotly.purge(gd);\n",
              "            observer.disconnect();\n",
              "        }}\n",
              "}});\n",
              "\n",
              "// Listen for the removal of the full notebook cells\n",
              "var notebookContainer = gd.closest('#notebook-container');\n",
              "if (notebookContainer) {{\n",
              "    x.observe(notebookContainer, {childList: true});\n",
              "}}\n",
              "\n",
              "// Listen for the clearing of the current output cell\n",
              "var outputEl = gd.closest('.output');\n",
              "if (outputEl) {{\n",
              "    x.observe(outputEl, {childList: true});\n",
              "}}\n",
              "\n",
              "                        })                };                            </script>        </div>\n",
              "</body>\n",
              "</html>"
            ]
          },
          "metadata": {}
        }
      ],
      "source": [
        "# Create loss plot\n",
        "import plotly.graph_objects as go\n",
        "\n",
        "epochs = [1, 2, 3, 4, 5, 6, 7, 8, 9, 10, 11, 12, 13, 14, 15, 16, 17, 18, 19, 20, 21, 22, 23, 24, 25, 26, 27, 28, 29, 30, 31, 32, 33, 34, 35, 36, 37, 38, 39, 40, 41, 42, 43, 44, 45, 46, 47, 48, 49, 50]\n",
        "\n",
        "# Create the line plot\n",
        "fig = go.Figure(data=go.Scatter(x=epochs,y=densenet_history.history['loss'], mode='lines+markers'))\n",
        "\n",
        "# Update layout\n",
        "fig.update_layout(title='Loss Plot',\n",
        "                  xaxis_title='Epochs',\n",
        "                  yaxis_title='Loss')\n",
        "\n",
        "# Show the plot\n",
        "fig.show()"
      ],
      "id": "aUNGmEt1WgpZ"
    },
    {
      "cell_type": "code",
      "execution_count": null,
      "metadata": {
        "colab": {
          "base_uri": "https://localhost:8080/",
          "height": 542
        },
        "id": "raH6KNHhcH7o",
        "outputId": "57d0c10d-8fe1-4fc7-9dc6-666114267038"
      },
      "outputs": [
        {
          "output_type": "display_data",
          "data": {
            "text/html": [
              "<html>\n",
              "<head><meta charset=\"utf-8\" /></head>\n",
              "<body>\n",
              "    <div>            <script src=\"https://cdnjs.cloudflare.com/ajax/libs/mathjax/2.7.5/MathJax.js?config=TeX-AMS-MML_SVG\"></script><script type=\"text/javascript\">if (window.MathJax && window.MathJax.Hub && window.MathJax.Hub.Config) {window.MathJax.Hub.Config({SVG: {font: \"STIX-Web\"}});}</script>                <script type=\"text/javascript\">window.PlotlyConfig = {MathJaxConfig: 'local'};</script>\n",
              "        <script src=\"https://cdn.plot.ly/plotly-2.18.2.min.js\"></script>                <div id=\"76f76717-dfa3-47f8-9dc7-f1d4bfa3dbee\" class=\"plotly-graph-div\" style=\"height:525px; width:100%;\"></div>            <script type=\"text/javascript\">                                    window.PLOTLYENV=window.PLOTLYENV || {};                                    if (document.getElementById(\"76f76717-dfa3-47f8-9dc7-f1d4bfa3dbee\")) {                    Plotly.newPlot(                        \"76f76717-dfa3-47f8-9dc7-f1d4bfa3dbee\",                        [{\"mode\":\"lines+markers\",\"x\":[1,2,3,4,5,6,7,8,9,10,11,12,13,14,15,16,17,18,19,20,21,22,23,24,25,26,27,28,29,30,31,32,33,34,35,36,37,38,39,40,41,42,43,44,45,46,47,48,49,50],\"y\":[0.28973424434661865,0.3814486563205719,0.4575299620628357,0.5023449659347534,0.536737859249115,0.558624267578125,0.5977071523666382,0.6050025820732117,0.6195935606956482,0.640958845615387,0.6472120881080627,0.6602396965026855,0.6638874411582947,0.6769150495529175,0.6805627942085266,0.6883793473243713,0.6982803344726562,0.7040125131607056,0.7019280791282654,0.7092235684394836,0.7248566746711731,0.7227723002433777,0.7357999086380005,0.7290255427360535,0.7399687170982361,0.7357999086380005,0.7462220191955566,0.7488275170326233,0.749869704246521,0.7571651935577393,0.758207380771637,0.7670661807060242,0.7665450572967529,0.7644606828689575,0.7681083679199219,0.778530478477478,0.7665450572967529,0.7733194231987,0.7701928019523621,0.7743616700172424,0.7832204103469849,0.7832204103469849,0.7889525890350342,0.7884314656257629,0.7832204103469849,0.7920792102813721,0.7889525890350342,0.7941636443138123,0.7988535761833191,0.8051068186759949],\"type\":\"scatter\"}],                        {\"template\":{\"data\":{\"histogram2dcontour\":[{\"type\":\"histogram2dcontour\",\"colorbar\":{\"outlinewidth\":0,\"ticks\":\"\"},\"colorscale\":[[0.0,\"#0d0887\"],[0.1111111111111111,\"#46039f\"],[0.2222222222222222,\"#7201a8\"],[0.3333333333333333,\"#9c179e\"],[0.4444444444444444,\"#bd3786\"],[0.5555555555555556,\"#d8576b\"],[0.6666666666666666,\"#ed7953\"],[0.7777777777777778,\"#fb9f3a\"],[0.8888888888888888,\"#fdca26\"],[1.0,\"#f0f921\"]]}],\"choropleth\":[{\"type\":\"choropleth\",\"colorbar\":{\"outlinewidth\":0,\"ticks\":\"\"}}],\"histogram2d\":[{\"type\":\"histogram2d\",\"colorbar\":{\"outlinewidth\":0,\"ticks\":\"\"},\"colorscale\":[[0.0,\"#0d0887\"],[0.1111111111111111,\"#46039f\"],[0.2222222222222222,\"#7201a8\"],[0.3333333333333333,\"#9c179e\"],[0.4444444444444444,\"#bd3786\"],[0.5555555555555556,\"#d8576b\"],[0.6666666666666666,\"#ed7953\"],[0.7777777777777778,\"#fb9f3a\"],[0.8888888888888888,\"#fdca26\"],[1.0,\"#f0f921\"]]}],\"heatmap\":[{\"type\":\"heatmap\",\"colorbar\":{\"outlinewidth\":0,\"ticks\":\"\"},\"colorscale\":[[0.0,\"#0d0887\"],[0.1111111111111111,\"#46039f\"],[0.2222222222222222,\"#7201a8\"],[0.3333333333333333,\"#9c179e\"],[0.4444444444444444,\"#bd3786\"],[0.5555555555555556,\"#d8576b\"],[0.6666666666666666,\"#ed7953\"],[0.7777777777777778,\"#fb9f3a\"],[0.8888888888888888,\"#fdca26\"],[1.0,\"#f0f921\"]]}],\"heatmapgl\":[{\"type\":\"heatmapgl\",\"colorbar\":{\"outlinewidth\":0,\"ticks\":\"\"},\"colorscale\":[[0.0,\"#0d0887\"],[0.1111111111111111,\"#46039f\"],[0.2222222222222222,\"#7201a8\"],[0.3333333333333333,\"#9c179e\"],[0.4444444444444444,\"#bd3786\"],[0.5555555555555556,\"#d8576b\"],[0.6666666666666666,\"#ed7953\"],[0.7777777777777778,\"#fb9f3a\"],[0.8888888888888888,\"#fdca26\"],[1.0,\"#f0f921\"]]}],\"contourcarpet\":[{\"type\":\"contourcarpet\",\"colorbar\":{\"outlinewidth\":0,\"ticks\":\"\"}}],\"contour\":[{\"type\":\"contour\",\"colorbar\":{\"outlinewidth\":0,\"ticks\":\"\"},\"colorscale\":[[0.0,\"#0d0887\"],[0.1111111111111111,\"#46039f\"],[0.2222222222222222,\"#7201a8\"],[0.3333333333333333,\"#9c179e\"],[0.4444444444444444,\"#bd3786\"],[0.5555555555555556,\"#d8576b\"],[0.6666666666666666,\"#ed7953\"],[0.7777777777777778,\"#fb9f3a\"],[0.8888888888888888,\"#fdca26\"],[1.0,\"#f0f921\"]]}],\"surface\":[{\"type\":\"surface\",\"colorbar\":{\"outlinewidth\":0,\"ticks\":\"\"},\"colorscale\":[[0.0,\"#0d0887\"],[0.1111111111111111,\"#46039f\"],[0.2222222222222222,\"#7201a8\"],[0.3333333333333333,\"#9c179e\"],[0.4444444444444444,\"#bd3786\"],[0.5555555555555556,\"#d8576b\"],[0.6666666666666666,\"#ed7953\"],[0.7777777777777778,\"#fb9f3a\"],[0.8888888888888888,\"#fdca26\"],[1.0,\"#f0f921\"]]}],\"mesh3d\":[{\"type\":\"mesh3d\",\"colorbar\":{\"outlinewidth\":0,\"ticks\":\"\"}}],\"scatter\":[{\"fillpattern\":{\"fillmode\":\"overlay\",\"size\":10,\"solidity\":0.2},\"type\":\"scatter\"}],\"parcoords\":[{\"type\":\"parcoords\",\"line\":{\"colorbar\":{\"outlinewidth\":0,\"ticks\":\"\"}}}],\"scatterpolargl\":[{\"type\":\"scatterpolargl\",\"marker\":{\"colorbar\":{\"outlinewidth\":0,\"ticks\":\"\"}}}],\"bar\":[{\"error_x\":{\"color\":\"#2a3f5f\"},\"error_y\":{\"color\":\"#2a3f5f\"},\"marker\":{\"line\":{\"color\":\"#E5ECF6\",\"width\":0.5},\"pattern\":{\"fillmode\":\"overlay\",\"size\":10,\"solidity\":0.2}},\"type\":\"bar\"}],\"scattergeo\":[{\"type\":\"scattergeo\",\"marker\":{\"colorbar\":{\"outlinewidth\":0,\"ticks\":\"\"}}}],\"scatterpolar\":[{\"type\":\"scatterpolar\",\"marker\":{\"colorbar\":{\"outlinewidth\":0,\"ticks\":\"\"}}}],\"histogram\":[{\"marker\":{\"pattern\":{\"fillmode\":\"overlay\",\"size\":10,\"solidity\":0.2}},\"type\":\"histogram\"}],\"scattergl\":[{\"type\":\"scattergl\",\"marker\":{\"colorbar\":{\"outlinewidth\":0,\"ticks\":\"\"}}}],\"scatter3d\":[{\"type\":\"scatter3d\",\"line\":{\"colorbar\":{\"outlinewidth\":0,\"ticks\":\"\"}},\"marker\":{\"colorbar\":{\"outlinewidth\":0,\"ticks\":\"\"}}}],\"scattermapbox\":[{\"type\":\"scattermapbox\",\"marker\":{\"colorbar\":{\"outlinewidth\":0,\"ticks\":\"\"}}}],\"scatterternary\":[{\"type\":\"scatterternary\",\"marker\":{\"colorbar\":{\"outlinewidth\":0,\"ticks\":\"\"}}}],\"scattercarpet\":[{\"type\":\"scattercarpet\",\"marker\":{\"colorbar\":{\"outlinewidth\":0,\"ticks\":\"\"}}}],\"carpet\":[{\"aaxis\":{\"endlinecolor\":\"#2a3f5f\",\"gridcolor\":\"white\",\"linecolor\":\"white\",\"minorgridcolor\":\"white\",\"startlinecolor\":\"#2a3f5f\"},\"baxis\":{\"endlinecolor\":\"#2a3f5f\",\"gridcolor\":\"white\",\"linecolor\":\"white\",\"minorgridcolor\":\"white\",\"startlinecolor\":\"#2a3f5f\"},\"type\":\"carpet\"}],\"table\":[{\"cells\":{\"fill\":{\"color\":\"#EBF0F8\"},\"line\":{\"color\":\"white\"}},\"header\":{\"fill\":{\"color\":\"#C8D4E3\"},\"line\":{\"color\":\"white\"}},\"type\":\"table\"}],\"barpolar\":[{\"marker\":{\"line\":{\"color\":\"#E5ECF6\",\"width\":0.5},\"pattern\":{\"fillmode\":\"overlay\",\"size\":10,\"solidity\":0.2}},\"type\":\"barpolar\"}],\"pie\":[{\"automargin\":true,\"type\":\"pie\"}]},\"layout\":{\"autotypenumbers\":\"strict\",\"colorway\":[\"#636efa\",\"#EF553B\",\"#00cc96\",\"#ab63fa\",\"#FFA15A\",\"#19d3f3\",\"#FF6692\",\"#B6E880\",\"#FF97FF\",\"#FECB52\"],\"font\":{\"color\":\"#2a3f5f\"},\"hovermode\":\"closest\",\"hoverlabel\":{\"align\":\"left\"},\"paper_bgcolor\":\"white\",\"plot_bgcolor\":\"#E5ECF6\",\"polar\":{\"bgcolor\":\"#E5ECF6\",\"angularaxis\":{\"gridcolor\":\"white\",\"linecolor\":\"white\",\"ticks\":\"\"},\"radialaxis\":{\"gridcolor\":\"white\",\"linecolor\":\"white\",\"ticks\":\"\"}},\"ternary\":{\"bgcolor\":\"#E5ECF6\",\"aaxis\":{\"gridcolor\":\"white\",\"linecolor\":\"white\",\"ticks\":\"\"},\"baxis\":{\"gridcolor\":\"white\",\"linecolor\":\"white\",\"ticks\":\"\"},\"caxis\":{\"gridcolor\":\"white\",\"linecolor\":\"white\",\"ticks\":\"\"}},\"coloraxis\":{\"colorbar\":{\"outlinewidth\":0,\"ticks\":\"\"}},\"colorscale\":{\"sequential\":[[0.0,\"#0d0887\"],[0.1111111111111111,\"#46039f\"],[0.2222222222222222,\"#7201a8\"],[0.3333333333333333,\"#9c179e\"],[0.4444444444444444,\"#bd3786\"],[0.5555555555555556,\"#d8576b\"],[0.6666666666666666,\"#ed7953\"],[0.7777777777777778,\"#fb9f3a\"],[0.8888888888888888,\"#fdca26\"],[1.0,\"#f0f921\"]],\"sequentialminus\":[[0.0,\"#0d0887\"],[0.1111111111111111,\"#46039f\"],[0.2222222222222222,\"#7201a8\"],[0.3333333333333333,\"#9c179e\"],[0.4444444444444444,\"#bd3786\"],[0.5555555555555556,\"#d8576b\"],[0.6666666666666666,\"#ed7953\"],[0.7777777777777778,\"#fb9f3a\"],[0.8888888888888888,\"#fdca26\"],[1.0,\"#f0f921\"]],\"diverging\":[[0,\"#8e0152\"],[0.1,\"#c51b7d\"],[0.2,\"#de77ae\"],[0.3,\"#f1b6da\"],[0.4,\"#fde0ef\"],[0.5,\"#f7f7f7\"],[0.6,\"#e6f5d0\"],[0.7,\"#b8e186\"],[0.8,\"#7fbc41\"],[0.9,\"#4d9221\"],[1,\"#276419\"]]},\"xaxis\":{\"gridcolor\":\"white\",\"linecolor\":\"white\",\"ticks\":\"\",\"title\":{\"standoff\":15},\"zerolinecolor\":\"white\",\"automargin\":true,\"zerolinewidth\":2},\"yaxis\":{\"gridcolor\":\"white\",\"linecolor\":\"white\",\"ticks\":\"\",\"title\":{\"standoff\":15},\"zerolinecolor\":\"white\",\"automargin\":true,\"zerolinewidth\":2},\"scene\":{\"xaxis\":{\"backgroundcolor\":\"#E5ECF6\",\"gridcolor\":\"white\",\"linecolor\":\"white\",\"showbackground\":true,\"ticks\":\"\",\"zerolinecolor\":\"white\",\"gridwidth\":2},\"yaxis\":{\"backgroundcolor\":\"#E5ECF6\",\"gridcolor\":\"white\",\"linecolor\":\"white\",\"showbackground\":true,\"ticks\":\"\",\"zerolinecolor\":\"white\",\"gridwidth\":2},\"zaxis\":{\"backgroundcolor\":\"#E5ECF6\",\"gridcolor\":\"white\",\"linecolor\":\"white\",\"showbackground\":true,\"ticks\":\"\",\"zerolinecolor\":\"white\",\"gridwidth\":2}},\"shapedefaults\":{\"line\":{\"color\":\"#2a3f5f\"}},\"annotationdefaults\":{\"arrowcolor\":\"#2a3f5f\",\"arrowhead\":0,\"arrowwidth\":1},\"geo\":{\"bgcolor\":\"white\",\"landcolor\":\"#E5ECF6\",\"subunitcolor\":\"white\",\"showland\":true,\"showlakes\":true,\"lakecolor\":\"white\"},\"title\":{\"x\":0.05},\"mapbox\":{\"style\":\"light\"}}},\"title\":{\"text\":\"Accuracy Plot\"},\"xaxis\":{\"title\":{\"text\":\"Epochs\"}},\"yaxis\":{\"title\":{\"text\":\"Accuracy\"}}},                        {\"responsive\": true}                    ).then(function(){\n",
              "                            \n",
              "var gd = document.getElementById('76f76717-dfa3-47f8-9dc7-f1d4bfa3dbee');\n",
              "var x = new MutationObserver(function (mutations, observer) {{\n",
              "        var display = window.getComputedStyle(gd).display;\n",
              "        if (!display || display === 'none') {{\n",
              "            console.log([gd, 'removed!']);\n",
              "            Plotly.purge(gd);\n",
              "            observer.disconnect();\n",
              "        }}\n",
              "}});\n",
              "\n",
              "// Listen for the removal of the full notebook cells\n",
              "var notebookContainer = gd.closest('#notebook-container');\n",
              "if (notebookContainer) {{\n",
              "    x.observe(notebookContainer, {childList: true});\n",
              "}}\n",
              "\n",
              "// Listen for the clearing of the current output cell\n",
              "var outputEl = gd.closest('.output');\n",
              "if (outputEl) {{\n",
              "    x.observe(outputEl, {childList: true});\n",
              "}}\n",
              "\n",
              "                        })                };                            </script>        </div>\n",
              "</body>\n",
              "</html>"
            ]
          },
          "metadata": {}
        }
      ],
      "source": [
        "# Create accuracy plot\n",
        "import plotly.graph_objects as go\n",
        "\n",
        "# Create the line plot\n",
        "fig = go.Figure(data=go.Scatter(x=epochs,y=densenet_history.history['accuracy'], mode='lines+markers'))\n",
        "\n",
        "# Update layout\n",
        "fig.update_layout(title='Accuracy Plot',\n",
        "                  xaxis_title='Epochs',\n",
        "                  yaxis_title='Accuracy')\n",
        "\n",
        "# Show the plot\n",
        "fig.show()"
      ],
      "id": "raH6KNHhcH7o"
    },
    {
      "cell_type": "code",
      "execution_count": null,
      "metadata": {
        "id": "V_PkgdYLXGDO"
      },
      "outputs": [],
      "source": [
        "##################################################################################"
      ],
      "id": "V_PkgdYLXGDO"
    },
    {
      "cell_type": "code",
      "execution_count": null,
      "metadata": {
        "id": "G8wnDM_Jg6hE"
      },
      "outputs": [],
      "source": [
        "# Save the trained model\n",
        "densenet_model.save(\"pet_expressions_model_DenseNet50.h5\")"
      ],
      "id": "G8wnDM_Jg6hE"
    },
    {
      "cell_type": "code",
      "execution_count": null,
      "metadata": {
        "id": "J9TWPC47I8WW"
      },
      "outputs": [],
      "source": [
        "##################################################################################\n",
        "#FROM HERE DOWN IS COPIED FROM OUR SEQUENTIAL MODEL NOTEBOOK FILE. IT MAY/MAYNOT WORK FOR DEPLOYING THIS MODEL?"
      ],
      "id": "J9TWPC47I8WW"
    },
    {
      "cell_type": "code",
      "execution_count": null,
      "metadata": {
        "id": "OI2oPULfH34N"
      },
      "outputs": [],
      "source": [
        "# from keras.models import load_model\n",
        "# # Load the saved model\n",
        "# loaded_model = load_model('pet_expressions_model.h5')"
      ],
      "id": "OI2oPULfH34N"
    },
    {
      "cell_type": "code",
      "execution_count": null,
      "metadata": {
        "id": "vApWzW3iIBOL"
      },
      "outputs": [],
      "source": [
        "# # Function to load and preprocess images\n",
        "# def load_images_from_folder(folder):\n",
        "#     images = []\n",
        "#     for filename in os.listdir(folder):\n",
        "#         img = cv2.imread(os.path.join(folder, filename))\n",
        "#         if img is not None:\n",
        "#             img = cv2.cvtColor(img, cv2.COLOR_BGR2GRAY)\n",
        "#             img = cv2.resize(img, (48, 48))  # Resize to a fixed size for the model\n",
        "#             images.append(img)\n",
        "#     return images"
      ],
      "id": "vApWzW3iIBOL"
    },
    {
      "cell_type": "code",
      "execution_count": null,
      "metadata": {
        "id": "G2hJ_t8uIBXv"
      },
      "outputs": [],
      "source": [
        "# Load a custom test image\n",
        "# custom_test_image_path = \"\"\n",
        "\n",
        "# custom_test_image = cv2.imread(custom_test_image_path)\n",
        "# custom_test_image = cv2.cvtColor(custom_test_image, cv2.COLOR_BGR2GRAY)\n",
        "# custom_test_image = cv2.resize(custom_test_image, (48, 48))\n",
        "# custom_test_image = custom_test_image.astype('float32') / 255.0"
      ],
      "id": "G2hJ_t8uIBXv"
    },
    {
      "cell_type": "code",
      "execution_count": null,
      "metadata": {
        "id": "zoagi0XAIBhH"
      },
      "outputs": [],
      "source": [
        "# # Reshape the image to match the model input shape\n",
        "# custom_test_image = np.expand_dims(custom_test_image, axis=0)\n",
        "# custom_test_image = np.expand_dims(custom_test_image, axis=-1)"
      ],
      "id": "zoagi0XAIBhH"
    },
    {
      "cell_type": "code",
      "execution_count": null,
      "metadata": {
        "id": "r39cICOXIBqP"
      },
      "outputs": [],
      "source": [
        "# # Make predictions on the custom test image\n",
        "# prediction = loaded_model.predict(custom_test_image)\n",
        "# prediction_prob = prediction[0]"
      ],
      "id": "r39cICOXIBqP"
    },
    {
      "cell_type": "code",
      "execution_count": null,
      "metadata": {
        "id": "4QkEWBRMIBzy"
      },
      "outputs": [],
      "source": [
        "# emotion_label = np.argmax(prediction[0])"
      ],
      "id": "4QkEWBRMIBzy"
    },
    {
      "cell_type": "code",
      "execution_count": null,
      "metadata": {
        "id": "CiimcfpxH4CD"
      },
      "outputs": [],
      "source": [
        "# # Map the predicted label to emotion class\n",
        "# emotion_classes = {0: 'happy', 1: 'sad', 2: 'angry', 3: 'feeling some type of way...'}\n",
        "# predicted_emotion = emotion_classes[emotion_label]"
      ],
      "id": "CiimcfpxH4CD"
    },
    {
      "cell_type": "code",
      "execution_count": null,
      "metadata": {
        "id": "MF1XmXXHImD9"
      },
      "outputs": [],
      "source": [
        "# # Print the custom test image and its predicted label\n",
        "# print(f\"Predicted Emotion: {predicted_emotion}\")\n",
        "# print(f\"Confidence [happy, sad, angry,feeling some type of way...]: {prediction_prob}\")"
      ],
      "id": "MF1XmXXHImD9"
    },
    {
      "cell_type": "code",
      "execution_count": null,
      "metadata": {
        "id": "25M2Dw8nImNk"
      },
      "outputs": [],
      "source": [
        "# import matplotlib.pyplot as plt\n",
        "\n",
        "# #Display the custom test image using matplotlib\n",
        "# plt.imshow(custom_test_image[0, :, :, 0])\n",
        "# plt.title(f\"Predicted Emotion: {predicted_emotion}\")\n",
        "# plt.axis('off')  # Hide axes\n",
        "# plt.show()"
      ],
      "id": "25M2Dw8nImNk"
    },
    {
      "cell_type": "code",
      "execution_count": null,
      "metadata": {
        "id": "VgZQk-xoImVE"
      },
      "outputs": [],
      "source": [
        "# from PIL import Image\n",
        "# # Display the original custom test image using PIL\n",
        "# img_pil = Image.open(custom_test_image_path)\n",
        "# plt.imshow(np.array(img_pil))\n",
        "# plt.title(f\"Predicted Emotion: {predicted_emotion}\")\n",
        "# plt.axis('off')  # Hide axes\n",
        "# plt.show()"
      ],
      "id": "VgZQk-xoImVE"
    }
  ],
  "metadata": {
    "colab": {
      "provenance": []
    },
    "kernelspec": {
      "display_name": "Python 3 (ipykernel)",
      "language": "python",
      "name": "python3"
    },
    "language_info": {
      "codemirror_mode": {
        "name": "ipython",
        "version": 3
      },
      "file_extension": ".py",
      "mimetype": "text/x-python",
      "name": "python",
      "nbconvert_exporter": "python",
      "pygments_lexer": "ipython3",
      "version": "3.9.13"
    }
  },
  "nbformat": 4,
  "nbformat_minor": 5
}