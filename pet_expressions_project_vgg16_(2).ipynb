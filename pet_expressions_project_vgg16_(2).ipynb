{
  "cells": [
    {
      "cell_type": "code",
      "execution_count": 1,
      "id": "e508faf6",
      "metadata": {
        "id": "e508faf6"
      },
      "outputs": [],
      "source": [
        "# Import Dependencies\n",
        "import os\n",
        "import numpy as np\n",
        "import cv2\n",
        "import matplotlib.pyplot as plt\n",
        "import keras\n",
        "import tensorflow as tf\n",
        "from sklearn.model_selection import train_test_split\n",
        "from glob import glob\n",
        "from PIL import Image\n",
        "\n",
        "from keras.preprocessing import image\n",
        "from keras.datasets import mnist\n",
        "from keras import optimizers\n",
        "from keras.utils import to_categorical\n",
        "from keras.applications.vgg16 import VGG16\n",
        "from keras.applications.vgg16 import preprocess_input\n",
        "from keras.models import load_model\n",
        "\n",
        "from tensorflow.keras.preprocessing.image import ImageDataGenerator\n",
        "from tensorflow.keras.models import Sequential, Model\n",
        "from tensorflow.keras.layers import Conv2D, MaxPooling2D, Flatten, Dense, Dropout, Input, Lambda, AveragePooling2D\n",
        "from tensorflow.keras.layers import BatchNormalization\n",
        "from tensorflow.keras.callbacks import EarlyStopping, ReduceLROnPlateau\n",
        "\n",
        "\n",
        "\n"
      ]
    },
    {
      "cell_type": "code",
      "source": [
        "# Set up Google Drive\n",
        "from google.colab import drive\n",
        "drive.mount('/content/drive')"
      ],
      "metadata": {
        "colab": {
          "base_uri": "https://localhost:8080/"
        },
        "id": "_TPEdqWkAlKQ",
        "outputId": "ea7c1d63-a984-4299-8369-585c9bcc92bd"
      },
      "id": "_TPEdqWkAlKQ",
      "execution_count": 2,
      "outputs": [
        {
          "output_type": "stream",
          "name": "stdout",
          "text": [
            "Mounted at /content/drive\n"
          ]
        }
      ]
    },
    {
      "cell_type": "code",
      "source": [
        "# Change Directory\n",
        "%cd '/content/drive/MyDrive/Data_analytics /group_project_4/pet_expressions_data'"
      ],
      "metadata": {
        "colab": {
          "base_uri": "https://localhost:8080/"
        },
        "id": "yMkxM8-gBy8U",
        "outputId": "b4a4c2f8-0d88-4d16-e226-d79b0bdc818a"
      },
      "id": "yMkxM8-gBy8U",
      "execution_count": 2,
      "outputs": [
        {
          "output_type": "stream",
          "name": "stdout",
          "text": [
            "/content/drive/MyDrive/Data_analytics /group_project_4/pet_expressions_data\n"
          ]
        }
      ]
    },
    {
      "cell_type": "code",
      "source": [
        "# Define the path to the dataset folders\n",
        "happy_folder = \"/content/drive/MyDrive/Data_analytics /group_project_4/pet_expressions_data/happy\"\n",
        "sad_folder = \"/content/drive/MyDrive/Data_analytics /group_project_4/pet_expressions_data/sad\"\n",
        "angry_folder = \"/content/drive/MyDrive/Data_analytics /group_project_4/pet_expressions_data/angry\"\n",
        "other_folder = \"/content/drive/MyDrive/Data_analytics /group_project_4/pet_expressions_data/other\""
      ],
      "metadata": {
        "id": "oHd6VWxVCdMn"
      },
      "id": "oHd6VWxVCdMn",
      "execution_count": 3,
      "outputs": []
    },
    {
      "cell_type": "code",
      "source": [
        "# Function to load and preprocess images\n",
        "def load_images_from_folder(folder):\n",
        "    images = []\n",
        "    for filename in os.listdir(folder):\n",
        "        img = cv2.imread(os.path.join(folder,filename))\n",
        "        if img is not None:\n",
        "            img = cv2.cvtColor(img, cv2.COLOR_BGR2RGB)\n",
        "            img = cv2.resize(img, (224, 224))  # Resize to a fixed size for the model\n",
        "            images.append(img)\n",
        "    return images"
      ],
      "metadata": {
        "id": "gHD-rY4OGUdC"
      },
      "id": "gHD-rY4OGUdC",
      "execution_count": 4,
      "outputs": []
    },
    {
      "cell_type": "code",
      "execution_count": 5,
      "id": "c76b61aa",
      "metadata": {
        "id": "c76b61aa"
      },
      "outputs": [],
      "source": [
        "# Load images and labels for each emotion\n",
        "happy_images = load_images_from_folder(happy_folder)\n",
        "sad_images = load_images_from_folder(sad_folder)\n",
        "angry_images = load_images_from_folder(angry_folder)\n",
        "other_images = load_images_from_folder(other_folder)"
      ]
    },
    {
      "cell_type": "code",
      "source": [
        "# Check shape, 3 means it is in RGB format\n",
        "happy_images[1].shape"
      ],
      "metadata": {
        "colab": {
          "base_uri": "https://localhost:8080/"
        },
        "id": "bI78EeW1yHBr",
        "outputId": "33720326-8f41-4a21-c461-edfa6c0c2f56"
      },
      "id": "bI78EeW1yHBr",
      "execution_count": 6,
      "outputs": [
        {
          "output_type": "execute_result",
          "data": {
            "text/plain": [
              "(224, 224, 3)"
            ]
          },
          "metadata": {},
          "execution_count": 6
        }
      ]
    },
    {
      "cell_type": "code",
      "source": [
        "# Create labels for each emotion category\n",
        "happy_labels = [0] * len(happy_images)\n",
        "sad_labels = [1] * len(sad_images)\n",
        "angry_labels = [2] * len(angry_images)\n",
        "other_labels = [3] * len(other_images)"
      ],
      "metadata": {
        "id": "7Y5JhOxVEjK5"
      },
      "id": "7Y5JhOxVEjK5",
      "execution_count": 7,
      "outputs": []
    },
    {
      "cell_type": "code",
      "source": [
        "# Concatenate images and labels\n",
        "x = np.array(happy_images + sad_images + angry_images + other_images)\n",
        "y = np.array(happy_labels + sad_labels + angry_labels + other_labels)"
      ],
      "metadata": {
        "id": "fE_-U9oSHLmz"
      },
      "id": "fE_-U9oSHLmz",
      "execution_count": 8,
      "outputs": []
    },
    {
      "cell_type": "code",
      "source": [
        "# Normalize pixel values to range [0, 1]\n",
        "x = x.astype('float32') / 255.0"
      ],
      "metadata": {
        "id": "Bggs4WygHL4K"
      },
      "id": "Bggs4WygHL4K",
      "execution_count": 9,
      "outputs": []
    },
    {
      "cell_type": "code",
      "source": [
        "# One-hot encode the labels\n",
        "y = tf.keras.utils.to_categorical(y, 4)"
      ],
      "metadata": {
        "id": "CF-FOR4KHSz1"
      },
      "id": "CF-FOR4KHSz1",
      "execution_count": 10,
      "outputs": []
    },
    {
      "cell_type": "code",
      "source": [
        "# Split the data into training and testing sets\n",
        "x_train, x_test, y_train, y_test = train_test_split(x, y, test_size=0.2, random_state=100)"
      ],
      "metadata": {
        "id": "yDNk4ib-HT_T"
      },
      "id": "yDNk4ib-HT_T",
      "execution_count": 11,
      "outputs": []
    },
    {
      "cell_type": "code",
      "source": [
        "# Split again into a validation set\n",
        "# x_validate, x_test, y_validate, y_test= train_test_split (x_test,y_test, test_size=.50, random_state=100)"
      ],
      "metadata": {
        "id": "dXEn6WQ0Gbjz"
      },
      "id": "dXEn6WQ0Gbjz",
      "execution_count": null,
      "outputs": []
    },
    {
      "cell_type": "code",
      "source": [
        "# Reshape the images to (224, 224, 3)\n",
        "x_train = np.array([cv2.resize(image, (224, 224)) for image in x_train])\n",
        "# x_validate = np.array([cv2.resize(image, (224, 224)) for image in x_validate])"
      ],
      "metadata": {
        "id": "sMWdLfJgQGeU"
      },
      "id": "sMWdLfJgQGeU",
      "execution_count": 12,
      "outputs": []
    },
    {
      "cell_type": "code",
      "source": [
        "print (f' x train',x_train.shape)\n",
        "print (f' x test', x_test.shape)\n",
        "print (f' y train', y_train.shape)\n",
        "print (f' y test', y_test.shape)\n",
        "# print (f' x validate', x_validate.shape)\n",
        "# print (f' y validate', y_validate.shape)"
      ],
      "metadata": {
        "colab": {
          "base_uri": "https://localhost:8080/"
        },
        "id": "W3WCLgMyDk67",
        "outputId": "ef6d2ced-c136-44e1-fbe5-d8a57199ff6a"
      },
      "id": "W3WCLgMyDk67",
      "execution_count": 13,
      "outputs": [
        {
          "output_type": "stream",
          "name": "stdout",
          "text": [
            " x train (296, 224, 224, 3)\n",
            " x test (74, 224, 224, 3)\n",
            " y train (296, 4)\n",
            " y test (74, 4)\n"
          ]
        }
      ]
    },
    {
      "cell_type": "code",
      "source": [
        "# from skopt import gp_minimize\n",
        "# from skopt.space import Real\n",
        "\n",
        "# #Create function to optimize the model and find the best learning rate\n",
        "# def objective(learning_rate):\n",
        "#     # Compile and train VGG16 model using the given learning rate\n",
        "#     model.compile(optimizer=tf.keras.optimizers.RMSprop(learning_rate=learning_rate),\n",
        "#                   loss='binary_crossentropy',\n",
        "#                   metrics=['acc'])\n",
        "#     history = model.fit(...)\n",
        "\n",
        "#     # Return negative validation accuracy (to minimize) or validation loss (to maximize)\n",
        "#     return -history.history['val_acc'][-1]\n",
        "\n",
        "# # Define the search space for the learning rate\n",
        "# space = Real(low=1e-6, high=1e-2, prior='log-uniform')\n",
        "\n",
        "# # Perform Bayesian optimization\n",
        "# result = gp_minimize(objective, dimensions=[space], n_calls=10)\n",
        "\n",
        "# # Retrieve the best learning rate\n",
        "# best_learning_rate = result.x[0]\n"
      ],
      "metadata": {
        "id": "rRMXtaS-MtpE"
      },
      "id": "rRMXtaS-MtpE",
      "execution_count": 36,
      "outputs": []
    },
    {
      "cell_type": "code",
      "source": [
        "#here [3] denotes for RGB images(3 channels)\n",
        "# Set the paramaters for the vgg16 model\n",
        "Image_size = [224, 224]\n",
        "vgg = VGG16(input_shape= Image_size + [3], weights='imagenet', include_top=False)\n",
        "\n",
        "#don't train existing weights\n",
        "for layer in vgg.layers:\n",
        " layer.trainable = False\n",
        "\n",
        "# Set the inputs and outputs for the model\n",
        "x = Flatten()(vgg.output)\n",
        "prediction = Dense(4, activation='softmax')(x)\n",
        "model = Model(inputs=vgg.input, outputs=prediction)\n",
        "\n",
        "#compile according to standard metrics found on the internet\n",
        "model.compile(optimizer = tf.keras.optimizers.RMSprop(learning_rate=0.0001), loss = 'binary_crossentropy',metrics = ['acc'])\n",
        "# model.summary()"
      ],
      "metadata": {
        "id": "ViWKVSwdEqzO"
      },
      "id": "ViWKVSwdEqzO",
      "execution_count": 14,
      "outputs": []
    },
    {
      "cell_type": "code",
      "source": [
        "# Establish early stopping\"\n",
        "early_stopping = EarlyStopping(monitor='val_loss', patience=5, restore_best_weights=True)\n",
        "lr_scheduler = ReduceLROnPlateau(monitor='val_loss', patience=5, factor=0.5, min_lr=1e-7)\n",
        ""
      ],
      "metadata": {
        "id": "CGLN83Gl_VpG"
      },
      "id": "CGLN83Gl_VpG",
      "execution_count": 17,
      "outputs": []
    },
    {
      "cell_type": "code",
      "source": [
        "# Create an ImageDataGenerator for training with data augmentation\n",
        "# This includes a validation split set at 0.5\n",
        "train_datagen = ImageDataGenerator(\n",
        "    rescale=1./255,\n",
        "    rotation_range=90,\n",
        "    width_shift_range=0.2,\n",
        "    height_shift_range=0.2,\n",
        "    shear_range=0.2,\n",
        "    zoom_range=0.2,\n",
        "    horizontal_flip=True,\n",
        "    validation_split=0.5\n",
        ")\n",
        "\n",
        "# Create a generator for training data\n",
        "batch_size = 10\n",
        "train_generator = train_datagen.flow(\n",
        "    x_train,\n",
        "    y_train,\n",
        "    batch_size=batch_size,\n",
        "    subset='training'  # Specify that this is the training subset\n",
        ")\n",
        "\n",
        "# Create a generator for validation data\n",
        "validation_generator = train_datagen.flow(\n",
        "    x_train,\n",
        "    y_train,\n",
        "    batch_size=batch_size,\n",
        "    subset='validation'  # Specify that this is the validation subset\n",
        ")"
      ],
      "metadata": {
        "id": "3xbuRRey-_IF"
      },
      "id": "3xbuRRey-_IF",
      "execution_count": 18,
      "outputs": []
    },
    {
      "cell_type": "code",
      "source": [
        "# Fit the model\n",
        "history = model.fit(\n",
        "    train_generator,\n",
        "    steps_per_epoch=len(train_generator),\n",
        "    validation_data=validation_generator,\n",
        "    validation_steps=len(validation_generator),\n",
        "    callbacks=[early_stopping, lr_scheduler],\n",
        "    epochs=10\n",
        ")"
      ],
      "metadata": {
        "colab": {
          "base_uri": "https://localhost:8080/"
        },
        "id": "aXwb6Id5Aw79",
        "outputId": "29811290-a8d0-489a-fbe7-56aff404f2e1"
      },
      "id": "aXwb6Id5Aw79",
      "execution_count": 20,
      "outputs": [
        {
          "output_type": "stream",
          "name": "stdout",
          "text": [
            "Epoch 1/10\n",
            "15/15 [==============================] - 242s 17s/step - loss: 0.5932 - acc: 0.3108 - val_loss: 0.5561 - val_acc: 0.3243 - lr: 1.0000e-04\n",
            "Epoch 2/10\n",
            "15/15 [==============================] - 238s 16s/step - loss: 0.5587 - acc: 0.3108 - val_loss: 0.5606 - val_acc: 0.2568 - lr: 1.0000e-04\n",
            "Epoch 3/10\n",
            "15/15 [==============================] - 243s 17s/step - loss: 0.5625 - acc: 0.3041 - val_loss: 0.5662 - val_acc: 0.3243 - lr: 1.0000e-04\n",
            "Epoch 4/10\n",
            "15/15 [==============================] - 238s 17s/step - loss: 0.5584 - acc: 0.2770 - val_loss: 0.5626 - val_acc: 0.2432 - lr: 1.0000e-04\n",
            "Epoch 5/10\n",
            "15/15 [==============================] - 238s 17s/step - loss: 0.5632 - acc: 0.2500 - val_loss: 0.5558 - val_acc: 0.3243 - lr: 1.0000e-04\n",
            "Epoch 6/10\n",
            "15/15 [==============================] - 251s 18s/step - loss: 0.5610 - acc: 0.3176 - val_loss: 0.5642 - val_acc: 0.2432 - lr: 1.0000e-04\n",
            "Epoch 7/10\n",
            "15/15 [==============================] - 237s 17s/step - loss: 0.5590 - acc: 0.3176 - val_loss: 0.5700 - val_acc: 0.3243 - lr: 1.0000e-04\n",
            "Epoch 8/10\n",
            "15/15 [==============================] - 238s 17s/step - loss: 0.5651 - acc: 0.2905 - val_loss: 0.5583 - val_acc: 0.2568 - lr: 1.0000e-04\n",
            "Epoch 9/10\n",
            "15/15 [==============================] - 237s 17s/step - loss: 0.5585 - acc: 0.2703 - val_loss: 0.5571 - val_acc: 0.2568 - lr: 1.0000e-04\n",
            "Epoch 10/10\n",
            "15/15 [==============================] - 193s 13s/step - loss: 0.5646 - acc: 0.2973 - val_loss: 0.5600 - val_acc: 0.2635 - lr: 1.0000e-04\n"
          ]
        }
      ]
    },
    {
      "cell_type": "code",
      "source": [
        "# Plot training and validation accuracy\n",
        "plt.figure(figsize=(10, 5))\n",
        "\n",
        "plt.subplot(1, 2, 1)\n",
        "plt.plot(history.history['acc'], label='Training Accuracy')\n",
        "plt.plot(history.history['val_acc'], label='Validation Accuracy')\n",
        "plt.xlabel('Epoch')\n",
        "plt.ylabel('Accuracy')\n",
        "plt.title('Training and Validation Accuracy')\n",
        "plt.legend()\n",
        "\n",
        "# Plot training and validation loss\n",
        "plt.subplot(1, 2, 2)\n",
        "plt.plot(history.history['loss'], label='Training Loss')\n",
        "plt.plot(history.history['val_loss'], label='Validation Loss')\n",
        "plt.xlabel('Epoch')\n",
        "plt.ylabel('Loss')\n",
        "plt.title('Training and Validation Loss')\n",
        "plt.legend()\n",
        "\n",
        "plt.tight_layout()\n",
        "plt.show()"
      ],
      "metadata": {
        "colab": {
          "base_uri": "https://localhost:8080/",
          "height": 507
        },
        "id": "hfzBdLFzGCkY",
        "outputId": "4f8be0e5-c9a3-4968-b325-a4b4570419b1"
      },
      "id": "hfzBdLFzGCkY",
      "execution_count": 21,
      "outputs": [
        {
          "output_type": "display_data",
          "data": {
            "text/plain": [
              "<Figure size 1000x500 with 2 Axes>"
            ],
            "image/png": "[encoded data removed]"
          },
          "metadata": {}
        }
      ]
    },
    {
      "cell_type": "code",
      "source": [
        "#Fit the model\n",
        "###################################################################################\n",
        "# Need to check the size of the validation datasets\n",
        "# Need to be Make sure that  dataset or generator can generate at least `steps_per_epoch * epochs` batches (in this case, 20 batches)\n",
        "# history = model.fit(\n",
        "#                     x_train, y_train,\n",
        "#                     epochs = 10, verbose=1,\n",
        "#                     validation_data = (x_validate, y_validate),\n",
        "#                     validation_steps = 20)"
      ],
      "metadata": {
        "colab": {
          "base_uri": "https://localhost:8080/"
        },
        "id": "QfXKYe6KF4Iv",
        "outputId": "63c3ba16-22ee-44bd-e603-35fa478e5747"
      },
      "id": "QfXKYe6KF4Iv",
      "execution_count": null,
      "outputs": [
        {
          "output_type": "stream",
          "name": "stdout",
          "text": [
            "Epoch 1/10\n",
            "10/10 [==============================] - ETA: 0s - loss: 0.5634 - acc: 0.3311 "
          ]
        },
        {
          "output_type": "stream",
          "name": "stderr",
          "text": [
            "WARNING:tensorflow:Your input ran out of data; interrupting training. Make sure that your dataset or generator can generate at least `steps_per_epoch * epochs` batches (in this case, 20 batches). You may need to use the repeat() function when building your dataset.\n"
          ]
        },
        {
          "output_type": "stream",
          "name": "stdout",
          "text": [
            "\b\b\b\b\b\b\b\b\b\b\b\b\b\b\b\b\b\b\b\b\b\b\b\b\b\b\b\b\b\b\b\b\b\b\b\b\b\b\b\b\b\b\b\b\b\b\b\b\b\b\b\b\b\b\b\b\b\b\b\b\b\b\b\b\b\b\b\b\b\b\b\b\b\b\b\b\b\r10/10 [==============================] - 240s 24s/step - loss: 0.5634 - acc: 0.3311 - val_loss: 0.6999 - val_acc: 0.1351\n",
            "Epoch 2/10\n",
            "10/10 [==============================] - 194s 19s/step - loss: 0.5056 - acc: 0.4899\n",
            "Epoch 3/10\n",
            "10/10 [==============================] - 187s 19s/step - loss: 0.4793 - acc: 0.5304\n",
            "Epoch 4/10\n",
            "10/10 [==============================] - 190s 19s/step - loss: 0.4531 - acc: 0.5845\n",
            "Epoch 5/10\n",
            "10/10 [==============================] - 188s 19s/step - loss: 0.4308 - acc: 0.6622\n",
            "Epoch 6/10\n",
            "10/10 [==============================] - 193s 19s/step - loss: 0.4102 - acc: 0.6655\n",
            "Epoch 7/10\n",
            "10/10 [==============================] - 189s 19s/step - loss: 0.3910 - acc: 0.7196\n",
            "Epoch 8/10\n",
            "10/10 [==============================] - 190s 19s/step - loss: 0.3729 - acc: 0.7399\n",
            "Epoch 9/10\n",
            "10/10 [==============================] - 189s 19s/step - loss: 0.3577 - acc: 0.8142\n",
            "Epoch 10/10\n",
            "10/10 [==============================] - 189s 19s/step - loss: 0.3458 - acc: 0.8007\n"
          ]
        }
      ]
    },
    {
      "cell_type": "code",
      "source": [
        "# Evaluate the model on the train data\n",
        "train_loss, train_accuracy = model.evaluate(x_train, y_train, verbose=2)\n",
        "print(\"Train Accuracy:\", train_accuracy)\n",
        "\n",
        "# Evaluate the model on test data\n",
        "test_loss, test_accuracy = model.evaluate(x_test, y_test, verbose=2)\n",
        "print(\"Test Accuracy:\", test_accuracy)"
      ],
      "metadata": {
        "colab": {
          "base_uri": "https://localhost:8080/"
        },
        "id": "oRNtp3h_c6xb",
        "outputId": "865993c9-a120-4a48-9902-42bb6ff1b67b"
      },
      "id": "oRNtp3h_c6xb",
      "execution_count": null,
      "outputs": [
        {
          "output_type": "stream",
          "name": "stdout",
          "text": [
            "10/10 - 204s - loss: 0.3300 - acc: 0.7804 - 204s/epoch - 20s/step\n",
            "Train Accuracy: 0.7804054021835327\n",
            "2/2 - 22s - loss: 0.4586 - acc: 0.5676 - 22s/epoch - 11s/step\n",
            "Test Accuracy: 0.5675675868988037\n"
          ]
        }
      ]
    },
    {
      "cell_type": "code",
      "source": [
        "# Save the trained model\n",
        "model.save(\"pet_expressions_model_vgg16.h5\")"
      ],
      "metadata": {
        "id": "G8wnDM_Jg6hE"
      },
      "id": "G8wnDM_Jg6hE",
      "execution_count": null,
      "outputs": []
    },
    {
      "cell_type": "code",
      "source": [
        "##################################################################################"
      ],
      "metadata": {
        "id": "J9TWPC47I8WW"
      },
      "id": "J9TWPC47I8WW",
      "execution_count": null,
      "outputs": []
    },
    {
      "cell_type": "code",
      "source": [
        "# Load the saved model\n",
        "\n",
        "loaded_model = load_model(\"pet_expressions_model.h5\")"
      ],
      "metadata": {
        "id": "OI2oPULfH34N"
      },
      "id": "OI2oPULfH34N",
      "execution_count": null,
      "outputs": []
    },
    {
      "cell_type": "code",
      "source": [
        "# Function to load and preprocess images\n",
        "\n",
        "def load_images_from_folder(folder):\n",
        "    images = []\n",
        "    for filename in os.listdir(folder):\n",
        "        img = cv2.imread(os.path.join(folder, filename))\n",
        "        if img is not None:\n",
        "            img = cv2.cvtColor(img, cv2.COLOR_BGR2GRAY)\n",
        "            img = cv2.resize(img, (48, 48))  # Resize to a fixed size for the model\n",
        "            images.append(img)\n",
        "    return images"
      ],
      "metadata": {
        "id": "vApWzW3iIBOL"
      },
      "id": "vApWzW3iIBOL",
      "execution_count": null,
      "outputs": []
    },
    {
      "cell_type": "code",
      "source": [
        "# Load a custom test image\n",
        "\n",
        "custom_test_image_path = \"/kaggle/input/pets-facial-expression-dataset/Angry/16924834.jpg\"\n",
        "\n",
        "custom_test_image = cv2.imread(custom_test_image_path)\n",
        "custom_test_image = cv2.cvtColor(custom_test_image, cv2.COLOR_BGR2GRAY)\n",
        "custom_test_image = cv2.resize(custom_test_image, (48, 48))\n",
        "custom_test_image = custom_test_image.astype('float32') / 255.0"
      ],
      "metadata": {
        "id": "G2hJ_t8uIBXv"
      },
      "id": "G2hJ_t8uIBXv",
      "execution_count": null,
      "outputs": []
    },
    {
      "cell_type": "code",
      "source": [
        "# Reshape the image to match the model input shape\n",
        "\n",
        "custom_test_image = np.expand_dims(custom_test_image, axis=0)\n",
        "custom_test_image = np.expand_dims(custom_test_image, axis=-1)"
      ],
      "metadata": {
        "id": "zoagi0XAIBhH"
      },
      "id": "zoagi0XAIBhH",
      "execution_count": null,
      "outputs": []
    },
    {
      "cell_type": "code",
      "source": [
        "# Make predictions on the custom test image\n",
        "\n",
        "prediction = loaded_model.predict(custom_test_image)\n",
        "prediction_prob = prediction[0]"
      ],
      "metadata": {
        "id": "r39cICOXIBqP"
      },
      "id": "r39cICOXIBqP",
      "execution_count": null,
      "outputs": []
    },
    {
      "cell_type": "code",
      "source": [
        "emotion_label = np.argmax(prediction[0])"
      ],
      "metadata": {
        "id": "4QkEWBRMIBzy"
      },
      "id": "4QkEWBRMIBzy",
      "execution_count": null,
      "outputs": []
    },
    {
      "cell_type": "code",
      "source": [
        "# Map the predicted label to emotion class\n",
        "\n",
        "emotion_classes = {0: 'happy', 1: 'sad', 2: 'angry'}\n",
        "predicted_emotion = emotion_classes[emotion_label]"
      ],
      "metadata": {
        "id": "CiimcfpxH4CD"
      },
      "id": "CiimcfpxH4CD",
      "execution_count": null,
      "outputs": []
    },
    {
      "cell_type": "code",
      "source": [
        "# Print the custom test image and its predicted label\n",
        "\n",
        "print(f\"Predicted Emotion: {predicted_emotion}\")\n",
        "print(f\"Confidence [happy, sad, angry]: {prediction_prob}\")"
      ],
      "metadata": {
        "id": "MF1XmXXHImD9"
      },
      "id": "MF1XmXXHImD9",
      "execution_count": null,
      "outputs": []
    },
    {
      "cell_type": "code",
      "source": [
        "#Display the custom test image using matplotlib\n",
        "\n",
        "plt.imshow(custom_test_image[0, :, :, 0])\n",
        "plt.title(f\"Predicted Emotion: {predicted_emotion}\")\n",
        "plt.axis('off')  # Hide axes\n",
        "plt.show()"
      ],
      "metadata": {
        "id": "25M2Dw8nImNk"
      },
      "id": "25M2Dw8nImNk",
      "execution_count": null,
      "outputs": []
    },
    {
      "cell_type": "code",
      "source": [
        "# Display the original custom test image using PIL\n",
        "\n",
        "img_pil = Image.open(custom_test_image_path)\n",
        "plt.imshow(np.array(img_pil))\n",
        "plt.title(f\"Predicted Emotion: {predicted_emotion}\")\n",
        "plt.axis('off')  # Hide axes\n",
        "plt.show()"
      ],
      "metadata": {
        "id": "VgZQk-xoImVE"
      },
      "id": "VgZQk-xoImVE",
      "execution_count": null,
      "outputs": []
    }
  ],
  "metadata": {
    "kernelspec": {
      "display_name": "Python 3 (ipykernel)",
      "language": "python",
      "name": "python3"
    },
    "language_info": {
      "codemirror_mode": {
        "name": "ipython",
        "version": 3
      },
      "file_extension": ".py",
      "mimetype": "text/x-python",
      "name": "python",
      "nbconvert_exporter": "python",
      "pygments_lexer": "ipython3",
      "version": "3.9.13"
    },
    "colab": {
      "provenance": []
    }
  },
  "nbformat": 4,
  "nbformat_minor": 5
}