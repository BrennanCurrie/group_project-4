{
 "cells": [
  {
   "cell_type": "code",
   "execution_count": null,
   "id": "be38e936",
   "metadata": {},
   "outputs": [],
   "source": [
    "import Augmentor"
   ]
  },
  {
   "cell_type": "code",
   "execution_count": null,
   "id": "e1419b24",
   "metadata": {},
   "outputs": [],
   "source": [
    "# Set up Google Drive\n",
    "from google.colab import drive\n",
    "drive.mount('/content/drive')\n",
    "\n",
    "# Change Directory\n",
    "%cd /content/drive/MyDrive/pet_expressions_data"
   ]
  },
  {
   "cell_type": "code",
   "execution_count": null,
   "id": "ff9029b3",
   "metadata": {},
   "outputs": [],
   "source": [
    "# Happy Folder Image Augmentation\n",
    "import Augmentor\n",
    "\n",
    "# p = Augmentor.Pipeline(r'/content/drive/MyDrive/pet_expressions_data/happy')\n",
    "# p.zoom(probability=0.4, min_factor=0.8,max_factor=1.5)\n",
    "# p.flip_top_bottom(probability=0.4)\n",
    "# p.random_brightness(probability=0.3,min_factor=0.3,max_factor=1.2)\n",
    "# p.random_distortion(probability=1,grid_width=4,grid_height=4,magnitude=8)\n",
    "# p.sample(200)"
   ]
  },
  {
   "cell_type": "code",
   "execution_count": null,
   "id": "df6e9154",
   "metadata": {},
   "outputs": [],
   "source": [
    "# Sad Folder Image Augmentation\n",
    "\n",
    "# p = Augmentor.Pipeline(r'/content/drive/MyDrive/pet_expressions_data/sad')\n",
    "# p.zoom(probability=0.4, min_factor=0.8,max_factor=1.5)\n",
    "# p.flip_top_bottom(probability=0.4)\n",
    "# p.random_brightness(probability=0.3,min_factor=0.3,max_factor=1.2)\n",
    "# p.random_distortion(probability=1,grid_width=4,grid_height=4,magnitude=8)\n",
    "# p.sample(200)"
   ]
  },
  {
   "cell_type": "code",
   "execution_count": null,
   "id": "1cfc3b96",
   "metadata": {},
   "outputs": [],
   "source": [
    "# Angry Folder Image Augmentation \n",
    "\n",
    "# p = Augmentor.Pipeline(r'/content/drive/MyDrive/pet_expressions_data/angry')\n",
    "# p.zoom(probability=0.4, min_factor=0.8,max_factor=1.5)\n",
    "# p.flip_top_bottom(probability=0.4)\n",
    "# p.random_brightness(probability=0.3,min_factor=0.3,max_factor=1.2)\n",
    "# p.random_distortion(probability=1,grid_width=4,grid_height=4,magnitude=8)\n",
    "# p.sample(200)"
   ]
  },
  {
   "cell_type": "code",
   "execution_count": null,
   "id": "e38722a9",
   "metadata": {},
   "outputs": [],
   "source": [
    "# Other Folder Image Augmentation\n",
    "\n",
    "# p = Augmentor.Pipeline(r'/content/drive/MyDrive/pet_expressions_data/other')\n",
    "# p.zoom(probability=0.4, min_factor=0.8,max_factor=1.5)\n",
    "# p.flip_top_bottom(probability=0.4)\n",
    "# p.random_brightness(probability=0.3,min_factor=0.3,max_factor=1.2)\n",
    "# p.random_distortion(probability=1,grid_width=4,grid_height=4,magnitude=8)\n",
    "#p.sample(200)"
   ]
  }
 ],
 "metadata": {
  "kernelspec": {
   "display_name": "Python 3 (ipykernel)",
   "language": "python",
   "name": "python3"
  },
  "language_info": {
   "codemirror_mode": {
    "name": "ipython",
    "version": 3
   },
   "file_extension": ".py",
   "mimetype": "text/x-python",
   "name": "python",
   "nbconvert_exporter": "python",
   "pygments_lexer": "ipython3",
   "version": "3.9.13"
  }
 },
 "nbformat": 4,
 "nbformat_minor": 5
}
